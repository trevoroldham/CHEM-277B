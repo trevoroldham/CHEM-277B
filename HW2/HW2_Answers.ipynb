{
 "cells": [
  {
   "cell_type": "markdown",
   "id": "48e2bea5",
   "metadata": {},
   "source": [
    "# CHEM277B Homework 2\n",
    "### Trevor Oldham\n",
    "### UC Berkeley CoC"
   ]
  },
  {
   "cell_type": "markdown",
   "id": "bfd8df39",
   "metadata": {},
   "source": [
    "### Problem 1\n",
    "#### Importing Libaries"
   ]
  },
  {
   "cell_type": "code",
   "execution_count": 1,
   "id": "7dca069c",
   "metadata": {},
   "outputs": [],
   "source": [
    "import numpy as np\n",
    "import matplotlib.pyplot as plt\n",
    "import math"
   ]
  },
  {
   "cell_type": "markdown",
   "id": "41fb4688",
   "metadata": {},
   "source": [
    "#### Function Definition"
   ]
  },
  {
   "cell_type": "code",
   "execution_count": 2,
   "id": "b3b71bb8",
   "metadata": {},
   "outputs": [],
   "source": [
    "def schwefel(x):\n",
    "    return 418.9829*len(x) - np.sum(x*np.sin([(np.power(abs(x), [0.5]))]))"
   ]
  },
  {
   "cell_type": "code",
   "execution_count": 3,
   "id": "d0d2682c",
   "metadata": {},
   "outputs": [
    {
     "name": "stdout",
     "output_type": "stream",
     "text": [
      "[ 164.06669666 -351.21235073  137.87670544 -223.50274351   -1.17488227\n",
      "  -95.97841201   45.1296303  -479.69762439   80.50953893  251.0819775 ]\n"
     ]
    },
    {
     "data": {
      "text/plain": [
       "4356.238421130017"
      ]
     },
     "execution_count": 3,
     "metadata": {},
     "output_type": "execute_result"
    }
   ],
   "source": [
    "#testing schwefel function\n",
    "np.random.seed(84320320)\n",
    "x = np.random.rand(10)\n",
    "x = 500 - 1000*x\n",
    "print(x)\n",
    "schwefel(x)"
   ]
  },
  {
   "cell_type": "markdown",
   "id": "c4d9b6ce",
   "metadata": {},
   "source": [
    "### (A)"
   ]
  },
  {
   "cell_type": "code",
   "execution_count": 4,
   "id": "c350f2d9",
   "metadata": {},
   "outputs": [],
   "source": [
    "def SA(solution,evaluation,delta,boundary,cooling_schedule):\n",
    "    \"\"\" Simulated Annealing for minimization\n",
    "    solution: np.array. Initial guess of solution\n",
    "    evaluation: func. Function to evaluate solution\n",
    "    delta: float. Magnitude of random displacement\n",
    "    boundary: array of int/float. [lowerbound,upperbound]\n",
    "    cooling_schedule: np.array. An array of tempretures for simulated annealing\n",
    "    \"\"\"\n",
    "    k = 1\n",
    "    best_solution=solution.copy()\n",
    "    lowest_eval=evaluation(best_solution)\n",
    "    for idx,temp in enumerate(cooling_schedule):\n",
    "        if idx%500==0:\n",
    "            print(\"%d/%d   temp:%f\"%(idx,len(cooling_schedule),temp))\n",
    "        for n in range(len(solution)):\n",
    "            trial=solution.copy()\n",
    "            trial[n]+=delta*(2*np.random.random()-1)\n",
    "            if trial[n]>=boundary[0] and trial[n]<=boundary[1]:\n",
    "                #fill in acceptance criterion\n",
    "                beta = 1/(k*temp)\n",
    "                urn = np.random.random()\n",
    "                p_accept = min(1, math.exp(-beta*(evaluation(trial) - evaluation(solution))))\n",
    "                if p_accept == 1 or urn < p_accept:\n",
    "                    solution=trial\n",
    "                    if evaluation(solution)<lowest_eval:\n",
    "                        #update solution here\n",
    "                        best_solution = solution\n",
    "                        lowest_eval = evaluation(best_solution)\n",
    "    return {\"solution\":best_solution,\"evaluation\":lowest_eval}"
   ]
  },
  {
   "cell_type": "code",
   "execution_count": 5,
   "id": "daa82170",
   "metadata": {},
   "outputs": [],
   "source": [
    "#defining a function to generate a linear cooling schedule\n",
    "def cooling_schedule_linear(start_temp, end_temp):\n",
    "    t = start_temp;\n",
    "    tsa_array = list([t])\n",
    "    while t > end_temp:\n",
    "        t = t - 0.5\n",
    "        tsa_array.append(t)\n",
    "    return np.asarray(tsa_array)\n"
   ]
  },
  {
   "cell_type": "code",
   "execution_count": 6,
   "id": "49f748ae",
   "metadata": {},
   "outputs": [
    {
     "data": {
      "text/plain": [
       "array([3000. , 2999.5, 2999. , ...,   11. ,   10.5,   10. ])"
      ]
     },
     "execution_count": 6,
     "metadata": {},
     "output_type": "execute_result"
    }
   ],
   "source": [
    "#setting the cooling schedule 1 and 2\n",
    "cooling_1 = cooling_schedule_linear(3000, 30)\n",
    "cooling_1\n",
    "\n",
    "cooling_2 = cooling_schedule_linear(3000, 10)\n",
    "cooling_2"
   ]
  },
  {
   "cell_type": "code",
   "execution_count": 7,
   "id": "8fa3c2ff",
   "metadata": {},
   "outputs": [
    {
     "name": "stdout",
     "output_type": "stream",
     "text": [
      "[ 413.46980319 -102.44598767  454.25940124    6.47836124  268.21935103\n",
      "   18.32382419 -214.11578832  206.2688498  -439.51655197 -466.30688437]\n"
     ]
    },
    {
     "data": {
      "text/plain": [
       "4150.342666041169"
      ]
     },
     "execution_count": 7,
     "metadata": {},
     "output_type": "execute_result"
    }
   ],
   "source": [
    "#setting delta and boundary conditions\n",
    "delta = 0.5\n",
    "boundary = [-500, 500]\n",
    "\n",
    "#setting x vector for starting point\n",
    "x = np.random.rand(10)\n",
    "x = 500 - 1000*x\n",
    "print(x)\n",
    "schwefel(x)"
   ]
  },
  {
   "cell_type": "code",
   "execution_count": 8,
   "id": "24881d9f",
   "metadata": {},
   "outputs": [
    {
     "name": "stdout",
     "output_type": "stream",
     "text": [
      "0/5941   temp:3000.000000\n",
      "500/5941   temp:2750.000000\n",
      "1000/5941   temp:2500.000000\n",
      "1500/5941   temp:2250.000000\n",
      "2000/5941   temp:2000.000000\n",
      "2500/5941   temp:1750.000000\n",
      "3000/5941   temp:1500.000000\n",
      "3500/5941   temp:1250.000000\n",
      "4000/5941   temp:1000.000000\n",
      "4500/5941   temp:750.000000\n",
      "5000/5941   temp:500.000000\n",
      "5500/5941   temp:250.000000\n"
     ]
    },
    {
     "data": {
      "text/plain": [
       "{'solution': array([ 420.54535877, -107.6033961 ,  454.61746994,  -11.77635797,\n",
       "         267.86698683,   10.33342612, -207.75858815,  201.71195015,\n",
       "        -442.73738255, -465.36887298]),\n",
       " 'evaluation': 4110.570531693231}"
      ]
     },
     "execution_count": 8,
     "metadata": {},
     "output_type": "execute_result"
    }
   ],
   "source": [
    "#running the simulated annealing function with first cooling schedule 3 times\n",
    "SA(x,schwefel,delta,boundary,cooling_1)"
   ]
  },
  {
   "cell_type": "code",
   "execution_count": 9,
   "id": "1e3ea7af",
   "metadata": {},
   "outputs": [
    {
     "name": "stdout",
     "output_type": "stream",
     "text": [
      "0/5941   temp:3000.000000\n",
      "500/5941   temp:2750.000000\n",
      "1000/5941   temp:2500.000000\n",
      "1500/5941   temp:2250.000000\n",
      "2000/5941   temp:2000.000000\n",
      "2500/5941   temp:1750.000000\n",
      "3000/5941   temp:1500.000000\n",
      "3500/5941   temp:1250.000000\n",
      "4000/5941   temp:1000.000000\n",
      "4500/5941   temp:750.000000\n",
      "5000/5941   temp:500.000000\n",
      "5500/5941   temp:250.000000\n"
     ]
    },
    {
     "data": {
      "text/plain": [
       "{'solution': array([ 424.70326129, -110.32702021,  423.64608355,  -10.36154531,\n",
       "         253.84715884,    6.64858586, -228.0251819 ,  200.81515143,\n",
       "        -455.99349353, -482.57095924]),\n",
       " 'evaluation': 3521.6105354568244}"
      ]
     },
     "execution_count": 9,
     "metadata": {},
     "output_type": "execute_result"
    }
   ],
   "source": [
    "SA(x,schwefel,delta,boundary,cooling_1)"
   ]
  },
  {
   "cell_type": "code",
   "execution_count": 10,
   "id": "eee80cb9",
   "metadata": {},
   "outputs": [
    {
     "name": "stdout",
     "output_type": "stream",
     "text": [
      "0/5941   temp:3000.000000\n",
      "500/5941   temp:2750.000000\n",
      "1000/5941   temp:2500.000000\n",
      "1500/5941   temp:2250.000000\n",
      "2000/5941   temp:2000.000000\n",
      "2500/5941   temp:1750.000000\n",
      "3000/5941   temp:1500.000000\n",
      "3500/5941   temp:1250.000000\n",
      "4000/5941   temp:1000.000000\n",
      "4500/5941   temp:750.000000\n",
      "5000/5941   temp:500.000000\n",
      "5500/5941   temp:250.000000\n"
     ]
    },
    {
     "data": {
      "text/plain": [
       "{'solution': array([ 419.2443765 ,  -98.70646143,  449.34052457,  -24.24788298,\n",
       "         243.28861969,   19.29530961, -188.66436837,  192.55898783,\n",
       "        -443.23011946, -457.38739437]),\n",
       " 'evaluation': 3975.557186565918}"
      ]
     },
     "execution_count": 10,
     "metadata": {},
     "output_type": "execute_result"
    }
   ],
   "source": [
    "SA(x,schwefel,delta,boundary,cooling_1)"
   ]
  },
  {
   "cell_type": "code",
   "execution_count": 11,
   "id": "c7f3944d",
   "metadata": {},
   "outputs": [
    {
     "name": "stdout",
     "output_type": "stream",
     "text": [
      "0/5981   temp:3000.000000\n",
      "500/5981   temp:2750.000000\n",
      "1000/5981   temp:2500.000000\n",
      "1500/5981   temp:2250.000000\n",
      "2000/5981   temp:2000.000000\n",
      "2500/5981   temp:1750.000000\n",
      "3000/5981   temp:1500.000000\n",
      "3500/5981   temp:1250.000000\n",
      "4000/5981   temp:1000.000000\n",
      "4500/5981   temp:750.000000\n",
      "5000/5981   temp:500.000000\n",
      "5500/5981   temp:250.000000\n"
     ]
    },
    {
     "data": {
      "text/plain": [
       "{'solution': array([ 414.82747161,  -71.48955706,  418.74894422,   38.0055785 ,\n",
       "         240.17564994,  -11.19733027, -245.32248657,  223.38977796,\n",
       "        -450.35345148, -473.35044708]),\n",
       " 'evaluation': 3648.523880129394}"
      ]
     },
     "execution_count": 11,
     "metadata": {},
     "output_type": "execute_result"
    }
   ],
   "source": [
    "#running the simulated annealing function with second cooling schedule 3 times\n",
    "SA(x,schwefel,delta,boundary,cooling_2)"
   ]
  },
  {
   "cell_type": "code",
   "execution_count": 12,
   "id": "1b5e8cf9",
   "metadata": {},
   "outputs": [
    {
     "name": "stdout",
     "output_type": "stream",
     "text": [
      "0/5981   temp:3000.000000\n",
      "500/5981   temp:2750.000000\n",
      "1000/5981   temp:2500.000000\n",
      "1500/5981   temp:2250.000000\n",
      "2000/5981   temp:2000.000000\n",
      "2500/5981   temp:1750.000000\n",
      "3000/5981   temp:1500.000000\n",
      "3500/5981   temp:1250.000000\n",
      "4000/5981   temp:1000.000000\n",
      "4500/5981   temp:750.000000\n",
      "5000/5981   temp:500.000000\n",
      "5500/5981   temp:250.000000\n"
     ]
    },
    {
     "data": {
      "text/plain": [
       "{'solution': array([ 397.95644995,  -45.96171229,  422.28607782,   11.00637004,\n",
       "         265.58304576,    6.81609813, -239.64000416,  206.06046415,\n",
       "        -441.1403418 , -469.78228441]),\n",
       " 'evaluation': 3951.8382603554255}"
      ]
     },
     "execution_count": 12,
     "metadata": {},
     "output_type": "execute_result"
    }
   ],
   "source": [
    "SA(x,schwefel,delta,boundary,cooling_2)"
   ]
  },
  {
   "cell_type": "code",
   "execution_count": 13,
   "id": "e8307a89",
   "metadata": {},
   "outputs": [
    {
     "name": "stdout",
     "output_type": "stream",
     "text": [
      "0/5981   temp:3000.000000\n",
      "500/5981   temp:2750.000000\n",
      "1000/5981   temp:2500.000000\n",
      "1500/5981   temp:2250.000000\n",
      "2000/5981   temp:2000.000000\n",
      "2500/5981   temp:1750.000000\n",
      "3000/5981   temp:1500.000000\n",
      "3500/5981   temp:1250.000000\n",
      "4000/5981   temp:1000.000000\n",
      "4500/5981   temp:750.000000\n",
      "5000/5981   temp:500.000000\n",
      "5500/5981   temp:250.000000\n"
     ]
    },
    {
     "data": {
      "text/plain": [
       "{'solution': array([ 424.73966429, -117.7244095 ,  445.82669176,    9.49371144,\n",
       "         265.41174164,   36.49145358, -206.16906912,  205.82552857,\n",
       "        -447.29960798, -466.03731498]),\n",
       " 'evaluation': 3984.212013032938}"
      ]
     },
     "execution_count": 13,
     "metadata": {},
     "output_type": "execute_result"
    }
   ],
   "source": [
    "SA(x,schwefel,delta,boundary,cooling_2)"
   ]
  },
  {
   "cell_type": "markdown",
   "id": "01ade8ff",
   "metadata": {},
   "source": [
    "The CSA algorithm is run three times for each linear cooling schedule starting from the same starting point x which is generated randomly. The algorithm returns a different evaluation at the end of each run, but examination of the end vector shows that the end vector is relatively close to the starting vector, and each time the algorithm is run returns vectors that are close to one another in most dimensions except for a few. One could try running the algorithm from different starting points to achieve more results which could be more effective in finding the global minimum. Cooling to a lower temperature results in evaluations which are closer to one another, at least from a cursory analysis of the three examples. Each algorith has the potential to get trapped in a local minimum, which can be tuned by finding a more appropriate value for the hyperparameter k. Previously, I had used k = 1/start_temp and found it to be more effective in finding smaller minima but in these examples I used k = 1."
   ]
  },
  {
   "cell_type": "markdown",
   "id": "359b1f30",
   "metadata": {},
   "source": [
    "### (B)"
   ]
  },
  {
   "cell_type": "code",
   "execution_count": 14,
   "id": "9b795769",
   "metadata": {},
   "outputs": [],
   "source": [
    "#defining a function to generate a logarithmic cooling schedule\n",
    "def cooling_schedule_log(start_temp, sigma, count):\n",
    "    t = start_temp;\n",
    "    k = 1\n",
    "    tsa_array = list([t])\n",
    "    while k < count:\n",
    "        t = start_temp/(1 + start_temp * math.log(1 + k)/(3*sigma))\n",
    "        tsa_array.append(t)\n",
    "        k += 1\n",
    "    return np.asarray(tsa_array)"
   ]
  },
  {
   "cell_type": "code",
   "execution_count": 15,
   "id": "9bc88ff4",
   "metadata": {},
   "outputs": [
    {
     "name": "stdout",
     "output_type": "stream",
     "text": [
      "[3000.         1771.84832745 1429.51607412 ...  309.30445456  309.29913836\n",
      "  309.29382324]\n",
      "[6000.         2514.35870518 1876.6276359  ...  326.1159752   326.1100654\n",
      "  326.10415681]\n"
     ]
    }
   ],
   "source": [
    "#setting the cooling schedule 1 and 2\n",
    "log_cooling_1 = cooling_schedule_log(3000, 1000, 6000)\n",
    "print(log_cooling_1)\n",
    "\n",
    "log_cooling_2 = cooling_schedule_log(6000, 1000, 6000)\n",
    "print(log_cooling_2)"
   ]
  },
  {
   "cell_type": "code",
   "execution_count": 16,
   "id": "7895fc87",
   "metadata": {},
   "outputs": [
    {
     "name": "stdout",
     "output_type": "stream",
     "text": [
      "0/6000   temp:3000.000000\n",
      "500/6000   temp:415.707877\n",
      "1000/6000   temp:379.326466\n",
      "1500/6000   temp:360.842054\n",
      "2000/6000   temp:348.780336\n",
      "2500/6000   temp:339.964687\n",
      "3000/6000   temp:333.085339\n",
      "3500/6000   temp:327.482176\n",
      "4000/6000   temp:322.778491\n",
      "4500/6000   temp:318.740173\n",
      "5000/6000   temp:315.212364\n",
      "5500/6000   temp:312.087616\n"
     ]
    },
    {
     "data": {
      "text/plain": [
       "{'solution': array([ 406.6341022 , -123.92143031,  428.38740178,    7.06994816,\n",
       "         278.74761155,   27.44883576, -229.51863783,  208.23619756,\n",
       "        -470.95041306, -465.10331868]),\n",
       " 'evaluation': 3763.184715827042}"
      ]
     },
     "execution_count": 16,
     "metadata": {},
     "output_type": "execute_result"
    }
   ],
   "source": [
    "SA(x,schwefel,delta,boundary,log_cooling_1)"
   ]
  },
  {
   "cell_type": "code",
   "execution_count": 17,
   "id": "ee8cff0e",
   "metadata": {},
   "outputs": [
    {
     "name": "stdout",
     "output_type": "stream",
     "text": [
      "0/6000   temp:3000.000000\n",
      "500/6000   temp:415.707877\n",
      "1000/6000   temp:379.326466\n",
      "1500/6000   temp:360.842054\n",
      "2000/6000   temp:348.780336\n",
      "2500/6000   temp:339.964687\n",
      "3000/6000   temp:333.085339\n",
      "3500/6000   temp:327.482176\n",
      "4000/6000   temp:322.778491\n",
      "4500/6000   temp:318.740173\n",
      "5000/6000   temp:315.212364\n",
      "5500/6000   temp:312.087616\n"
     ]
    },
    {
     "data": {
      "text/plain": [
       "{'solution': array([ 402.38419716, -100.27686785,  454.18902261,    5.57254254,\n",
       "         258.08338327,    5.06908684, -195.87325346,  213.78687954,\n",
       "        -429.91024963, -473.54152474]),\n",
       " 'evaluation': 4076.213454473056}"
      ]
     },
     "execution_count": 17,
     "metadata": {},
     "output_type": "execute_result"
    }
   ],
   "source": [
    "SA(x,schwefel,delta,boundary,log_cooling_1)"
   ]
  },
  {
   "cell_type": "code",
   "execution_count": 18,
   "id": "dcf77a52",
   "metadata": {},
   "outputs": [
    {
     "name": "stdout",
     "output_type": "stream",
     "text": [
      "0/6000   temp:3000.000000\n",
      "500/6000   temp:415.707877\n",
      "1000/6000   temp:379.326466\n",
      "1500/6000   temp:360.842054\n",
      "2000/6000   temp:348.780336\n",
      "2500/6000   temp:339.964687\n",
      "3000/6000   temp:333.085339\n",
      "3500/6000   temp:327.482176\n",
      "4000/6000   temp:322.778491\n",
      "4500/6000   temp:318.740173\n",
      "5000/6000   temp:315.212364\n",
      "5500/6000   temp:312.087616\n"
     ]
    },
    {
     "data": {
      "text/plain": [
       "{'solution': array([ 4.01882530e+02, -1.24225709e+02,  4.57772711e+02,  1.46959785e+01,\n",
       "         2.60547074e+02,  1.53282378e-01, -2.23224705e+02,  1.97888058e+02,\n",
       "        -4.12529227e+02, -4.74044009e+02]),\n",
       " 'evaluation': 4025.1873520609447}"
      ]
     },
     "execution_count": 18,
     "metadata": {},
     "output_type": "execute_result"
    }
   ],
   "source": [
    "SA(x,schwefel,delta,boundary,log_cooling_1)"
   ]
  },
  {
   "cell_type": "code",
   "execution_count": 19,
   "id": "385680f3",
   "metadata": {},
   "outputs": [
    {
     "name": "stdout",
     "output_type": "stream",
     "text": [
      "0/6000   temp:6000.000000\n",
      "500/6000   temp:446.654152\n",
      "1000/6000   temp:404.926346\n",
      "1500/6000   temp:383.931847\n",
      "2000/6000   temp:370.306260\n",
      "2500/6000   temp:360.384346\n",
      "3000/6000   temp:352.663160\n",
      "3500/6000   temp:346.388168\n",
      "4000/6000   temp:341.130065\n",
      "4500/6000   temp:336.622703\n",
      "5000/6000   temp:332.690384\n",
      "5500/6000   temp:329.211417\n"
     ]
    },
    {
     "data": {
      "text/plain": [
       "{'solution': array([ 399.23383328, -107.24389379,  442.14529847,   14.69258308,\n",
       "         257.10659627,   -0.95182815, -229.35412489,  206.65850661,\n",
       "        -429.29958083, -471.44656832]),\n",
       " 'evaluation': 3933.4118613741466}"
      ]
     },
     "execution_count": 19,
     "metadata": {},
     "output_type": "execute_result"
    }
   ],
   "source": [
    "SA(x,schwefel,delta,boundary,log_cooling_2)"
   ]
  },
  {
   "cell_type": "code",
   "execution_count": 20,
   "id": "6d52b54e",
   "metadata": {},
   "outputs": [
    {
     "name": "stdout",
     "output_type": "stream",
     "text": [
      "0/6000   temp:6000.000000\n",
      "500/6000   temp:446.654152\n",
      "1000/6000   temp:404.926346\n",
      "1500/6000   temp:383.931847\n",
      "2000/6000   temp:370.306260\n",
      "2500/6000   temp:360.384346\n",
      "3000/6000   temp:352.663160\n",
      "3500/6000   temp:346.388168\n",
      "4000/6000   temp:341.130065\n",
      "4500/6000   temp:336.622703\n",
      "5000/6000   temp:332.690384\n",
      "5500/6000   temp:329.211417\n"
     ]
    },
    {
     "data": {
      "text/plain": [
       "{'solution': array([ 420.615017  , -106.75588164,  463.16287094,    0.66418491,\n",
       "         263.10159369,   28.86355889, -217.97001616,  210.8916526 ,\n",
       "        -437.69186665, -476.43146887]),\n",
       " 'evaluation': 4071.092074478058}"
      ]
     },
     "execution_count": 20,
     "metadata": {},
     "output_type": "execute_result"
    }
   ],
   "source": [
    "SA(x,schwefel,delta,boundary,log_cooling_2)"
   ]
  },
  {
   "cell_type": "code",
   "execution_count": 21,
   "id": "28b890d7",
   "metadata": {},
   "outputs": [
    {
     "name": "stdout",
     "output_type": "stream",
     "text": [
      "0/6000   temp:6000.000000\n",
      "500/6000   temp:446.654152\n",
      "1000/6000   temp:404.926346\n",
      "1500/6000   temp:383.931847\n",
      "2000/6000   temp:370.306260\n",
      "2500/6000   temp:360.384346\n",
      "3000/6000   temp:352.663160\n",
      "3500/6000   temp:346.388168\n",
      "4000/6000   temp:341.130065\n",
      "4500/6000   temp:336.622703\n",
      "5000/6000   temp:332.690384\n",
      "5500/6000   temp:329.211417\n"
     ]
    },
    {
     "data": {
      "text/plain": [
       "{'solution': array([ 404.25268707, -112.7817866 ,  443.37479593,  -13.22214513,\n",
       "         260.60179414,   39.15493297, -210.77611526,  212.89889833,\n",
       "        -438.8585259 , -481.43106325]),\n",
       " 'evaluation': 3855.56981921827}"
      ]
     },
     "execution_count": 21,
     "metadata": {},
     "output_type": "execute_result"
    }
   ],
   "source": [
    "SA(x,schwefel,delta,boundary,log_cooling_2)"
   ]
  },
  {
   "cell_type": "markdown",
   "id": "85c68b6b",
   "metadata": {},
   "source": [
    "The logarithmic cooling schedule does not reach as low a temperature as the linear cooling, as it seems to cool very fast in the first 500 iterations and then approaches an asymptote around 329, so in later iterations there is less temperature change even though the final temperature is higher than in the linear cooling schedule shown above. It may be a result of random chance but it seems that with the logarithmic cooling schedule the evaluation at the final point is averaging higher than with linear cooling. I wonder if this could be changed by experimenting with the parameter sigma, or by varying the starting point randomly. "
   ]
  },
  {
   "cell_type": "markdown",
   "id": "fd7b249b",
   "metadata": {},
   "source": [
    "### (C)\n",
    "\n",
    "For the custom cooling function I created a function which has upwards concavity and approaches the value of temperature 30K while oscillating at a lower magnitude as temperature approaches 30K.\n",
    "\n",
    "$$ y = \\frac{50000}{x+10} - \\frac{5000\\sin{\\frac{x}{10}}}{x+1} + 30 $$\n"
   ]
  },
  {
   "cell_type": "code",
   "execution_count": 22,
   "id": "9d08d493",
   "metadata": {},
   "outputs": [],
   "source": [
    "#defining a function to generate a logarithmic cooling schedule\n",
    "def custom(x):\n",
    "    return np.array((50000/(x+10)) - (5000*np.sin(x/10))/(x+1) + 30)\n"
   ]
  },
  {
   "cell_type": "code",
   "execution_count": 23,
   "id": "f7ed29d9",
   "metadata": {},
   "outputs": [
    {
     "data": {
      "text/plain": [
       "[<matplotlib.lines.Line2D at 0x7f875b66f7c0>]"
      ]
     },
     "execution_count": 23,
     "metadata": {},
     "output_type": "execute_result"
    },
    {
     "data": {
      "image/png": "[encoded data removed]",
      "text/plain": [
       "<Figure size 432x288 with 1 Axes>"
      ]
     },
     "metadata": {
      "needs_background": "light"
     },
     "output_type": "display_data"
    }
   ],
   "source": [
    "x_range = np.linspace(0, 5000, 100)\n",
    "y_range = custom(x_range)\n",
    "plt.plot(x_range, y_range)"
   ]
  },
  {
   "cell_type": "code",
   "execution_count": 24,
   "id": "35f57896",
   "metadata": {},
   "outputs": [
    {
     "data": {
      "text/plain": [
       "array([5030.        , 4325.78146131, 3865.4177002 , ...,   38.12069603,\n",
       "         38.2010905 ,   38.28265498])"
      ]
     },
     "execution_count": 24,
     "metadata": {},
     "output_type": "execute_result"
    }
   ],
   "source": [
    "vec = np.linspace(0, 6000, 6000)\n",
    "cooling_custom = custom(vec)\n",
    "cooling_custom"
   ]
  },
  {
   "cell_type": "code",
   "execution_count": 25,
   "id": "78e0f05e",
   "metadata": {},
   "outputs": [
    {
     "name": "stdout",
     "output_type": "stream",
     "text": [
      "0/6000   temp:5030.000000\n",
      "500/6000   temp:130.560929\n",
      "1000/6000   temp:81.953523\n",
      "1500/6000   temp:65.429068\n",
      "2000/6000   temp:57.011502\n",
      "2500/6000   temp:51.835216\n",
      "3000/6000   temp:48.273721\n",
      "3500/6000   temp:45.633218\n",
      "4000/6000   temp:43.571330\n",
      "4500/6000   temp:41.902181\n",
      "5000/6000   temp:40.517911\n",
      "5500/6000   temp:39.352697\n"
     ]
    },
    {
     "data": {
      "text/plain": [
       "{'solution': array([ 423.1653878 ,  -99.28972227,  439.71552238,  -14.66407713,\n",
       "         239.67723403,  -20.0583951 , -243.75469702,  223.14155351,\n",
       "        -494.99831244, -497.18099982]),\n",
       " 'evaluation': 2854.588628521245}"
      ]
     },
     "execution_count": 25,
     "metadata": {},
     "output_type": "execute_result"
    }
   ],
   "source": [
    "SA(x,schwefel,delta,boundary,cooling_custom)"
   ]
  },
  {
   "cell_type": "code",
   "execution_count": 26,
   "id": "1fdd1196",
   "metadata": {},
   "outputs": [
    {
     "name": "stdout",
     "output_type": "stream",
     "text": [
      "0/6000   temp:5030.000000\n",
      "500/6000   temp:130.560929\n",
      "1000/6000   temp:81.953523\n",
      "1500/6000   temp:65.429068\n",
      "2000/6000   temp:57.011502\n",
      "2500/6000   temp:51.835216\n",
      "3000/6000   temp:48.273721\n",
      "3500/6000   temp:45.633218\n",
      "4000/6000   temp:43.571330\n",
      "4500/6000   temp:41.902181\n",
      "5000/6000   temp:40.517911\n",
      "5500/6000   temp:39.352697\n"
     ]
    },
    {
     "data": {
      "text/plain": [
       "{'solution': array([ 397.73169867, -127.14727917,  435.55592072,   26.33678673,\n",
       "         221.94295621,   55.71646164, -231.30123687,  175.22989652,\n",
       "        -443.64652041, -490.97850097]),\n",
       " 'evaluation': 3409.210329868029}"
      ]
     },
     "execution_count": 26,
     "metadata": {},
     "output_type": "execute_result"
    }
   ],
   "source": [
    "SA(x,schwefel,delta,boundary,cooling_custom)"
   ]
  },
  {
   "cell_type": "code",
   "execution_count": 27,
   "id": "f24afb88",
   "metadata": {},
   "outputs": [
    {
     "name": "stdout",
     "output_type": "stream",
     "text": [
      "0/6000   temp:5030.000000\n",
      "500/6000   temp:130.560929\n",
      "1000/6000   temp:81.953523\n",
      "1500/6000   temp:65.429068\n",
      "2000/6000   temp:57.011502\n",
      "2500/6000   temp:51.835216\n",
      "3000/6000   temp:48.273721\n",
      "3500/6000   temp:45.633218\n",
      "4000/6000   temp:43.571330\n",
      "4500/6000   temp:41.902181\n",
      "5000/6000   temp:40.517911\n",
      "5500/6000   temp:39.352697\n"
     ]
    },
    {
     "data": {
      "text/plain": [
       "{'solution': array([ 414.82894887, -112.45889922,  419.18554827,  -13.99563253,\n",
       "         215.09017801,   46.0804203 , -204.7782639 ,  206.35835534,\n",
       "        -363.19906447, -499.91044201]),\n",
       " 'evaluation': 2933.2854598926633}"
      ]
     },
     "execution_count": 27,
     "metadata": {},
     "output_type": "execute_result"
    }
   ],
   "source": [
    "SA(x,schwefel,delta,boundary,cooling_custom)"
   ]
  },
  {
   "cell_type": "markdown",
   "id": "33dc1206",
   "metadata": {},
   "source": [
    "Using the custom cooling schedule could be more effective than the logarithmic cooling schedule, possibly because it cools fast in the beginning in addition to oscillating with the sin function, but this particular schedule may cool too fast in the beginning although it yields better results than the previous schedules. This could be because he oscillations get smaller as time goes on and the temperature reaches a lower value at the end of the simulation."
   ]
  },
  {
   "cell_type": "code",
   "execution_count": 28,
   "id": "a90f6bff",
   "metadata": {},
   "outputs": [
    {
     "data": {
      "text/plain": [
       "      fun: 1263.4576564078725\n",
       " hess_inv: array([[ 1.48885005e+00, -2.09223443e-01,  4.81324171e-01,\n",
       "        -4.87040456e-01,  4.22073872e-02,  2.43797288e-03,\n",
       "        -2.55907412e-01, -3.23662201e-01,  2.47552641e-01,\n",
       "        -1.24649498e-01],\n",
       "       [-2.09223443e-01,  2.96771706e+00, -6.89039114e-01,\n",
       "         7.21679268e-02,  1.62994711e-01,  6.12608305e-01,\n",
       "        -1.78405639e-01, -3.53693473e-01,  9.35614217e-01,\n",
       "         9.19930763e-01],\n",
       "       [ 4.81324171e-01, -6.89039114e-01,  1.65739412e+00,\n",
       "         2.79603261e-01, -9.53251436e-01, -8.49059284e-01,\n",
       "         2.33523480e-01,  1.34329315e-02,  1.80082437e-02,\n",
       "        -3.18502903e-01],\n",
       "       [-4.87040456e-01,  7.21679268e-02,  2.79603261e-01,\n",
       "         1.31454987e+00,  1.29787205e-01,  7.74631354e-02,\n",
       "         1.09089954e-01,  3.48848481e-01, -4.85698402e-01,\n",
       "         5.08184885e-02],\n",
       "       [ 4.22073872e-02,  1.62994711e-01, -9.53251436e-01,\n",
       "         1.29787205e-01,  2.72644824e+00, -4.42588858e-01,\n",
       "         6.35453832e-02, -5.21800668e-02,  3.26709513e-01,\n",
       "         6.27940001e-03],\n",
       "       [ 2.43797288e-03,  6.12608305e-01, -8.49059284e-01,\n",
       "         7.74631354e-02, -4.42588858e-01,  2.31135083e+00,\n",
       "        -6.88639325e-01,  1.28890490e-01, -8.47845568e-01,\n",
       "         3.27134712e-01],\n",
       "       [-2.55907412e-01, -1.78405639e-01,  2.33523480e-01,\n",
       "         1.09089954e-01,  6.35453832e-02, -6.88639325e-01,\n",
       "         1.30985654e+00,  1.50322631e-01,  1.48440084e-02,\n",
       "        -8.34155734e-02],\n",
       "       [-3.23662201e-01, -3.53693473e-01,  1.34329315e-02,\n",
       "         3.48848481e-01, -5.21800668e-02,  1.28890490e-01,\n",
       "         1.50322631e-01,  1.34654312e+00, -5.29337509e-01,\n",
       "        -1.46941643e-01],\n",
       "       [ 2.47552641e-01,  9.35614217e-01,  1.80082437e-02,\n",
       "        -4.85698402e-01,  3.26709513e-01, -8.47845568e-01,\n",
       "         1.48440084e-02, -5.29337509e-01,  2.15768019e+00,\n",
       "         4.02824962e-01],\n",
       "       [-1.24649498e-01,  9.19930763e-01, -3.18502903e-01,\n",
       "         5.08184885e-02,  6.27940001e-03,  3.27134712e-01,\n",
       "        -8.34155734e-02, -1.46941643e-01,  4.02824962e-01,\n",
       "         1.43414608e+00]])\n",
       "      jac: array([0., 0., 0., 0., 0., 0., 0., 0., 0., 0.])\n",
       "  message: 'Optimization terminated successfully.'\n",
       "     nfev: 286\n",
       "      nit: 21\n",
       "     njev: 26\n",
       "   status: 0\n",
       "  success: True\n",
       "        x: array([-302.52489424,  203.8141982 , -302.52501225, -559.14858429,\n",
       "        -25.87752638,  203.81423496,  420.96874575,  203.81424455,\n",
       "       -302.5249505 ,  420.96865655])"
      ]
     },
     "execution_count": 28,
     "metadata": {},
     "output_type": "execute_result"
    }
   ],
   "source": [
    "#trying a local optimization technique from scipy\n",
    "import scipy\n",
    "\n",
    "def BFGS(function, start):\n",
    "    return scipy.optimize.minimize(function, start, method=\"BFGS\")\n",
    "\n",
    "previous_optimum = [-355.31801762,  183.5408646 , -211.24573696, -497.09893531,\n",
    "         -39.65616605,  262.93278375,  442.77127867,  249.94170165,\n",
    "        -365.6340704 ,  413.95854371]\n",
    "\n",
    "BFGS(schwefel, previous_optimum)"
   ]
  },
  {
   "cell_type": "markdown",
   "id": "f33d10b1",
   "metadata": {},
   "source": [
    "I chose one of the previous solutions from the CSA algorithm with custom cooling and used the BFGS algorithm from scipy to find the minimum, and it was much lower than the previous minimums reported from CSA, evaluating to 1263.457. This is surprising so I wonder if it would be best to always use further optimization after using the CSA algorithm, because it seems that there is no guarantee of finding the minimum with CSA alone."
   ]
  },
  {
   "cell_type": "markdown",
   "id": "da3e2be5",
   "metadata": {},
   "source": [
    "## Problem 2"
   ]
  },
  {
   "cell_type": "markdown",
   "id": "929027e2",
   "metadata": {},
   "source": [
    "### Importing Pandas\n"
   ]
  },
  {
   "cell_type": "code",
   "execution_count": 29,
   "id": "2fe8f842",
   "metadata": {},
   "outputs": [],
   "source": [
    "import pandas as pd"
   ]
  },
  {
   "cell_type": "code",
   "execution_count": 30,
   "id": "e3b0c8d1",
   "metadata": {},
   "outputs": [
    {
     "data": {
      "text/html": [
       "<div>\n",
       "<style scoped>\n",
       "    .dataframe tbody tr th:only-of-type {\n",
       "        vertical-align: middle;\n",
       "    }\n",
       "\n",
       "    .dataframe tbody tr th {\n",
       "        vertical-align: top;\n",
       "    }\n",
       "\n",
       "    .dataframe thead th {\n",
       "        text-align: right;\n",
       "    }\n",
       "</style>\n",
       "<table border=\"1\" class=\"dataframe\">\n",
       "  <thead>\n",
       "    <tr style=\"text-align: right;\">\n",
       "      <th></th>\n",
       "      <th>Alcohol %</th>\n",
       "      <th>Malic Acid</th>\n",
       "      <th>Ash</th>\n",
       "      <th>Alkalinity</th>\n",
       "      <th>Mg</th>\n",
       "      <th>Phenols</th>\n",
       "      <th>Flavanoids</th>\n",
       "      <th>Phenols.1</th>\n",
       "      <th>Proantho-cyanins</th>\n",
       "      <th>Color intensity</th>\n",
       "      <th>Hue</th>\n",
       "      <th>OD280 315</th>\n",
       "      <th>Proline</th>\n",
       "      <th>Start assignment</th>\n",
       "      <th>ranking</th>\n",
       "    </tr>\n",
       "  </thead>\n",
       "  <tbody>\n",
       "    <tr>\n",
       "      <th>0</th>\n",
       "      <td>14.23</td>\n",
       "      <td>1.71</td>\n",
       "      <td>2.43</td>\n",
       "      <td>15.6</td>\n",
       "      <td>127</td>\n",
       "      <td>2.80</td>\n",
       "      <td>3.06</td>\n",
       "      <td>0.28</td>\n",
       "      <td>2.29</td>\n",
       "      <td>5.64</td>\n",
       "      <td>1.04</td>\n",
       "      <td>3.92</td>\n",
       "      <td>1065</td>\n",
       "      <td>1</td>\n",
       "      <td>1</td>\n",
       "    </tr>\n",
       "    <tr>\n",
       "      <th>1</th>\n",
       "      <td>13.24</td>\n",
       "      <td>2.59</td>\n",
       "      <td>2.87</td>\n",
       "      <td>21.0</td>\n",
       "      <td>118</td>\n",
       "      <td>2.80</td>\n",
       "      <td>2.69</td>\n",
       "      <td>0.39</td>\n",
       "      <td>1.82</td>\n",
       "      <td>4.32</td>\n",
       "      <td>1.04</td>\n",
       "      <td>2.93</td>\n",
       "      <td>735</td>\n",
       "      <td>1</td>\n",
       "      <td>1</td>\n",
       "    </tr>\n",
       "    <tr>\n",
       "      <th>2</th>\n",
       "      <td>14.83</td>\n",
       "      <td>1.64</td>\n",
       "      <td>2.17</td>\n",
       "      <td>14.0</td>\n",
       "      <td>97</td>\n",
       "      <td>2.80</td>\n",
       "      <td>2.98</td>\n",
       "      <td>0.29</td>\n",
       "      <td>1.98</td>\n",
       "      <td>5.20</td>\n",
       "      <td>1.08</td>\n",
       "      <td>2.85</td>\n",
       "      <td>1045</td>\n",
       "      <td>1</td>\n",
       "      <td>1</td>\n",
       "    </tr>\n",
       "    <tr>\n",
       "      <th>3</th>\n",
       "      <td>14.12</td>\n",
       "      <td>1.48</td>\n",
       "      <td>2.32</td>\n",
       "      <td>16.8</td>\n",
       "      <td>95</td>\n",
       "      <td>2.20</td>\n",
       "      <td>2.43</td>\n",
       "      <td>0.26</td>\n",
       "      <td>1.57</td>\n",
       "      <td>5.00</td>\n",
       "      <td>1.17</td>\n",
       "      <td>2.82</td>\n",
       "      <td>1280</td>\n",
       "      <td>1</td>\n",
       "      <td>1</td>\n",
       "    </tr>\n",
       "    <tr>\n",
       "      <th>4</th>\n",
       "      <td>13.75</td>\n",
       "      <td>1.73</td>\n",
       "      <td>2.41</td>\n",
       "      <td>16.0</td>\n",
       "      <td>89</td>\n",
       "      <td>2.60</td>\n",
       "      <td>2.76</td>\n",
       "      <td>0.29</td>\n",
       "      <td>1.81</td>\n",
       "      <td>5.60</td>\n",
       "      <td>1.15</td>\n",
       "      <td>2.90</td>\n",
       "      <td>1320</td>\n",
       "      <td>1</td>\n",
       "      <td>1</td>\n",
       "    </tr>\n",
       "    <tr>\n",
       "      <th>...</th>\n",
       "      <td>...</td>\n",
       "      <td>...</td>\n",
       "      <td>...</td>\n",
       "      <td>...</td>\n",
       "      <td>...</td>\n",
       "      <td>...</td>\n",
       "      <td>...</td>\n",
       "      <td>...</td>\n",
       "      <td>...</td>\n",
       "      <td>...</td>\n",
       "      <td>...</td>\n",
       "      <td>...</td>\n",
       "      <td>...</td>\n",
       "      <td>...</td>\n",
       "      <td>...</td>\n",
       "    </tr>\n",
       "    <tr>\n",
       "      <th>173</th>\n",
       "      <td>13.40</td>\n",
       "      <td>4.60</td>\n",
       "      <td>2.86</td>\n",
       "      <td>25.0</td>\n",
       "      <td>112</td>\n",
       "      <td>1.98</td>\n",
       "      <td>0.96</td>\n",
       "      <td>0.27</td>\n",
       "      <td>1.11</td>\n",
       "      <td>8.50</td>\n",
       "      <td>0.67</td>\n",
       "      <td>1.92</td>\n",
       "      <td>630</td>\n",
       "      <td>3</td>\n",
       "      <td>3</td>\n",
       "    </tr>\n",
       "    <tr>\n",
       "      <th>174</th>\n",
       "      <td>13.27</td>\n",
       "      <td>4.28</td>\n",
       "      <td>2.26</td>\n",
       "      <td>20.0</td>\n",
       "      <td>120</td>\n",
       "      <td>1.59</td>\n",
       "      <td>0.69</td>\n",
       "      <td>0.43</td>\n",
       "      <td>1.35</td>\n",
       "      <td>10.20</td>\n",
       "      <td>0.59</td>\n",
       "      <td>1.56</td>\n",
       "      <td>835</td>\n",
       "      <td>3</td>\n",
       "      <td>3</td>\n",
       "    </tr>\n",
       "    <tr>\n",
       "      <th>175</th>\n",
       "      <td>13.17</td>\n",
       "      <td>2.59</td>\n",
       "      <td>2.37</td>\n",
       "      <td>20.0</td>\n",
       "      <td>120</td>\n",
       "      <td>1.65</td>\n",
       "      <td>0.68</td>\n",
       "      <td>0.53</td>\n",
       "      <td>1.46</td>\n",
       "      <td>9.30</td>\n",
       "      <td>0.60</td>\n",
       "      <td>1.62</td>\n",
       "      <td>840</td>\n",
       "      <td>3</td>\n",
       "      <td>3</td>\n",
       "    </tr>\n",
       "    <tr>\n",
       "      <th>176</th>\n",
       "      <td>14.13</td>\n",
       "      <td>4.10</td>\n",
       "      <td>2.74</td>\n",
       "      <td>24.5</td>\n",
       "      <td>96</td>\n",
       "      <td>2.05</td>\n",
       "      <td>0.76</td>\n",
       "      <td>0.56</td>\n",
       "      <td>1.35</td>\n",
       "      <td>9.20</td>\n",
       "      <td>0.61</td>\n",
       "      <td>1.60</td>\n",
       "      <td>560</td>\n",
       "      <td>3</td>\n",
       "      <td>3</td>\n",
       "    </tr>\n",
       "    <tr>\n",
       "      <th>177</th>\n",
       "      <td>12.25</td>\n",
       "      <td>1.73</td>\n",
       "      <td>2.12</td>\n",
       "      <td>19.0</td>\n",
       "      <td>80</td>\n",
       "      <td>1.65</td>\n",
       "      <td>2.03</td>\n",
       "      <td>0.37</td>\n",
       "      <td>1.63</td>\n",
       "      <td>3.40</td>\n",
       "      <td>1.00</td>\n",
       "      <td>3.17</td>\n",
       "      <td>510</td>\n",
       "      <td>3</td>\n",
       "      <td>2</td>\n",
       "    </tr>\n",
       "  </tbody>\n",
       "</table>\n",
       "<p>178 rows × 15 columns</p>\n",
       "</div>"
      ],
      "text/plain": [
       "     Alcohol %  Malic Acid   Ash  Alkalinity   Mg  Phenols  Flavanoids  \\\n",
       "0        14.23        1.71  2.43        15.6  127     2.80        3.06   \n",
       "1        13.24        2.59  2.87        21.0  118     2.80        2.69   \n",
       "2        14.83        1.64  2.17        14.0   97     2.80        2.98   \n",
       "3        14.12        1.48  2.32        16.8   95     2.20        2.43   \n",
       "4        13.75        1.73  2.41        16.0   89     2.60        2.76   \n",
       "..         ...         ...   ...         ...  ...      ...         ...   \n",
       "173      13.40        4.60  2.86        25.0  112     1.98        0.96   \n",
       "174      13.27        4.28  2.26        20.0  120     1.59        0.69   \n",
       "175      13.17        2.59  2.37        20.0  120     1.65        0.68   \n",
       "176      14.13        4.10  2.74        24.5   96     2.05        0.76   \n",
       "177      12.25        1.73  2.12        19.0   80     1.65        2.03   \n",
       "\n",
       "     Phenols.1  Proantho-cyanins  Color intensity   Hue  OD280 315  Proline  \\\n",
       "0         0.28              2.29             5.64  1.04       3.92     1065   \n",
       "1         0.39              1.82             4.32  1.04       2.93      735   \n",
       "2         0.29              1.98             5.20  1.08       2.85     1045   \n",
       "3         0.26              1.57             5.00  1.17       2.82     1280   \n",
       "4         0.29              1.81             5.60  1.15       2.90     1320   \n",
       "..         ...               ...              ...   ...        ...      ...   \n",
       "173       0.27              1.11             8.50  0.67       1.92      630   \n",
       "174       0.43              1.35            10.20  0.59       1.56      835   \n",
       "175       0.53              1.46             9.30  0.60       1.62      840   \n",
       "176       0.56              1.35             9.20  0.61       1.60      560   \n",
       "177       0.37              1.63             3.40  1.00       3.17      510   \n",
       "\n",
       "     Start assignment  ranking  \n",
       "0                   1        1  \n",
       "1                   1        1  \n",
       "2                   1        1  \n",
       "3                   1        1  \n",
       "4                   1        1  \n",
       "..                ...      ...  \n",
       "173                 3        3  \n",
       "174                 3        3  \n",
       "175                 3        3  \n",
       "176                 3        3  \n",
       "177                 3        2  \n",
       "\n",
       "[178 rows x 15 columns]"
      ]
     },
     "metadata": {},
     "output_type": "display_data"
    }
   ],
   "source": [
    "wines = pd.read_csv('wines.csv')\n",
    "display(wines)"
   ]
  },
  {
   "cell_type": "code",
   "execution_count": 31,
   "id": "3bafe292",
   "metadata": {},
   "outputs": [
    {
     "data": {
      "text/html": [
       "<div>\n",
       "<style scoped>\n",
       "    .dataframe tbody tr th:only-of-type {\n",
       "        vertical-align: middle;\n",
       "    }\n",
       "\n",
       "    .dataframe tbody tr th {\n",
       "        vertical-align: top;\n",
       "    }\n",
       "\n",
       "    .dataframe thead th {\n",
       "        text-align: right;\n",
       "    }\n",
       "</style>\n",
       "<table border=\"1\" class=\"dataframe\">\n",
       "  <thead>\n",
       "    <tr style=\"text-align: right;\">\n",
       "      <th></th>\n",
       "      <th>Alcohol %</th>\n",
       "      <th>Malic Acid</th>\n",
       "      <th>Ash</th>\n",
       "      <th>Alkalinity</th>\n",
       "      <th>Mg</th>\n",
       "      <th>Phenols</th>\n",
       "      <th>Flavanoids</th>\n",
       "      <th>Phenols.1</th>\n",
       "      <th>Proantho-cyanins</th>\n",
       "      <th>Color intensity</th>\n",
       "      <th>Hue</th>\n",
       "      <th>OD280 315</th>\n",
       "      <th>Proline</th>\n",
       "      <th>Start assignment</th>\n",
       "      <th>ranking</th>\n",
       "    </tr>\n",
       "  </thead>\n",
       "  <tbody>\n",
       "    <tr>\n",
       "      <th>count</th>\n",
       "      <td>178.000000</td>\n",
       "      <td>178.000000</td>\n",
       "      <td>178.000000</td>\n",
       "      <td>178.000000</td>\n",
       "      <td>178.000000</td>\n",
       "      <td>178.000000</td>\n",
       "      <td>178.000000</td>\n",
       "      <td>178.000000</td>\n",
       "      <td>178.000000</td>\n",
       "      <td>178.000000</td>\n",
       "      <td>178.000000</td>\n",
       "      <td>178.000000</td>\n",
       "      <td>178.000000</td>\n",
       "      <td>178.000000</td>\n",
       "      <td>178.000000</td>\n",
       "    </tr>\n",
       "    <tr>\n",
       "      <th>mean</th>\n",
       "      <td>13.000618</td>\n",
       "      <td>2.336348</td>\n",
       "      <td>2.366517</td>\n",
       "      <td>19.494944</td>\n",
       "      <td>99.741573</td>\n",
       "      <td>2.295112</td>\n",
       "      <td>2.029270</td>\n",
       "      <td>0.361854</td>\n",
       "      <td>1.590899</td>\n",
       "      <td>5.058090</td>\n",
       "      <td>0.957449</td>\n",
       "      <td>2.611685</td>\n",
       "      <td>746.893258</td>\n",
       "      <td>2.016854</td>\n",
       "      <td>1.938202</td>\n",
       "    </tr>\n",
       "    <tr>\n",
       "      <th>std</th>\n",
       "      <td>0.811827</td>\n",
       "      <td>1.117146</td>\n",
       "      <td>0.274344</td>\n",
       "      <td>3.339564</td>\n",
       "      <td>14.282484</td>\n",
       "      <td>0.625851</td>\n",
       "      <td>0.998859</td>\n",
       "      <td>0.124453</td>\n",
       "      <td>0.572359</td>\n",
       "      <td>2.318286</td>\n",
       "      <td>0.228572</td>\n",
       "      <td>0.709990</td>\n",
       "      <td>314.907474</td>\n",
       "      <td>0.819775</td>\n",
       "      <td>0.775035</td>\n",
       "    </tr>\n",
       "    <tr>\n",
       "      <th>min</th>\n",
       "      <td>11.030000</td>\n",
       "      <td>0.740000</td>\n",
       "      <td>1.360000</td>\n",
       "      <td>10.600000</td>\n",
       "      <td>70.000000</td>\n",
       "      <td>0.980000</td>\n",
       "      <td>0.340000</td>\n",
       "      <td>0.130000</td>\n",
       "      <td>0.410000</td>\n",
       "      <td>1.280000</td>\n",
       "      <td>0.480000</td>\n",
       "      <td>1.270000</td>\n",
       "      <td>278.000000</td>\n",
       "      <td>1.000000</td>\n",
       "      <td>1.000000</td>\n",
       "    </tr>\n",
       "    <tr>\n",
       "      <th>25%</th>\n",
       "      <td>12.362500</td>\n",
       "      <td>1.602500</td>\n",
       "      <td>2.210000</td>\n",
       "      <td>17.200000</td>\n",
       "      <td>88.000000</td>\n",
       "      <td>1.742500</td>\n",
       "      <td>1.205000</td>\n",
       "      <td>0.270000</td>\n",
       "      <td>1.250000</td>\n",
       "      <td>3.220000</td>\n",
       "      <td>0.782500</td>\n",
       "      <td>1.937500</td>\n",
       "      <td>500.500000</td>\n",
       "      <td>1.000000</td>\n",
       "      <td>1.000000</td>\n",
       "    </tr>\n",
       "    <tr>\n",
       "      <th>50%</th>\n",
       "      <td>13.050000</td>\n",
       "      <td>1.865000</td>\n",
       "      <td>2.360000</td>\n",
       "      <td>19.500000</td>\n",
       "      <td>98.000000</td>\n",
       "      <td>2.355000</td>\n",
       "      <td>2.135000</td>\n",
       "      <td>0.340000</td>\n",
       "      <td>1.555000</td>\n",
       "      <td>4.690000</td>\n",
       "      <td>0.965000</td>\n",
       "      <td>2.780000</td>\n",
       "      <td>673.500000</td>\n",
       "      <td>2.000000</td>\n",
       "      <td>2.000000</td>\n",
       "    </tr>\n",
       "    <tr>\n",
       "      <th>75%</th>\n",
       "      <td>13.677500</td>\n",
       "      <td>3.082500</td>\n",
       "      <td>2.557500</td>\n",
       "      <td>21.500000</td>\n",
       "      <td>107.000000</td>\n",
       "      <td>2.800000</td>\n",
       "      <td>2.875000</td>\n",
       "      <td>0.437500</td>\n",
       "      <td>1.950000</td>\n",
       "      <td>6.200000</td>\n",
       "      <td>1.120000</td>\n",
       "      <td>3.170000</td>\n",
       "      <td>985.000000</td>\n",
       "      <td>3.000000</td>\n",
       "      <td>3.000000</td>\n",
       "    </tr>\n",
       "    <tr>\n",
       "      <th>max</th>\n",
       "      <td>14.830000</td>\n",
       "      <td>5.800000</td>\n",
       "      <td>3.230000</td>\n",
       "      <td>30.000000</td>\n",
       "      <td>162.000000</td>\n",
       "      <td>3.880000</td>\n",
       "      <td>5.080000</td>\n",
       "      <td>0.660000</td>\n",
       "      <td>3.580000</td>\n",
       "      <td>13.000000</td>\n",
       "      <td>1.710000</td>\n",
       "      <td>4.000000</td>\n",
       "      <td>1680.000000</td>\n",
       "      <td>3.000000</td>\n",
       "      <td>3.000000</td>\n",
       "    </tr>\n",
       "  </tbody>\n",
       "</table>\n",
       "</div>"
      ],
      "text/plain": [
       "        Alcohol %  Malic Acid         Ash  Alkalinity          Mg     Phenols  \\\n",
       "count  178.000000  178.000000  178.000000  178.000000  178.000000  178.000000   \n",
       "mean    13.000618    2.336348    2.366517   19.494944   99.741573    2.295112   \n",
       "std      0.811827    1.117146    0.274344    3.339564   14.282484    0.625851   \n",
       "min     11.030000    0.740000    1.360000   10.600000   70.000000    0.980000   \n",
       "25%     12.362500    1.602500    2.210000   17.200000   88.000000    1.742500   \n",
       "50%     13.050000    1.865000    2.360000   19.500000   98.000000    2.355000   \n",
       "75%     13.677500    3.082500    2.557500   21.500000  107.000000    2.800000   \n",
       "max     14.830000    5.800000    3.230000   30.000000  162.000000    3.880000   \n",
       "\n",
       "       Flavanoids   Phenols.1  Proantho-cyanins  Color intensity         Hue  \\\n",
       "count  178.000000  178.000000        178.000000       178.000000  178.000000   \n",
       "mean     2.029270    0.361854          1.590899         5.058090    0.957449   \n",
       "std      0.998859    0.124453          0.572359         2.318286    0.228572   \n",
       "min      0.340000    0.130000          0.410000         1.280000    0.480000   \n",
       "25%      1.205000    0.270000          1.250000         3.220000    0.782500   \n",
       "50%      2.135000    0.340000          1.555000         4.690000    0.965000   \n",
       "75%      2.875000    0.437500          1.950000         6.200000    1.120000   \n",
       "max      5.080000    0.660000          3.580000        13.000000    1.710000   \n",
       "\n",
       "        OD280 315      Proline  Start assignment     ranking  \n",
       "count  178.000000   178.000000        178.000000  178.000000  \n",
       "mean     2.611685   746.893258          2.016854    1.938202  \n",
       "std      0.709990   314.907474          0.819775    0.775035  \n",
       "min      1.270000   278.000000          1.000000    1.000000  \n",
       "25%      1.937500   500.500000          1.000000    1.000000  \n",
       "50%      2.780000   673.500000          2.000000    2.000000  \n",
       "75%      3.170000   985.000000          3.000000    3.000000  \n",
       "max      4.000000  1680.000000          3.000000    3.000000  "
      ]
     },
     "execution_count": 31,
     "metadata": {},
     "output_type": "execute_result"
    }
   ],
   "source": [
    "wines.describe()"
   ]
  },
  {
   "cell_type": "markdown",
   "id": "fcaabad6",
   "metadata": {},
   "source": [
    "### (A)"
   ]
  },
  {
   "cell_type": "code",
   "execution_count": 32,
   "id": "0be93ac0",
   "metadata": {},
   "outputs": [],
   "source": [
    "wines_normalized = (wines - wines.mean())/wines.std()"
   ]
  },
  {
   "cell_type": "code",
   "execution_count": 33,
   "id": "a38b8333",
   "metadata": {},
   "outputs": [],
   "source": [
    "wines_normalized['Start assignment'] = wines['Start assignment']"
   ]
  },
  {
   "cell_type": "code",
   "execution_count": 34,
   "id": "7e50e882",
   "metadata": {},
   "outputs": [],
   "source": [
    "wines_normalized = wines_normalized.drop(columns=['ranking'])"
   ]
  },
  {
   "cell_type": "code",
   "execution_count": 35,
   "id": "5767f794",
   "metadata": {},
   "outputs": [
    {
     "data": {
      "text/html": [
       "<div>\n",
       "<style scoped>\n",
       "    .dataframe tbody tr th:only-of-type {\n",
       "        vertical-align: middle;\n",
       "    }\n",
       "\n",
       "    .dataframe tbody tr th {\n",
       "        vertical-align: top;\n",
       "    }\n",
       "\n",
       "    .dataframe thead th {\n",
       "        text-align: right;\n",
       "    }\n",
       "</style>\n",
       "<table border=\"1\" class=\"dataframe\">\n",
       "  <thead>\n",
       "    <tr style=\"text-align: right;\">\n",
       "      <th></th>\n",
       "      <th>Alcohol %</th>\n",
       "      <th>Malic Acid</th>\n",
       "      <th>Ash</th>\n",
       "      <th>Alkalinity</th>\n",
       "      <th>Mg</th>\n",
       "      <th>Phenols</th>\n",
       "      <th>Flavanoids</th>\n",
       "      <th>Phenols.1</th>\n",
       "      <th>Proantho-cyanins</th>\n",
       "      <th>Color intensity</th>\n",
       "      <th>Hue</th>\n",
       "      <th>OD280 315</th>\n",
       "      <th>Proline</th>\n",
       "      <th>Start assignment</th>\n",
       "    </tr>\n",
       "  </thead>\n",
       "  <tbody>\n",
       "    <tr>\n",
       "      <th>0</th>\n",
       "      <td>1.514341</td>\n",
       "      <td>-0.560668</td>\n",
       "      <td>0.231400</td>\n",
       "      <td>-1.166303</td>\n",
       "      <td>1.908522</td>\n",
       "      <td>0.806722</td>\n",
       "      <td>1.031908</td>\n",
       "      <td>-0.657708</td>\n",
       "      <td>1.221438</td>\n",
       "      <td>0.251009</td>\n",
       "      <td>0.361158</td>\n",
       "      <td>1.842721</td>\n",
       "      <td>1.010159</td>\n",
       "      <td>1</td>\n",
       "    </tr>\n",
       "    <tr>\n",
       "      <th>1</th>\n",
       "      <td>0.294868</td>\n",
       "      <td>0.227053</td>\n",
       "      <td>1.835226</td>\n",
       "      <td>0.450674</td>\n",
       "      <td>1.278379</td>\n",
       "      <td>0.806722</td>\n",
       "      <td>0.661485</td>\n",
       "      <td>0.226158</td>\n",
       "      <td>0.400275</td>\n",
       "      <td>-0.318377</td>\n",
       "      <td>0.361158</td>\n",
       "      <td>0.448336</td>\n",
       "      <td>-0.037767</td>\n",
       "      <td>1</td>\n",
       "    </tr>\n",
       "    <tr>\n",
       "      <th>2</th>\n",
       "      <td>2.253415</td>\n",
       "      <td>-0.623328</td>\n",
       "      <td>-0.716315</td>\n",
       "      <td>-1.645408</td>\n",
       "      <td>-0.191954</td>\n",
       "      <td>0.806722</td>\n",
       "      <td>0.951817</td>\n",
       "      <td>-0.577356</td>\n",
       "      <td>0.679820</td>\n",
       "      <td>0.061213</td>\n",
       "      <td>0.536158</td>\n",
       "      <td>0.335659</td>\n",
       "      <td>0.946649</td>\n",
       "      <td>1</td>\n",
       "    </tr>\n",
       "    <tr>\n",
       "      <th>3</th>\n",
       "      <td>1.378844</td>\n",
       "      <td>-0.766550</td>\n",
       "      <td>-0.169557</td>\n",
       "      <td>-0.806975</td>\n",
       "      <td>-0.331985</td>\n",
       "      <td>-0.151973</td>\n",
       "      <td>0.401188</td>\n",
       "      <td>-0.818411</td>\n",
       "      <td>-0.036514</td>\n",
       "      <td>-0.025057</td>\n",
       "      <td>0.929908</td>\n",
       "      <td>0.293405</td>\n",
       "      <td>1.692900</td>\n",
       "      <td>1</td>\n",
       "    </tr>\n",
       "    <tr>\n",
       "      <th>4</th>\n",
       "      <td>0.923081</td>\n",
       "      <td>-0.542765</td>\n",
       "      <td>0.158499</td>\n",
       "      <td>-1.046527</td>\n",
       "      <td>-0.752080</td>\n",
       "      <td>0.487157</td>\n",
       "      <td>0.731565</td>\n",
       "      <td>-0.577356</td>\n",
       "      <td>0.382804</td>\n",
       "      <td>0.233755</td>\n",
       "      <td>0.842408</td>\n",
       "      <td>0.406082</td>\n",
       "      <td>1.819921</td>\n",
       "      <td>1</td>\n",
       "    </tr>\n",
       "    <tr>\n",
       "      <th>...</th>\n",
       "      <td>...</td>\n",
       "      <td>...</td>\n",
       "      <td>...</td>\n",
       "      <td>...</td>\n",
       "      <td>...</td>\n",
       "      <td>...</td>\n",
       "      <td>...</td>\n",
       "      <td>...</td>\n",
       "      <td>...</td>\n",
       "      <td>...</td>\n",
       "      <td>...</td>\n",
       "      <td>...</td>\n",
       "      <td>...</td>\n",
       "      <td>...</td>\n",
       "    </tr>\n",
       "    <tr>\n",
       "      <th>173</th>\n",
       "      <td>0.491955</td>\n",
       "      <td>2.026281</td>\n",
       "      <td>1.798775</td>\n",
       "      <td>1.648436</td>\n",
       "      <td>0.858284</td>\n",
       "      <td>-0.503494</td>\n",
       "      <td>-1.070491</td>\n",
       "      <td>-0.738059</td>\n",
       "      <td>-0.840205</td>\n",
       "      <td>1.484679</td>\n",
       "      <td>-1.257591</td>\n",
       "      <td>-0.974218</td>\n",
       "      <td>-0.371199</td>\n",
       "      <td>3</td>\n",
       "    </tr>\n",
       "    <tr>\n",
       "      <th>174</th>\n",
       "      <td>0.331822</td>\n",
       "      <td>1.739837</td>\n",
       "      <td>-0.388260</td>\n",
       "      <td>0.151234</td>\n",
       "      <td>1.418411</td>\n",
       "      <td>-1.126646</td>\n",
       "      <td>-1.340800</td>\n",
       "      <td>0.547563</td>\n",
       "      <td>-0.420888</td>\n",
       "      <td>2.217979</td>\n",
       "      <td>-1.607590</td>\n",
       "      <td>-1.481267</td>\n",
       "      <td>0.279786</td>\n",
       "      <td>3</td>\n",
       "    </tr>\n",
       "    <tr>\n",
       "      <th>175</th>\n",
       "      <td>0.208643</td>\n",
       "      <td>0.227053</td>\n",
       "      <td>0.012696</td>\n",
       "      <td>0.151234</td>\n",
       "      <td>1.418411</td>\n",
       "      <td>-1.030776</td>\n",
       "      <td>-1.350811</td>\n",
       "      <td>1.351077</td>\n",
       "      <td>-0.228701</td>\n",
       "      <td>1.829761</td>\n",
       "      <td>-1.563840</td>\n",
       "      <td>-1.396759</td>\n",
       "      <td>0.295664</td>\n",
       "      <td>3</td>\n",
       "    </tr>\n",
       "    <tr>\n",
       "      <th>176</th>\n",
       "      <td>1.391162</td>\n",
       "      <td>1.578712</td>\n",
       "      <td>1.361368</td>\n",
       "      <td>1.498716</td>\n",
       "      <td>-0.261969</td>\n",
       "      <td>-0.391646</td>\n",
       "      <td>-1.270720</td>\n",
       "      <td>1.592131</td>\n",
       "      <td>-0.420888</td>\n",
       "      <td>1.786626</td>\n",
       "      <td>-1.520090</td>\n",
       "      <td>-1.424928</td>\n",
       "      <td>-0.593486</td>\n",
       "      <td>3</td>\n",
       "    </tr>\n",
       "    <tr>\n",
       "      <th>177</th>\n",
       "      <td>-0.924604</td>\n",
       "      <td>-0.542765</td>\n",
       "      <td>-0.898568</td>\n",
       "      <td>-0.148206</td>\n",
       "      <td>-1.382223</td>\n",
       "      <td>-1.030776</td>\n",
       "      <td>0.000731</td>\n",
       "      <td>0.065455</td>\n",
       "      <td>0.068316</td>\n",
       "      <td>-0.715222</td>\n",
       "      <td>0.186159</td>\n",
       "      <td>0.786369</td>\n",
       "      <td>-0.752263</td>\n",
       "      <td>3</td>\n",
       "    </tr>\n",
       "  </tbody>\n",
       "</table>\n",
       "<p>178 rows × 14 columns</p>\n",
       "</div>"
      ],
      "text/plain": [
       "     Alcohol %  Malic Acid       Ash  Alkalinity        Mg   Phenols  \\\n",
       "0     1.514341   -0.560668  0.231400   -1.166303  1.908522  0.806722   \n",
       "1     0.294868    0.227053  1.835226    0.450674  1.278379  0.806722   \n",
       "2     2.253415   -0.623328 -0.716315   -1.645408 -0.191954  0.806722   \n",
       "3     1.378844   -0.766550 -0.169557   -0.806975 -0.331985 -0.151973   \n",
       "4     0.923081   -0.542765  0.158499   -1.046527 -0.752080  0.487157   \n",
       "..         ...         ...       ...         ...       ...       ...   \n",
       "173   0.491955    2.026281  1.798775    1.648436  0.858284 -0.503494   \n",
       "174   0.331822    1.739837 -0.388260    0.151234  1.418411 -1.126646   \n",
       "175   0.208643    0.227053  0.012696    0.151234  1.418411 -1.030776   \n",
       "176   1.391162    1.578712  1.361368    1.498716 -0.261969 -0.391646   \n",
       "177  -0.924604   -0.542765 -0.898568   -0.148206 -1.382223 -1.030776   \n",
       "\n",
       "     Flavanoids  Phenols.1  Proantho-cyanins  Color intensity       Hue  \\\n",
       "0      1.031908  -0.657708          1.221438         0.251009  0.361158   \n",
       "1      0.661485   0.226158          0.400275        -0.318377  0.361158   \n",
       "2      0.951817  -0.577356          0.679820         0.061213  0.536158   \n",
       "3      0.401188  -0.818411         -0.036514        -0.025057  0.929908   \n",
       "4      0.731565  -0.577356          0.382804         0.233755  0.842408   \n",
       "..          ...        ...               ...              ...       ...   \n",
       "173   -1.070491  -0.738059         -0.840205         1.484679 -1.257591   \n",
       "174   -1.340800   0.547563         -0.420888         2.217979 -1.607590   \n",
       "175   -1.350811   1.351077         -0.228701         1.829761 -1.563840   \n",
       "176   -1.270720   1.592131         -0.420888         1.786626 -1.520090   \n",
       "177    0.000731   0.065455          0.068316        -0.715222  0.186159   \n",
       "\n",
       "     OD280 315   Proline  Start assignment  \n",
       "0     1.842721  1.010159                 1  \n",
       "1     0.448336 -0.037767                 1  \n",
       "2     0.335659  0.946649                 1  \n",
       "3     0.293405  1.692900                 1  \n",
       "4     0.406082  1.819921                 1  \n",
       "..         ...       ...               ...  \n",
       "173  -0.974218 -0.371199                 3  \n",
       "174  -1.481267  0.279786                 3  \n",
       "175  -1.396759  0.295664                 3  \n",
       "176  -1.424928 -0.593486                 3  \n",
       "177   0.786369 -0.752263                 3  \n",
       "\n",
       "[178 rows x 14 columns]"
      ]
     },
     "metadata": {},
     "output_type": "display_data"
    }
   ],
   "source": [
    "display(wines_normalized)"
   ]
  },
  {
   "cell_type": "markdown",
   "id": "d61f3ae2",
   "metadata": {},
   "source": [
    "### (B)"
   ]
  },
  {
   "cell_type": "code",
   "execution_count": 36,
   "id": "6fbe2f2b",
   "metadata": {},
   "outputs": [
    {
     "data": {
      "text/html": [
       "<div>\n",
       "<style scoped>\n",
       "    .dataframe tbody tr th:only-of-type {\n",
       "        vertical-align: middle;\n",
       "    }\n",
       "\n",
       "    .dataframe tbody tr th {\n",
       "        vertical-align: top;\n",
       "    }\n",
       "\n",
       "    .dataframe thead th {\n",
       "        text-align: right;\n",
       "    }\n",
       "</style>\n",
       "<table border=\"1\" class=\"dataframe\">\n",
       "  <thead>\n",
       "    <tr style=\"text-align: right;\">\n",
       "      <th></th>\n",
       "      <th>Alcohol %</th>\n",
       "      <th>Malic Acid</th>\n",
       "      <th>Ash</th>\n",
       "      <th>Alkalinity</th>\n",
       "      <th>Mg</th>\n",
       "      <th>Phenols</th>\n",
       "      <th>Flavanoids</th>\n",
       "      <th>Phenols.1</th>\n",
       "      <th>Proantho-cyanins</th>\n",
       "      <th>Color intensity</th>\n",
       "      <th>Hue</th>\n",
       "      <th>OD280 315</th>\n",
       "      <th>Proline</th>\n",
       "    </tr>\n",
       "    <tr>\n",
       "      <th>Start assignment</th>\n",
       "      <th></th>\n",
       "      <th></th>\n",
       "      <th></th>\n",
       "      <th></th>\n",
       "      <th></th>\n",
       "      <th></th>\n",
       "      <th></th>\n",
       "      <th></th>\n",
       "      <th></th>\n",
       "      <th></th>\n",
       "      <th></th>\n",
       "      <th></th>\n",
       "      <th></th>\n",
       "    </tr>\n",
       "  </thead>\n",
       "  <tbody>\n",
       "    <tr>\n",
       "      <th>1</th>\n",
       "      <td>-0.026247</td>\n",
       "      <td>-0.022814</td>\n",
       "      <td>0.039092</td>\n",
       "      <td>-0.011393</td>\n",
       "      <td>0.001194</td>\n",
       "      <td>0.046102</td>\n",
       "      <td>-0.014459</td>\n",
       "      <td>-0.092477</td>\n",
       "      <td>0.015299</td>\n",
       "      <td>-0.122335</td>\n",
       "      <td>0.071956</td>\n",
       "      <td>-0.021072</td>\n",
       "      <td>-0.001085</td>\n",
       "    </tr>\n",
       "    <tr>\n",
       "      <th>2</th>\n",
       "      <td>-0.030199</td>\n",
       "      <td>-0.043157</td>\n",
       "      <td>-0.117661</td>\n",
       "      <td>-0.122322</td>\n",
       "      <td>-0.180086</td>\n",
       "      <td>-0.109996</td>\n",
       "      <td>-0.040333</td>\n",
       "      <td>0.035493</td>\n",
       "      <td>-0.146673</td>\n",
       "      <td>-0.217850</td>\n",
       "      <td>0.084570</td>\n",
       "      <td>0.077599</td>\n",
       "      <td>-0.085239</td>\n",
       "    </tr>\n",
       "    <tr>\n",
       "      <th>3</th>\n",
       "      <td>0.054165</td>\n",
       "      <td>0.063434</td>\n",
       "      <td>0.076634</td>\n",
       "      <td>0.129144</td>\n",
       "      <td>0.173047</td>\n",
       "      <td>0.062555</td>\n",
       "      <td>0.052758</td>\n",
       "      <td>0.053600</td>\n",
       "      <td>0.127318</td>\n",
       "      <td>0.327026</td>\n",
       "      <td>-0.150214</td>\n",
       "      <td>-0.055018</td>\n",
       "      <td>0.083476</td>\n",
       "    </tr>\n",
       "  </tbody>\n",
       "</table>\n",
       "</div>"
      ],
      "text/plain": [
       "                  Alcohol %  Malic Acid       Ash  Alkalinity        Mg  \\\n",
       "Start assignment                                                          \n",
       "1                 -0.026247   -0.022814  0.039092   -0.011393  0.001194   \n",
       "2                 -0.030199   -0.043157 -0.117661   -0.122322 -0.180086   \n",
       "3                  0.054165    0.063434  0.076634    0.129144  0.173047   \n",
       "\n",
       "                   Phenols  Flavanoids  Phenols.1  Proantho-cyanins  \\\n",
       "Start assignment                                                      \n",
       "1                 0.046102   -0.014459  -0.092477          0.015299   \n",
       "2                -0.109996   -0.040333   0.035493         -0.146673   \n",
       "3                 0.062555    0.052758   0.053600          0.127318   \n",
       "\n",
       "                  Color intensity       Hue  OD280 315   Proline  \n",
       "Start assignment                                                  \n",
       "1                       -0.122335  0.071956  -0.021072 -0.001085  \n",
       "2                       -0.217850  0.084570   0.077599 -0.085239  \n",
       "3                        0.327026 -0.150214  -0.055018  0.083476  "
      ]
     },
     "metadata": {},
     "output_type": "display_data"
    }
   ],
   "source": [
    "#get the means of each column in the dataframe\n",
    "means_df = wines_normalized.groupby('Start assignment').mean()\n",
    "display(means_df)"
   ]
  },
  {
   "cell_type": "code",
   "execution_count": 37,
   "id": "84dc02ee",
   "metadata": {},
   "outputs": [
    {
     "data": {
      "text/plain": [
       "array([[-0.02624653, -0.02281371,  0.03909152, -0.01139289,  0.00119361,\n",
       "         0.04610228, -0.01445858, -0.09247727,  0.01529861, -0.12233484,\n",
       "         0.07195608, -0.02107247, -0.00108455],\n",
       "       [-0.03019892, -0.04315704, -0.11766091, -0.12232231, -0.18008643,\n",
       "        -0.1099961 , -0.04033264,  0.03549325, -0.14667323, -0.2178502 ,\n",
       "         0.08456967,  0.07759861, -0.08523904],\n",
       "       [ 0.05416451,  0.06343378,  0.07663419,  0.12914432,  0.17304706,\n",
       "         0.06255472,  0.05275776,  0.05359967,  0.12731805,  0.32702594,\n",
       "        -0.15021415, -0.05501827,  0.08347553]])"
      ]
     },
     "metadata": {},
     "output_type": "display_data"
    },
    {
     "data": {
      "text/plain": [
       "array([1, 1, 1, 1, 1, 1, 1, 1, 1, 1, 1, 1, 1, 1, 1, 1, 1, 1, 1, 1, 1, 1,\n",
       "       1, 1, 1, 1, 1, 1, 1, 1, 1, 1, 1, 1, 1, 1, 1, 1, 1, 1, 1, 1, 1, 1,\n",
       "       1, 1, 1, 1, 1, 1, 1, 1, 1, 1, 1, 1, 1, 1, 2, 2, 2, 2, 2, 2, 2, 2,\n",
       "       2, 2, 2, 2, 2, 2, 2, 2, 2, 2, 2, 2, 2, 2, 2, 2, 2, 2, 2, 2, 2, 2,\n",
       "       2, 2, 2, 2, 2, 2, 2, 2, 2, 2, 2, 2, 2, 2, 2, 2, 2, 2, 2, 2, 2, 2,\n",
       "       2, 2, 2, 2, 2, 2, 2, 3, 3, 3, 3, 3, 3, 3, 3, 3, 3, 3, 3, 3, 3, 3,\n",
       "       3, 3, 3, 3, 3, 3, 3, 3, 3, 3, 3, 3, 3, 3, 3, 3, 3, 3, 3, 3, 3, 3,\n",
       "       3, 3, 3, 3, 3, 3, 3, 3, 3, 3, 3, 3, 3, 3, 3, 3, 3, 3, 3, 3, 3, 3,\n",
       "       3, 3])"
      ]
     },
     "metadata": {},
     "output_type": "display_data"
    },
    {
     "data": {
      "text/plain": [
       "array([[ 1.51434077, -0.56066822,  0.23139979, ...,  0.36115849,\n",
       "         1.84272147,  1.01015939],\n",
       "       [ 0.29486844,  0.22705328,  1.83522559, ...,  0.36115849,\n",
       "         0.44833648, -0.03776747],\n",
       "       [ 2.25341491, -0.62332789, -0.71631546, ...,  0.53615839,\n",
       "         0.3356589 ,  0.94664867],\n",
       "       ...,\n",
       "       [ 0.20864312,  0.22705328,  0.01269627, ..., -1.56384035,\n",
       "        -1.39675882,  0.2956638 ],\n",
       "       [ 1.39116174,  1.57871176,  1.36136797, ..., -1.52009038,\n",
       "        -1.42492821, -0.59348626],\n",
       "       [-0.92460389, -0.54276546, -0.89856839, ...,  0.1861586 ,\n",
       "         0.7863692 , -0.75226305]])"
      ]
     },
     "metadata": {},
     "output_type": "display_data"
    }
   ],
   "source": [
    "#creating a (3, 13) array with the three centroids\n",
    "centroids= np.zeros([3, 13])\n",
    "centroids[0,:] = means_df.iloc[0].to_numpy()\n",
    "centroids[1, :] = means_df.iloc[1].to_numpy()\n",
    "centroids[2, :] = means_df.iloc[2].to_numpy()\n",
    "display(centroids)\n",
    "\n",
    "#casting \"Start assignment\" column as nd.array\n",
    "start = wines['Start assignment'].to_numpy()\n",
    "display(start)\n",
    "\n",
    "#casting wines_normalized dataframe to nd.array\n",
    "feat_array = wines_normalized.drop(columns = 'Start assignment').to_numpy()\n",
    "display(feat_array)"
   ]
  },
  {
   "cell_type": "markdown",
   "id": "a39acf63",
   "metadata": {},
   "source": [
    "### (C)"
   ]
  },
  {
   "cell_type": "code",
   "execution_count": 38,
   "id": "8fbc50b5",
   "metadata": {},
   "outputs": [
    {
     "name": "stdout",
     "output_type": "stream",
     "text": [
      "2275.34927819508\n"
     ]
    }
   ],
   "source": [
    "#generating two matrices w for the weights and d for the distances\n",
    "w = np.zeros((feat_array.shape[0], 3))\n",
    "for i in range(feat_array.shape[0]):\n",
    "    for j in range(3):\n",
    "        if start[i] == (j + 1):\n",
    "            w[i][j] = 1\n",
    "\n",
    "d = np.zeros((feat_array.shape[0], 3))\n",
    "for i in range(feat_array.shape[0]):\n",
    "    for j in range(3):\n",
    "            d[i][j] = np.linalg.norm(centroids[j] - feat_array[i, :])\n",
    "#display(w)\n",
    "#display(d)\n",
    "\n",
    "#defining cost function\n",
    "#def cost_function(w, d):\n",
    "    #summation = 0\n",
    "    #for i in range(w.shape[0]):\n",
    "        #for j in range(w.shape[1]):\n",
    "            #summation += w[i][j] * d[i][j]**2\n",
    "    #return summation\n",
    "    \n",
    "def cost_function(w, d):\n",
    "    return np.sum(np.multiply(w, d**2))\n",
    "\n",
    "#evaluating the cost function at the starting vector\n",
    "print(cost_function(w, d))\n",
    "\n",
    "np.random.seed(5843922)\n",
    "\n",
    "\n",
    "        "
   ]
  },
  {
   "cell_type": "markdown",
   "id": "03c91001",
   "metadata": {},
   "source": [
    "### (D)"
   ]
  },
  {
   "cell_type": "code",
   "execution_count": 39,
   "id": "3684edca",
   "metadata": {},
   "outputs": [],
   "source": [
    "def simulated_annealing(feats,ranks,centers,start_temp,alpha,steps=10000):\n",
    "    \"\"\" Simulated Annealing for clustering\n",
    "    feats: pd.DataFrame. Normalized chemical descriptors\n",
    "    ranks: np.array shape(178,). Initial assignment.\n",
    "    centers: np.array shape (3,13). Fixed centers\n",
    "    start_temp: float. Initial tempreture\n",
    "    alpha: float. Hyperparameter for geometric cooling\n",
    "    steps: int. \n",
    "    \"\"\"\n",
    "    feat_array = feats.to_numpy()\n",
    "    \n",
    "    #generating two matrices w for the weights and d for the distances\n",
    "    w = np.zeros((feat_array.shape[0], 3))\n",
    "    for i in range(feat_array.shape[0]):\n",
    "        for j in range(3):\n",
    "            if start[i] == (j + 1):\n",
    "                w[i][j] = 1\n",
    "\n",
    "    d = np.zeros((feat_array.shape[0], 3))\n",
    "    for i in range(feat_array.shape[0]):\n",
    "        for j in range(3):\n",
    "            d[i][j] = np.linalg.norm(centers[j] - feat_array[i][:])\n",
    "    \n",
    "    #defining cost function\n",
    "    def cost_function(w, d):\n",
    "        return np.sum(np.multiply(w, d**2))\n",
    "    \n",
    "    best_rank=ranks.copy()\n",
    "    # evaluate the cost function with current best rank\n",
    "    lowest_eval= cost_function(w, d)\n",
    "\n",
    "    \n",
    "    temp = start_temp\n",
    "    k = 1\n",
    "    w_old = w.copy()\n",
    "    d_old = d.copy()\n",
    "    \n",
    "    for step in (range(steps)):\n",
    "        # update tempture according to geometric cooling schedule\n",
    "        temp=alpha*temp\n",
    "        beta = 1/(k*temp)\n",
    "        if step%500==0:\n",
    "            print(step,temp,lowest_eval)\n",
    "        for n in range(len(ranks)):\n",
    "            trial=ranks.copy()\n",
    "\n",
    "            w[n][:] = 0\n",
    "            rand_choice=np.random.randint(3)+1\n",
    "            trial[n]=rand_choice\n",
    "            w[n][rand_choice-1] = 1\n",
    "            \n",
    "            for j in range(d.shape[1]):\n",
    "                d[n][j] = np.linalg.norm(centers[j] - feat_array[n])\n",
    "                \n",
    "            # Metropolis acceptance criterion\n",
    "           \n",
    "            urn = np.random.random()\n",
    "        \n",
    "            p_accept = min(1, math.exp(-beta*(cost_function(w,d) - cost_function(w_old, d_old))))\n",
    "            #print(\"cost new = \", cost_function(w, d))\n",
    "            #print(\"cost old = \" ,cost_function(w_old, d_old))\n",
    "            #print(\"p_accept = \",  p_accept)\n",
    "            #print(\"urn = \", urn)\n",
    "            if (p_accept == 1) or (urn < p_accept):\n",
    "                ranks=trial.copy()\n",
    "                # update evaluation\n",
    "                w_old[n][:] = w[n][:].copy()\n",
    "                d_old[n][:] = d[n][:].copy()\n",
    "                new_eval= cost_function(w, d)\n",
    "                #print(new_eval)\n",
    "                if new_eval<lowest_eval:\n",
    "                    #update best rank and lowest_eval\n",
    "                    lowest_eval = new_eval\n",
    "                    best_rank = ranks.copy()\n",
    "            else:\n",
    "                w[n][:] = w_old[n][:].copy()\n",
    "                d[n][:] = d_old[n][:].copy()\n",
    "    return {\"solution\":best_rank,\"evaluation\":lowest_eval}, best_rank"
   ]
  },
  {
   "cell_type": "code",
   "execution_count": 40,
   "id": "425b8871",
   "metadata": {
    "scrolled": true
   },
   "outputs": [
    {
     "name": "stdout",
     "output_type": "stream",
     "text": [
      "0 499.5 2275.34927819508\n",
      "500 302.8862829581618 2273.733200396684\n",
      "1000 183.6638646730965 2273.733200396684\n",
      "1500 111.36990046959976 2272.8217041703315\n",
      "2000 67.53236273605106 2270.440083375998\n",
      "2500 40.95020285986944 2270.440083375998\n",
      "3000 24.831340802019085 2268.9892568099967\n",
      "3500 15.057202235016815 2268.9892568099967\n",
      "4000 9.130370403830968 2262.3137880390695\n",
      "4500 5.536464371666806 2253.00868531763\n",
      "{'solution': array([3, 3, 1, 1, 1, 2, 3, 1, 3, 2, 2, 2, 3, 2, 3, 2, 1, 3, 1, 3, 1, 2,\n",
      "       2, 1, 2, 2, 3, 2, 2, 3, 1, 1, 1, 2, 2, 1, 1, 3, 2, 1, 3, 1, 3, 2,\n",
      "       1, 2, 2, 2, 3, 1, 3, 2, 2, 3, 2, 1, 3, 3, 2, 3, 1, 3, 3, 3, 2, 3,\n",
      "       3, 3, 1, 1, 1, 1, 2, 1, 3, 3, 1, 3, 2, 1, 2, 2, 2, 2, 1, 3, 1, 2,\n",
      "       2, 1, 3, 2, 2, 2, 2, 3, 2, 1, 2, 2, 2, 3, 1, 1, 2, 2, 1, 3, 2, 1,\n",
      "       3, 3, 2, 3, 1, 3, 3, 2, 3, 3, 3, 2, 2, 3, 3, 1, 1, 3, 1, 2, 3, 1,\n",
      "       1, 1, 3, 2, 2, 2, 2, 3, 1, 3, 2, 2, 2, 1, 1, 1, 1, 2, 2, 2, 2, 2,\n",
      "       3, 2, 2, 2, 2, 1, 2, 3, 3, 3, 3, 3, 3, 3, 3, 3, 3, 2, 1, 3, 3, 1,\n",
      "       3, 1]), 'evaluation': 2241.76750785687}\n",
      "0 499.5 2275.34927819508\n",
      "500 302.8862829581618 2262.7529849415882\n",
      "1000 183.6638646730965 2262.7529849415882\n",
      "1500 111.36990046959976 2262.7529849415882\n",
      "2000 67.53236273605106 2262.7529849415882\n",
      "2500 40.95020285986944 2262.7529849415882\n",
      "3000 24.831340802019085 2262.7529849415882\n",
      "3500 15.057202235016815 2261.2812639195977\n",
      "4000 9.130370403830968 2261.2783493563284\n",
      "4500 5.536464371666806 2256.888995424255\n",
      "{'solution': array([1, 1, 2, 1, 2, 3, 3, 2, 3, 2, 2, 3, 2, 1, 3, 1, 1, 1, 3, 1, 2, 2,\n",
      "       1, 2, 1, 1, 1, 2, 2, 1, 3, 2, 1, 2, 1, 3, 1, 2, 2, 1, 1, 1, 3, 3,\n",
      "       2, 3, 1, 1, 2, 3, 1, 2, 3, 1, 3, 2, 3, 2, 1, 3, 3, 1, 1, 3, 3, 3,\n",
      "       3, 3, 1, 3, 2, 3, 1, 1, 3, 3, 3, 3, 2, 2, 2, 1, 1, 1, 2, 2, 3, 2,\n",
      "       2, 2, 1, 2, 1, 1, 1, 2, 1, 1, 2, 2, 2, 1, 3, 2, 2, 3, 2, 3, 3, 3,\n",
      "       1, 1, 2, 2, 2, 2, 3, 3, 1, 1, 2, 3, 2, 3, 1, 1, 3, 1, 2, 3, 3, 1,\n",
      "       3, 3, 3, 3, 2, 3, 1, 1, 3, 1, 2, 1, 1, 1, 3, 1, 2, 1, 3, 3, 3, 1,\n",
      "       3, 2, 2, 2, 2, 1, 3, 3, 3, 2, 1, 3, 3, 2, 3, 3, 3, 3, 3, 1, 3, 3,\n",
      "       3, 3]), 'evaluation': 2232.0632747680306}\n",
      "0 499.5 2275.34927819508\n",
      "500 302.8862829581618 2263.5064744495603\n",
      "1000 183.6638646730965 2263.5064744495603\n",
      "1500 111.36990046959976 2263.5064744495603\n",
      "2000 67.53236273605106 2263.5064744495603\n",
      "2500 40.95020285986944 2263.5064744495603\n",
      "3000 24.831340802019085 2263.5064744495603\n",
      "3500 15.057202235016815 2263.5064744495603\n",
      "4000 9.130370403830968 2251.44440607751\n",
      "4500 5.536464371666806 2245.858147888747\n",
      "{'solution': array([3, 3, 1, 1, 3, 3, 2, 1, 2, 3, 3, 1, 2, 3, 3, 3, 1, 2, 1, 3, 2, 1,\n",
      "       1, 3, 2, 2, 2, 2, 3, 2, 3, 1, 2, 2, 2, 3, 2, 2, 1, 1, 3, 1, 1, 2,\n",
      "       2, 2, 3, 2, 2, 3, 1, 3, 2, 3, 3, 3, 1, 3, 2, 3, 3, 1, 3, 3, 2, 1,\n",
      "       3, 3, 3, 1, 2, 3, 3, 3, 3, 1, 1, 1, 2, 1, 3, 2, 3, 3, 2, 2, 2, 1,\n",
      "       2, 2, 3, 1, 2, 2, 2, 2, 2, 1, 3, 2, 2, 1, 1, 3, 2, 2, 1, 3, 2, 2,\n",
      "       3, 2, 1, 1, 2, 2, 3, 2, 3, 3, 2, 3, 2, 3, 3, 1, 1, 2, 1, 1, 3, 2,\n",
      "       3, 3, 3, 2, 3, 3, 1, 2, 1, 2, 2, 2, 3, 2, 2, 1, 1, 2, 2, 2, 1, 2,\n",
      "       1, 2, 1, 1, 3, 1, 2, 3, 3, 2, 3, 3, 3, 3, 3, 1, 3, 3, 2, 3, 3, 3,\n",
      "       3, 1]), 'evaluation': 2236.627340948167}\n"
     ]
    }
   ],
   "source": [
    "features_df = wines_normalized.drop(columns='Start assignment')\n",
    "out, sol = simulated_annealing(feats=features_df,ranks=start,centers=centroids,start_temp=500,alpha=0.999,steps=5000)\n",
    "print(out)\n",
    "\n",
    "out, sol = simulated_annealing(feats=features_df,ranks=start,centers=centroids,start_temp=500,alpha=0.999,steps=5000)\n",
    "print(out)\n",
    "\n",
    "out, sol = simulated_annealing(feats=features_df,ranks=start,centers=centroids,start_temp=500,alpha=0.999,steps=5000)\n",
    "print(out)"
   ]
  },
  {
   "cell_type": "markdown",
   "id": "17428b6b",
   "metadata": {},
   "source": [
    "The algorithm finds three minimum {2241.1 2232.1, 2236.6}  with each subsequent run of the program. I found the value of k to be important when tuning the Metropolis criteria to allow for some uphill moves while mostly accepting downhill moves with greater probability. Through trial and error I found a value of k less than one would result in less probability of an uphill move, but with k=1 the algorithm still works but introduces more random variation in the direction of the moves."
   ]
  },
  {
   "cell_type": "code",
   "execution_count": 41,
   "id": "3facd8b2",
   "metadata": {},
   "outputs": [],
   "source": [
    "def validate(solution,df):\n",
    "    \"\"\"Prints out how many wines are corretly assigned to its cultivar\n",
    "    solution: np.array shape(178,). Your solution.\n",
    "    df: pd.DataFrame. Read-in of the wines.csv dataset\n",
    "    \"\"\"\n",
    "    # correct classification\n",
    "    ranking = df['ranking'].values\n",
    "    cluster_1 = list(df[df['ranking']==1].index)\n",
    "    cluster_2 = list(df[df['ranking']==2].index)\n",
    "    cluster_3 = list(df[df['ranking']==3].index)\n",
    "    clusters =[cluster_1,cluster_2,cluster_3]\n",
    "\n",
    "    for i in range(1,4):\n",
    "        #loop over solutions\n",
    "        counts=[]\n",
    "        scores=[]\n",
    "        for j in range(3):\n",
    "            #loop over clusters of true assignments\n",
    "            sol_i= [idx for idx,k in enumerate(solution) if k==i]\n",
    "            counts.append(len(np.intersect1d(sol_i, clusters[j])))\n",
    "            scores.append(counts[-1]/len(clusters[j]))\n",
    "        idx = np.argmax(scores)\n",
    "        print(f'Class {i} - cultivar {idx+1}: {counts[idx]} out \\\n",
    "of {len(clusters[idx])} are classified correctly')"
   ]
  },
  {
   "cell_type": "code",
   "execution_count": 42,
   "id": "d0b5dd74",
   "metadata": {},
   "outputs": [
    {
     "name": "stdout",
     "output_type": "stream",
     "text": [
      "Class 1 - cultivar 2: 22 out of 71 are classified correctly\n",
      "Class 2 - cultivar 2: 36 out of 71 are classified correctly\n",
      "Class 3 - cultivar 3: 25 out of 48 are classified correctly\n"
     ]
    }
   ],
   "source": [
    "validate(sol, wines)"
   ]
  },
  {
   "cell_type": "code",
   "execution_count": 43,
   "id": "d0ef53a4",
   "metadata": {},
   "outputs": [
    {
     "name": "stdout",
     "output_type": "stream",
     "text": [
      "Class 1 - cultivar 1: 20 out of 59 are classified correctly\n",
      "Class 2 - cultivar 2: 25 out of 71 are classified correctly\n",
      "Class 3 - cultivar 3: 19 out of 48 are classified correctly\n"
     ]
    }
   ],
   "source": [
    "validate(start, wines)"
   ]
  },
  {
   "cell_type": "markdown",
   "id": "d6c7a62c",
   "metadata": {},
   "source": [
    "There is an error in the validate function as it reports the cultivar 2 twice but I can still see the results. By comparing the groupings of the start vector to the groupings of the solution vector it is clear that the clustering has improved after running the Simulated Annealing algorithm. The third solution is more accurate in every cluster: the first cluster has classified 37% of the wines correctly, the second cluster has classified 51% correctly, and the third cluster has classified 52% correctly. The first cluster is only marginally better than the initial clustering, but the second and third are at least 50% correct which is an improvement over the 1/3 which would be expected from a purely random selection."
   ]
  },
  {
   "cell_type": "markdown",
   "id": "01b4b408",
   "metadata": {},
   "source": [
    "### (E)"
   ]
  },
  {
   "cell_type": "code",
   "execution_count": 44,
   "id": "292d4d76",
   "metadata": {},
   "outputs": [],
   "source": [
    "def simulated_annealing_2(feats,ranks,centers,start_temp,alpha,steps=10000):\n",
    "    \"\"\" Simulated Annealing for clustering\n",
    "    feats: pd.DataFrame. Normalized chemical descriptors\n",
    "    ranks: np.array shape(178,). Initial assignment.\n",
    "    centers: np.array shape (3,13). Fixed centers\n",
    "    start_temp: float. Initial tempreture\n",
    "    alpha: float. Hyperparameter for geometric cooling\n",
    "    steps: int. \n",
    "    \"\"\"\n",
    "    feat_array = feats.to_numpy()\n",
    "    \n",
    "    #generating two matrices w for the weights and d for the distances\n",
    "    w = np.zeros((feat_array.shape[0], 3))\n",
    "    for i in range(feat_array.shape[0]):\n",
    "        for j in range(3):\n",
    "            if start[i] == (j + 1):\n",
    "                w[i][j] = 1\n",
    "\n",
    "    d = np.zeros((feat_array.shape[0], 3))\n",
    "    for i in range(feat_array.shape[0]):\n",
    "        for j in range(3):\n",
    "            d[i][j] = np.linalg.norm(centers[j] - feat_array[i][:])\n",
    "    \n",
    "    #defining cost function\n",
    "    def cost_function(w, d):\n",
    "        return np.sum(np.multiply(w, d**2))\n",
    "    \n",
    "    best_rank=ranks.copy()\n",
    "    # evaluate the cost function with current best rank\n",
    "    lowest_eval= cost_function(w, d)\n",
    "\n",
    "    \n",
    "    temp = start_temp\n",
    "    k = 1\n",
    "    w_old = w.copy()\n",
    "    d_old = d.copy()\n",
    "    for step in (range(steps)):\n",
    "        # update tempture according to geometric cooling schedule\n",
    "        temp=alpha*temp\n",
    "        beta = 1/(k*temp)\n",
    "        #create a new center to update with random walk\n",
    "        new_center = centers.copy()\n",
    "        new_ranks = ranks.copy()\n",
    "        if step%500==0:\n",
    "            print(step,temp,lowest_eval)\n",
    "            \n",
    "        for n in range(3):\n",
    "            for i in range((feat_array.shape[1])):\n",
    "                new_center[n][i] = new_center[n][i] + (2*(np.random.random()) - 1) * 0.01\n",
    "        \n",
    "        #reassign ranks of each wine\n",
    "        for wine in range(feat_array.shape[0]):\n",
    "            dist_1 = np.linalg.norm(new_center[0] - feat_array[wine])\n",
    "            dist_2 = np.linalg.norm(new_center[1] - feat_array[wine])\n",
    "            dist_3 = np.linalg.norm(new_center[2] - feat_array[wine])\n",
    "            \n",
    "            if (dist_1 < dist_2) and (dist_1 < dist_3):\n",
    "                new_ranks[wine] = 1\n",
    "                w[wine][:] = 0\n",
    "                w[wine][0] = 1\n",
    "                d[wine][0] = dist_1\n",
    "                d[wine][1] = dist_2\n",
    "                d[wine][2] = dist_3\n",
    "            elif (dist_2 < dist_1) and (dist_2 < dist_3):\n",
    "                new_ranks[wine] = 2\n",
    "                w[wine][:] = 0  \n",
    "                w[wine][1] = 1\n",
    "                d[wine][0] = dist_1\n",
    "                d[wine][1] = dist_2\n",
    "                d[wine][2] = dist_3\n",
    "            elif (dist_3 < dist_1) and (dist_3 < dist_2):\n",
    "                new_ranks[wine] = 3\n",
    "                w[wine][:] = 0\n",
    "                w[wine][2] = 1\n",
    "                d[wine][0] = dist_1\n",
    "                d[wine][1] = dist_2\n",
    "                d[wine][2] = dist_3\n",
    "                \n",
    "            # Metropolis acceptance criterion\n",
    "        urn = np.random.random()\n",
    "        \n",
    "        p_accept = min(1, math.exp(-beta*(cost_function(w,d) - cost_function(w_old, d_old))))\n",
    "        #print(\"cost new = \", cost_function(w, d))\n",
    "        #print(\"cost old = \" ,cost_function(w_old, d_old))\n",
    "        #print(\"p_accept = \",  p_accept)\n",
    "        #print(\"urn = \", urn)\n",
    "            \n",
    "        if (p_accept == 1) or (urn < p_accept):\n",
    "            ranks=new_ranks.copy()\n",
    "            # update evaluation\n",
    "            w_old = w.copy()\n",
    "            d_old = d.copy()\n",
    "            new_eval= cost_function(w, d)\n",
    "            centers = new_center.copy()\n",
    "            #print(new_eval)\n",
    "                \n",
    "            if new_eval<lowest_eval:\n",
    "                #update best rank and lowest_eval\n",
    "                lowest_eval = new_eval\n",
    "                best_rank = ranks.copy()\n",
    "        else:\n",
    "            w = w_old.copy()\n",
    "            d = d_old.copy()\n",
    "            \n",
    "    return {\"solution\":best_rank,\"evaluation\":lowest_eval}, best_rank"
   ]
  },
  {
   "cell_type": "code",
   "execution_count": 45,
   "id": "0849024b",
   "metadata": {},
   "outputs": [
    {
     "name": "stdout",
     "output_type": "stream",
     "text": [
      "0 499.5 2275.34927819508\n",
      "500 302.8862829581618 2118.350233619428\n",
      "1000 183.6638646730965 2115.375247508653\n",
      "1500 111.36990046959976 2115.375247508653\n",
      "2000 67.53236273605106 2115.375247508653\n",
      "2500 40.95020285986944 2115.375247508653\n",
      "3000 24.831340802019085 2102.4857292331694\n",
      "3500 15.057202235016815 2036.6425407664594\n",
      "4000 9.130370403830968 1984.581469557781\n",
      "4500 5.536464371666806 1926.0076068330459\n",
      "5000 3.357195423952863 1812.5476196668833\n",
      "5500 2.035732618869333 1719.9447777939356\n",
      "6000 1.2344253974494832 1675.2017395454268\n",
      "6500 0.7485295700152664 1627.2186727055755\n",
      "7000 0.4538925708632541 1551.6584533997004\n",
      "7500 0.27523089820039054 1412.4500090111542\n",
      "8000 0.1668942216439489 1309.83022368908\n",
      "8500 0.1012011420238866 1274.6113344966948\n",
      "9000 0.061366241719191236 1271.6309013872722\n",
      "9500 0.037211196903779574 1271.6309013872722\n"
     ]
    }
   ],
   "source": [
    "out, sol2 = simulated_annealing_2(feats=features_df,ranks=start,centers=centroids,start_temp=500,alpha=0.999,steps=10000)"
   ]
  },
  {
   "cell_type": "code",
   "execution_count": 46,
   "id": "1fcf54d4",
   "metadata": {},
   "outputs": [
    {
     "name": "stdout",
     "output_type": "stream",
     "text": [
      "Starting Classification\n",
      "Class 1 - cultivar 1: 20 out of 59 are classified correctly\n",
      "Class 2 - cultivar 2: 25 out of 71 are classified correctly\n",
      "Class 3 - cultivar 3: 19 out of 48 are classified correctly\n",
      "CSA Solution Classification\n",
      "Class 1 - cultivar 1: 59 out of 59 are classified correctly\n",
      "Class 2 - cultivar 3: 48 out of 48 are classified correctly\n",
      "Class 3 - cultivar 2: 65 out of 71 are classified correctly\n"
     ]
    }
   ],
   "source": [
    "print(\"Starting Classification\")\n",
    "validate(start,wines)\n",
    "print(\"CSA Solution Classification\")\n",
    "validate(sol2, wines)"
   ]
  },
  {
   "cell_type": "code",
   "execution_count": 47,
   "id": "9071df71",
   "metadata": {},
   "outputs": [
    {
     "name": "stdout",
     "output_type": "stream",
     "text": [
      "0 499.5 2275.34927819508\n",
      "500 302.8862829581618 2125.554208891052\n",
      "1000 183.6638646730965 2125.554208891052\n",
      "1500 111.36990046959976 2107.3954115468764\n",
      "2000 67.53236273605106 2107.3954115468764\n",
      "2500 40.95020285986944 2107.3954115468764\n",
      "3000 24.831340802019085 2107.3954115468764\n",
      "3500 15.057202235016815 2107.3954115468764\n",
      "4000 9.130370403830968 2107.3954115468764\n",
      "4500 5.536464371666806 2107.3954115468764\n",
      "5000 3.357195423952863 2107.3954115468764\n",
      "5500 2.035732618869333 2056.6811823155203\n",
      "6000 1.2344253974494832 1894.8563634916263\n",
      "6500 0.7485295700152664 1679.7681084051744\n",
      "7000 0.4538925708632541 1524.9343353554589\n",
      "7500 0.27523089820039054 1379.6220307360586\n",
      "8000 0.1668942216439489 1291.6897150219866\n",
      "8500 0.1012011420238866 1272.1563964602485\n",
      "9000 0.061366241719191236 1272.0828450151212\n",
      "9500 0.037211196903779574 1271.4544238969186\n"
     ]
    }
   ],
   "source": [
    "out, sol2 = simulated_annealing_2(feats=features_df,ranks=start,centers=centroids,start_temp=500,alpha=0.999,steps=10000)"
   ]
  },
  {
   "cell_type": "code",
   "execution_count": 48,
   "id": "39ebae7e",
   "metadata": {},
   "outputs": [
    {
     "name": "stdout",
     "output_type": "stream",
     "text": [
      "Starting Classification\n",
      "Class 1 - cultivar 1: 20 out of 59 are classified correctly\n",
      "Class 2 - cultivar 2: 25 out of 71 are classified correctly\n",
      "Class 3 - cultivar 3: 19 out of 48 are classified correctly\n",
      "CSA Solution Classification\n",
      "Class 1 - cultivar 2: 65 out of 71 are classified correctly\n",
      "Class 2 - cultivar 3: 48 out of 48 are classified correctly\n",
      "Class 3 - cultivar 1: 59 out of 59 are classified correctly\n"
     ]
    }
   ],
   "source": [
    "print(\"Starting Classification\")\n",
    "validate(start,wines)\n",
    "print(\"CSA Solution Classification\")\n",
    "validate(sol2, wines)"
   ]
  },
  {
   "cell_type": "code",
   "execution_count": 49,
   "id": "e4ed4602",
   "metadata": {},
   "outputs": [
    {
     "name": "stdout",
     "output_type": "stream",
     "text": [
      "0 499.5 2275.34927819508\n",
      "500 302.8862829581618 2101.346116346665\n",
      "1000 183.6638646730965 2101.346116346665\n",
      "1500 111.36990046959976 2101.346116346665\n",
      "2000 67.53236273605106 2101.346116346665\n",
      "2500 40.95020285986944 2101.346116346665\n",
      "3000 24.831340802019085 2101.346116346665\n",
      "3500 15.057202235016815 2101.346116346665\n",
      "4000 9.130370403830968 2101.346116346665\n",
      "4500 5.536464371666806 2101.346116346665\n",
      "5000 3.357195423952863 1993.5142221799504\n",
      "5500 2.035732618869333 1816.4822191436033\n",
      "6000 1.2344253974494832 1620.9696739437027\n",
      "6500 0.7485295700152664 1469.2205877059414\n",
      "7000 0.4538925708632541 1355.9460270404759\n",
      "7500 0.27523089820039054 1293.464619448167\n",
      "8000 0.1668942216439489 1274.9698510268581\n",
      "8500 0.1012011420238866 1272.3461711925434\n",
      "9000 0.061366241719191236 1271.7231984779783\n",
      "9500 0.037211196903779574 1271.2282720658663\n"
     ]
    }
   ],
   "source": [
    "out, sol2 = simulated_annealing_2(feats=features_df,ranks=start,centers=centroids,start_temp=500,alpha=0.999,steps=10000)"
   ]
  },
  {
   "cell_type": "code",
   "execution_count": 50,
   "id": "f707ba1f",
   "metadata": {},
   "outputs": [
    {
     "name": "stdout",
     "output_type": "stream",
     "text": [
      "Starting Classification\n",
      "Class 1 - cultivar 1: 20 out of 59 are classified correctly\n",
      "Class 2 - cultivar 2: 25 out of 71 are classified correctly\n",
      "Class 3 - cultivar 3: 19 out of 48 are classified correctly\n",
      "CSA Solution Classification\n",
      "Class 1 - cultivar 1: 59 out of 59 are classified correctly\n",
      "Class 2 - cultivar 2: 65 out of 71 are classified correctly\n",
      "Class 3 - cultivar 3: 48 out of 48 are classified correctly\n",
      "Solution 2\n",
      "[1 1 1 1 1 1 1 1 1 1 1 1 1 1 1 1 1 1 1 1 2 2 2 2 2 2 2 2 2 2 1 2 2 2 2 2 2\n",
      " 2 2 2 2 2 2 3 3 3 3 3 3 3 3 3 3 3 3 3 3 3 1 1 1 1 1 1 1 1 1 1 1 1 1 1 1 1\n",
      " 1 1 1 1 2 2 2 2 2 2 2 2 2 2 2 2 2 2 2 2 2 2 2 2 2 3 2 2 2 3 3 3 3 3 3 3 3\n",
      " 3 3 3 3 3 3 1 1 1 1 1 1 1 1 1 1 1 1 1 1 1 1 1 1 1 3 2 2 2 1 2 2 2 3 2 2 2\n",
      " 2 2 2 2 2 2 1 2 2 2 3 3 3 3 3 3 3 3 3 3 3 3 3 3 3 3 3 3 3 2]\n",
      "Wine rankings\n",
      "[1 1 1 1 1 1 1 1 1 1 1 1 1 1 1 1 1 1 1 1 2 2 2 2 2 2 2 2 2 2 2 2 2 2 2 2 2\n",
      " 2 2 2 2 2 2 3 3 3 3 3 3 3 3 3 3 3 3 3 3 3 1 1 1 1 1 1 1 1 1 1 1 1 1 1 1 1\n",
      " 1 1 1 1 2 2 2 2 2 2 2 2 2 2 2 2 2 2 2 2 2 2 2 2 2 2 2 2 2 3 3 3 3 3 3 3 3\n",
      " 3 3 3 3 3 3 1 1 1 1 1 1 1 1 1 1 1 1 1 1 1 1 1 1 1 2 2 2 2 2 2 2 2 2 2 2 2\n",
      " 2 2 2 2 2 2 2 2 2 2 3 3 3 3 3 3 3 3 3 3 3 3 3 3 3 3 3 3 3 2]\n"
     ]
    }
   ],
   "source": [
    "print(\"Starting Classification\")\n",
    "validate(start,wines)\n",
    "print(\"CSA Solution Classification\")\n",
    "validate(sol2, wines)\n",
    "print('Solution 2')\n",
    "print(sol2)\n",
    "print('Wine rankings')\n",
    "print(wines['ranking'].to_numpy())"
   ]
  },
  {
   "cell_type": "markdown",
   "id": "d0e76470",
   "metadata": {},
   "source": [
    "By examining the solution vector proposed by the algorithm, it seems that the model does not differentiate between the three values for ranking. I notice that on some iterations it has grouped the three clusters together correctly but has labeled them different values for ranking, resulting all the wines of rank 2 to be classified as 1.\n",
    "\n",
    "This algorithm is an improvement over the previous version, so it seems that by randomly varying the mean centroid vector, the algorithm has found the most effective grouping by putting all wines into the cluster based on the distance to the centroid. However, I wonder if this is an example of overfitting, because we have come very close to the true clusters as given by the column 'ranking'. Also, this model does not allow us to plug in a value for an arbitrary wine's features and then predict the ranking - instead, the algorithm simply groups the data given into the most valid collection of clusters, which is why the # ranking of cluster 1 and 2 have been switched somewhere in the process. The algorithm is very accurate because although the starting vector was basically a random grouping, the random walk has found three centroids which represent the center of the clusters and minimize the cost function."
   ]
  },
  {
   "cell_type": "code",
   "execution_count": null,
   "id": "cfe5a157",
   "metadata": {},
   "outputs": [],
   "source": []
  }
 ],
 "metadata": {
  "kernelspec": {
   "display_name": "Python 3",
   "language": "python",
   "name": "python3"
  },
  "language_info": {
   "codemirror_mode": {
    "name": "ipython",
    "version": 3
   },
   "file_extension": ".py",
   "mimetype": "text/x-python",
   "name": "python",
   "nbconvert_exporter": "python",
   "pygments_lexer": "ipython3",
   "version": "3.9.12"
  }
 },
 "nbformat": 4,
 "nbformat_minor": 5
}
