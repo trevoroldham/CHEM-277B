{
  "nbformat": 4,
  "nbformat_minor": 0,
  "metadata": {
    "colab": {
      "provenance": []
    },
    "kernelspec": {
      "name": "python3",
      "display_name": "Python 3"
    },
    "language_info": {
      "name": "python"
    }
  },
  "cells": [
    {
      "cell_type": "markdown",
      "source": [
        "# CHEM277B Homework 8\n",
        "### Trevor Oldham\n"
      ],
      "metadata": {
        "id": "msRelgS-Jg2-"
      }
    },
    {
      "cell_type": "markdown",
      "source": [
        "### (A)\n",
        "\n",
        "Importing the MNIST Data and printing out relevant dimensions"
      ],
      "metadata": {
        "id": "2_4HmVPbJp1N"
      }
    },
    {
      "cell_type": "code",
      "source": [
        "import pandas as pd\n",
        "import numpy as np\n",
        "import cv2\n",
        "import matplotlib.pyplot as plt\n",
        "\n",
        "training_set, validation_set = pd.read_pickle('mnist.pkl')\n",
        "\n",
        "#examine the shape of the training set\n",
        "print(len(training_set[0]))\n",
        "print(len(training_set[0][0]))\n",
        "print(len(training_set[0][0][0]))\n",
        "print(len(validation_set[0]))\n",
        "\n",
        "#normalized the training data and reshape to shape (ndata, nfeatures)\n",
        "gray_img_train = np.array(training_set[0]).astype('uint8')\n",
        "gray_img_train = gray_img_train.reshape(60000, 32, 32)\n",
        "rgb_img_train = np.zeros((60000, 32, 32, 3))\n",
        "for i in range(len(gray_img_train[0])):\n",
        "  rgb_img_train[i] = cv2.cvtColor(gray_img_train[i],  cv2.COLOR_GRAY2RGB)\n",
        "print(gray_img_train.shape)\n",
        "print(rgb_img_train.shape)\n",
        "rgb_img_train = np.transpose(rgb_img_train, (0, 3, 1, 2))  # (60000, 3, 32, 32)\n",
        "normalized_train_set_x = rgb_img_train / 255\n",
        "print(normalized_train_set_x.shape)\n",
        "\n",
        "plt.show()\n",
        "\n",
        "gray_img_test = np.array(validation_set[0]).astype('uint8')\n",
        "gray_img_test = gray_img_test.reshape(10000, 32, 32)\n",
        "rgb_img_test = np.zeros((10000, 32, 32, 3))\n",
        "for i in range(len(gray_img_test[0])):\n",
        "  rgb_img_test[i] = cv2.cvtColor(gray_img_test[i],  cv2.COLOR_GRAY2RGB)\n",
        "print(gray_img_test.shape)\n",
        "print(rgb_img_test.shape)\n",
        "rgb_img_test = np.transpose(rgb_img_test, (0, 3, 1, 2))  # (10000, 3, 32, 32)\n",
        "normalized_test_set_x = rgb_img_test / 255\n",
        "print(normalized_test_set_x.shape)\n",
        "\n",
        "train_set_y = np.array(training_set[1])\n",
        "test_set_y = np.array(validation_set[1])"
      ],
      "metadata": {
        "colab": {
          "base_uri": "https://localhost:8080/"
        },
        "id": "nf6Ee9irJm-W",
        "outputId": "15270219-ae9e-41c2-d57f-583124fc08c3"
      },
      "execution_count": 139,
      "outputs": [
        {
          "output_type": "stream",
          "name": "stdout",
          "text": [
            "60000\n",
            "32\n",
            "32\n",
            "10000\n",
            "(60000, 32, 32)\n",
            "(60000, 32, 32, 3)\n",
            "(60000, 3, 32, 32)\n",
            "(10000, 32, 32)\n",
            "(10000, 32, 32, 3)\n",
            "(10000, 3, 32, 32)\n"
          ]
        }
      ]
    },
    {
      "cell_type": "markdown",
      "source": [
        "Calculate the size of the output after each convolution sequentially applied to the black and white 32x32 image.\n",
        "\n",
        "(i). Convolution Filter size of 2x2, number of filters 33, stride of 2, padding of 0\n",
        "\n",
        "(ii). Convolution Filter size of 3x3, number of filters 55, stride of 1, padding of 1\n",
        "\n",
        "(iii). Convolution Filter size of 3x3, number of filters 77, stride of 1, padding of 1. Followed by a Max\n",
        "Pooling with filter size of 2x2 and stride 2\n",
        "\n",
        "Using the equation below:\n",
        "\n",
        "$$ \\frac{I - K + 2P}{S} + 1 $$\n",
        "\n",
        "where I is the input dimension (32), K is the size of the filter, P is the size of the padding, and S is the stride."
      ],
      "metadata": {
        "id": "g4OfCUAhLb7w"
      }
    },
    {
      "cell_type": "markdown",
      "source": [
        "(i) $$ \\frac{32 - 2 + 2(0)}{2} + 1 = 16$$\n",
        "\n",
        "So in this case we get a 16x16 image for each of the 33 feature maps."
      ],
      "metadata": {
        "id": "0ylXx20kMYbu"
      }
    },
    {
      "cell_type": "markdown",
      "source": [
        "(ii) $$ \\frac{16 - 3 + 2(1)}{1} + 1 = 16$$\n",
        "\n",
        "This case returns a 16x16 image for each of the 55 feature maps."
      ],
      "metadata": {
        "id": "HXp18ISeNdEz"
      }
    },
    {
      "cell_type": "markdown",
      "source": [
        "(iii) $$ \\frac{16 - 3 + 2(1)}{1} + 1 = 16$$\n",
        "\n",
        "Then we apply the max pooling operation with 2x2 filter and stride 2:\n",
        "\n",
        "$$ \\frac{16 - 2 + 2(0)}{2} + 1 = 8$$\n",
        "\n",
        "Which yields an 8x8 image for each of the 77 feature maps."
      ],
      "metadata": {
        "id": "IWpMsMSRNufY"
      }
    },
    {
      "cell_type": "markdown",
      "source": [
        "### (B)\n",
        "\n",
        "The MNIST data set was, in fact, in color (RGB). This means the depth of the input image would\n",
        "be 3. Calculate the dimensionality of the output for the following convolutions sequentially applied to a\n",
        "RGB MNIST input:\n",
        "\n",
        "(i). Convolution Filter size of 2x2, number of filters 33, stride of 2, padding of 0\n",
        "\n",
        "(ii). Convolution Filter size of 3x3, number of filters 55, stride of 1, padding of 1. Followed by a max\n",
        "pooling layer of kernel size 3x3, stride of 1, padding of 0\n",
        "\n",
        "(iii). Convolution Filter size of 3x3, number of filters 77, stride of 1, padding of 1. Followed by a Max\n",
        "Pooling with filter size of 2x2 and stride 2."
      ],
      "metadata": {
        "id": "IynmDtzQSlZt"
      }
    },
    {
      "cell_type": "code",
      "source": [],
      "metadata": {
        "id": "XKpdd-5nSqmz"
      },
      "execution_count": 139,
      "outputs": []
    },
    {
      "cell_type": "markdown",
      "source": [
        "(i) $$ \\frac{32 - 2 + 2(0)}{2} + 1 = 16$$\n",
        "\n",
        "This convolution yields a 16x16x3 image for each 33 filters."
      ],
      "metadata": {
        "id": "SWQ_oirGTnTF"
      }
    },
    {
      "cell_type": "markdown",
      "source": [
        "(ii)\n",
        "\n",
        "$$ \\frac{16 - 3 + 2(1)}{1} + 1 = 16$$\n",
        "\n",
        "Followed by a max pooling layer with F=3, S = 1, we use the equation below:\n",
        "\n",
        "$$ H2 =  \\frac{H1 - F}{S} + 1$$\n",
        "$$ H2 =  \\frac{16 - 3}{1} + 1 = 14$$\n",
        "\n",
        "The calculation for the width is the same and thus we have a 14x14x3 image for each of the 55 filters.\n"
      ],
      "metadata": {
        "id": "HCW5af_VYfPB"
      }
    },
    {
      "cell_type": "markdown",
      "source": [
        "(iii)\n",
        "\n",
        "$$ \\frac{14 - 3 + 2(1)}{1} + 1 = 14$$\n",
        "\n",
        "Followed by a max pooling layer with F=2, S = 2, we use the equation below:\n",
        "\n",
        "$$ H2 =  \\frac{H1 - F}{S} + 1$$\n",
        "$$ H2 =  \\frac{14 - 2}{2} + 1 = 7$$\n",
        "\n",
        "So this layer yields an image of 7x7x3 for each of the 77 filters.\n"
      ],
      "metadata": {
        "id": "Pgs3UIJVZyZw"
      }
    },
    {
      "cell_type": "code",
      "source": [],
      "metadata": {
        "id": "cfgN_6gzYclI"
      },
      "execution_count": 139,
      "outputs": []
    },
    {
      "cell_type": "markdown",
      "source": [
        "# (C)\n"
      ],
      "metadata": {
        "id": "TknE8NQNc7o5"
      }
    },
    {
      "cell_type": "code",
      "source": [
        "from functools import wraps\n",
        "from time import time\n",
        "\n",
        "def timing(f):\n",
        "    @wraps(f)\n",
        "    def wrap(*args, **kw):\n",
        "        ts = time()\n",
        "        result = f(*args, **kw)\n",
        "        te = time()\n",
        "        print('func:%r  took: %2.4f sec' % (f.__name__,  te-ts))\n",
        "        return result\n",
        "    return wrap"
      ],
      "metadata": {
        "id": "x5HWFagRc_my"
      },
      "execution_count": 140,
      "outputs": []
    },
    {
      "cell_type": "code",
      "source": [
        "from torch.optim import SGD, Adam\n",
        "import torch.nn.functional as F\n",
        "import random\n",
        "from tqdm import tqdm\n",
        "import math\n",
        "from sklearn.model_selection import train_test_split, KFold\n",
        "\n",
        "def create_chunks(complete_list, chunk_size=None, num_chunks=None):\n",
        "    '''\n",
        "    Cut a list into multiple chunks, each having chunk_size (the last chunk might be less than chunk_size) or having a total of num_chunk chunks\n",
        "    '''\n",
        "    chunks = []\n",
        "    if num_chunks is None:\n",
        "        num_chunks = math.ceil(len(complete_list) / chunk_size)\n",
        "    elif chunk_size is None:\n",
        "        chunk_size = math.ceil(len(complete_list) / num_chunks)\n",
        "    for i in range(num_chunks):\n",
        "        chunks.append(complete_list[i * chunk_size: (i + 1) * chunk_size])\n",
        "    return chunks\n",
        "\n",
        "class Trainer():\n",
        "    def __init__(self, model, optimizer_type, learning_rate, epoch, batch_size, input_transform=lambda x: x,):\n",
        "        \"\"\" The class for training the model\n",
        "        model: nn.Module\n",
        "            A pytorch model\n",
        "        optimizer_type: 'adam' or 'sgd'\n",
        "        learning_rate: float\n",
        "        epoch: int\n",
        "        batch_size: int\n",
        "        input_transform: func\n",
        "            transforming input. Can do reshape here\n",
        "        \"\"\"\n",
        "        self.model = model\n",
        "        if optimizer_type == \"sgd\":\n",
        "            self.optimizer = SGD(model.parameters(), learning_rate,momentum=0.9)\n",
        "        elif optimizer_type == \"adam\":\n",
        "            self.optimizer = torch.optim.Adam(model.parameters(), lr=learning_rate)\n",
        "            \n",
        "        self.epoch = epoch\n",
        "        self.batch_size = batch_size\n",
        "        self.input_transform = input_transform\n",
        "        self.learning_rate = learning_rate\n",
        "\n",
        "\n",
        "    @timing\n",
        "    def train(self, inputs, outputs, val_inputs, val_outputs,early_stop=False,l2=False,silent=False):\n",
        "        \"\"\" train self.model with specified arguments\n",
        "        inputs: np.array, The shape of input_transform(input) should be (ndata,nfeatures)\n",
        "        outputs: np.array shape (ndata,)\n",
        "        val_nputs: np.array, The shape of input_transform(val_input) should be (ndata,nfeatures)\n",
        "        val_outputs: np.array shape (ndata,)\n",
        "        early_stop: bool\n",
        "        l2: bool\n",
        "        silent: bool. Controls whether or not to print the train and val error during training\n",
        "        \n",
        "        @return\n",
        "        a dictionary of arrays with train and val losses and accuracies\n",
        "        \"\"\"\n",
        "        ### convert data to tensor of correct shape and type here ###\n",
        "        inputs = torch.tensor(inputs, dtype=torch.float32)\n",
        "        outputs = torch.tensor(outputs, dtype=torch.long)\n",
        "        val_inputs = torch.tensor(val_inputs, dtype=torch.float32)\n",
        "        val_outputs = torch.tensor(val_outputs, dtype=torch.long)\n",
        "        \n",
        "        losses = []\n",
        "        accuracies = []\n",
        "        val_losses = []\n",
        "        val_accuracies = []\n",
        "        weights = self.model.state_dict()\n",
        "        lowest_val_loss = np.inf\n",
        "        \n",
        "        for n_epoch in tqdm(range(self.epoch), leave=False):\n",
        "            self.model.train()\n",
        "            batch_indices = list(range(inputs.shape[0]))\n",
        "            random.shuffle(batch_indices)\n",
        "            batch_indices = create_chunks(batch_indices, chunk_size=self.batch_size)\n",
        "            epoch_loss = 0\n",
        "            epoch_acc = 0\n",
        "            for batch in batch_indices:\n",
        "                batch_importance = len(batch) / len(outputs)\n",
        "                batch_input = inputs[batch]\n",
        "                batch_output = outputs[batch]\n",
        "                ### make prediction and compute loss with loss function of your choice on this batch ###\n",
        "                batch_predictions = self.model.forward(batch_input)\n",
        "                loss_func = nn.CrossEntropyLoss()\n",
        "                loss = loss_func(batch_predictions, batch_output)\n",
        "                if l2:\n",
        "                    ### Compute the loss with L2 regularization ###\n",
        "                    self.optimizer = torch.optim.Adam(model.parameters(), lr = self.learning_rate, weight_decay = 1e-5)\n",
        "                    loss = loss_func(batch_predictions, batch_output)\n",
        "                self.optimizer.zero_grad()\n",
        "                loss.backward()\n",
        "                self.optimizer.step()\n",
        "                ### Compute epoch_loss and epoch_acc\n",
        "            epoch_loss, epoch_acc = self.evaluate(inputs, outputs)  \n",
        "            val_loss, val_acc = self.evaluate(val_inputs, val_outputs, print_acc=False)\n",
        "            if n_epoch % 10 ==0 and not silent: \n",
        "                print(\"Epoch %d/%d - Loss: %.3f - Acc: %.3f\" % (n_epoch + 1, self.epoch, epoch_loss, epoch_acc))\n",
        "                print(\"              Val_loss: %.3f - Val_acc: %.3f\" % (val_loss, val_acc))\n",
        "            losses.append(epoch_loss.detach().numpy())\n",
        "            accuracies.append(epoch_acc)\n",
        "            val_losses.append(val_loss.detach().numpy())\n",
        "            val_accuracies.append(val_acc)\n",
        "            if early_stop:\n",
        "                if val_loss < lowest_val_loss:\n",
        "                    lowest_val_loss = val_loss\n",
        "                    weights = self.model.state_dict()\n",
        "\n",
        "        if early_stop:\n",
        "            self.model.load_state_dict(weights)    \n",
        "\n",
        "        return {\"losses\": losses, \"accuracies\": accuracies, \"val_losses\": val_losses, \"val_accuracies\": val_accuracies}\n",
        "        \n",
        "    def evaluate(self, inputs, outputs, print_acc=False):\n",
        "        \"\"\" evaluate model on provided input and output\n",
        "        inputs: np.array, The shape of input_transform(input) should be (ndata,nfeatures)\n",
        "        outputs: np.array shape (ndata,)\n",
        "        print_acc: bool\n",
        "        \n",
        "        @return\n",
        "        losses: float\n",
        "        acc: float\n",
        "        \"\"\"\n",
        "\n",
        "        inputs = torch.tensor(inputs, dtype=torch.float32)\n",
        "        outputs = torch.tensor(outputs, dtype=torch.long)\n",
        "\n",
        "        loss_func = nn.CrossEntropyLoss()\n",
        "        \n",
        "        pred = self.model.forward(inputs)\n",
        "\n",
        "        losses = loss_func(pred, outputs)\n",
        "        #print(\"pred = \", pred)\n",
        "        #print(\"truth = \" ,outputs)\n",
        "        \n",
        "        sum = 0\n",
        "        for i in range(len(outputs)):\n",
        "          if outputs[i] == torch.argmax(pred[i]):\n",
        "            sum += 1\n",
        "        acc = sum / len(outputs)\n",
        "        if print_acc:\n",
        "            print(\"Accuracy: %.3f\" % acc)\n",
        "        return losses, acc"
      ],
      "metadata": {
        "id": "jUCkw37RdDQW"
      },
      "execution_count": 141,
      "outputs": []
    },
    {
      "cell_type": "code",
      "source": [
        "from torch import nn\n",
        "import torch\n",
        "class ConvMLP(nn.Module):\n",
        "    def __init__(self):\n",
        "        super(ConvMLP, self).__init__()\n",
        "        self.conv = nn.Conv2d(3, 3, kernel_size = 5, stride=1, padding = 2)\n",
        "        self.fc = nn.Linear(3*32*32, 10)\n",
        "        self.activation = nn.ReLU()\n",
        "\n",
        "    def forward(self, x):\n",
        "        x = self.activation(self.conv(x))\n",
        "        x = nn.Flatten()(x)\n",
        "        x = self.activation(self.fc(x))\n",
        "        return x"
      ],
      "metadata": {
        "id": "sNHVx7x7d6Ej"
      },
      "execution_count": 142,
      "outputs": []
    },
    {
      "cell_type": "code",
      "source": [
        "from torchsummary import summary\n",
        "model = ConvMLP()\n",
        "summary(model, (3, 32, 32))"
      ],
      "metadata": {
        "id": "2jPXiu3Ld_W-",
        "colab": {
          "base_uri": "https://localhost:8080/"
        },
        "outputId": "53a8cb08-2fcf-4b79-f6e0-dedbaaeb7661"
      },
      "execution_count": 143,
      "outputs": [
        {
          "output_type": "stream",
          "name": "stdout",
          "text": [
            "----------------------------------------------------------------\n",
            "        Layer (type)               Output Shape         Param #\n",
            "================================================================\n",
            "            Conv2d-1            [-1, 3, 32, 32]             228\n",
            "              ReLU-2            [-1, 3, 32, 32]               0\n",
            "            Linear-3                   [-1, 10]          30,730\n",
            "              ReLU-4                   [-1, 10]               0\n",
            "================================================================\n",
            "Total params: 30,958\n",
            "Trainable params: 30,958\n",
            "Non-trainable params: 0\n",
            "----------------------------------------------------------------\n",
            "Input size (MB): 0.01\n",
            "Forward/backward pass size (MB): 0.05\n",
            "Params size (MB): 0.12\n",
            "Estimated Total Size (MB): 0.18\n",
            "----------------------------------------------------------------\n"
          ]
        }
      ]
    },
    {
      "cell_type": "code",
      "source": [
        "import matplotlib.pyplot as plt\n",
        "from sklearn.model_selection import KFold\n",
        "def Kfold_validation(n, inputs, outputs):\n",
        "\n",
        "    total_num=len(inputs)\n",
        "    kf=KFold(n_splits=n,shuffle=True)\n",
        "\n",
        "\n",
        "    \n",
        "    for train_selector,test_selector in kf.split(range(total_num)):\n",
        "        ### Decide training examples and testing examples for this fold ###\n",
        "        train_Xs= inputs[train_selector]\n",
        "        test_Xs=  inputs[test_selector]\n",
        "        train_ys= outputs[train_selector]\n",
        "        test_ys= outputs[test_selector]\n",
        "\n",
        "        model = ConvMLP()\n",
        "        t = Trainer(model, optimizer_type='adam', learning_rate=1e-3, epoch=30, batch_size=64, input_transform=lambda x: x,)\n",
        "        train_in,val_in,train_real,val_real=train_test_split(train_Xs,train_ys, train_size = 0.666)\n",
        "        \n",
        "        dictionary = t.train(train_in, train_real, val_in, val_real,early_stop=True,l2=False,silent=False)\n",
        "\n",
        "    return dictionary, model"
      ],
      "metadata": {
        "id": "4PUiP9Vpfuik"
      },
      "execution_count": 144,
      "outputs": []
    },
    {
      "cell_type": "code",
      "source": [
        "dictionary, model = Kfold_validation(3, normalized_train_set_x[0:1000], train_set_y[0:1000])"
      ],
      "metadata": {
        "id": "FaVtL6eOpFtS",
        "colab": {
          "base_uri": "https://localhost:8080/"
        },
        "outputId": "d4c776ce-3be2-4f83-d40c-2208717c18c7"
      },
      "execution_count": 145,
      "outputs": [
        {
          "output_type": "stream",
          "name": "stderr",
          "text": [
            "  0%|          | 0/30 [00:00<?, ?it/s]<ipython-input-141-5a654197e45b>:125: UserWarning: To copy construct from a tensor, it is recommended to use sourceTensor.clone().detach() or sourceTensor.clone().detach().requires_grad_(True), rather than torch.tensor(sourceTensor).\n",
            "  inputs = torch.tensor(inputs, dtype=torch.float32)\n",
            "<ipython-input-141-5a654197e45b>:126: UserWarning: To copy construct from a tensor, it is recommended to use sourceTensor.clone().detach() or sourceTensor.clone().detach().requires_grad_(True), rather than torch.tensor(sourceTensor).\n",
            "  outputs = torch.tensor(outputs, dtype=torch.long)\n",
            "  7%|▋         | 2/30 [00:00<00:03,  7.84it/s]"
          ]
        },
        {
          "output_type": "stream",
          "name": "stdout",
          "text": [
            "Epoch 1/30 - Loss: 2.299 - Acc: 0.102\n",
            "              Val_loss: 2.301 - Val_acc: 0.103\n"
          ]
        },
        {
          "output_type": "stream",
          "name": "stderr",
          "text": [
            " 40%|████      | 12/30 [00:01<00:02,  7.90it/s]"
          ]
        },
        {
          "output_type": "stream",
          "name": "stdout",
          "text": [
            "Epoch 11/30 - Loss: 2.282 - Acc: 0.122\n",
            "              Val_loss: 2.295 - Val_acc: 0.126\n"
          ]
        },
        {
          "output_type": "stream",
          "name": "stderr",
          "text": [
            " 73%|███████▎  | 22/30 [00:02<00:00,  8.01it/s]"
          ]
        },
        {
          "output_type": "stream",
          "name": "stdout",
          "text": [
            "Epoch 21/30 - Loss: 2.281 - Acc: 0.122\n",
            "              Val_loss: 2.292 - Val_acc: 0.126\n"
          ]
        },
        {
          "output_type": "stream",
          "name": "stderr",
          "text": []
        },
        {
          "output_type": "stream",
          "name": "stdout",
          "text": [
            "func:'train'  took: 3.8070 sec\n"
          ]
        },
        {
          "output_type": "stream",
          "name": "stderr",
          "text": [
            "  3%|▎         | 1/30 [00:00<00:03,  8.41it/s]"
          ]
        },
        {
          "output_type": "stream",
          "name": "stdout",
          "text": [
            "Epoch 1/30 - Loss: 2.301 - Acc: 0.117\n",
            "              Val_loss: 2.305 - Val_acc: 0.090\n"
          ]
        },
        {
          "output_type": "stream",
          "name": "stderr",
          "text": [
            " 40%|████      | 12/30 [00:01<00:02,  6.09it/s]"
          ]
        },
        {
          "output_type": "stream",
          "name": "stdout",
          "text": [
            "Epoch 11/30 - Loss: 2.272 - Acc: 0.122\n",
            "              Val_loss: 2.314 - Val_acc: 0.094\n"
          ]
        },
        {
          "output_type": "stream",
          "name": "stderr",
          "text": [
            " 73%|███████▎  | 22/30 [00:03<00:01,  6.72it/s]"
          ]
        },
        {
          "output_type": "stream",
          "name": "stdout",
          "text": [
            "Epoch 21/30 - Loss: 2.271 - Acc: 0.122\n",
            "              Val_loss: 2.318 - Val_acc: 0.099\n"
          ]
        },
        {
          "output_type": "stream",
          "name": "stderr",
          "text": []
        },
        {
          "output_type": "stream",
          "name": "stdout",
          "text": [
            "func:'train'  took: 4.5425 sec\n"
          ]
        },
        {
          "output_type": "stream",
          "name": "stderr",
          "text": [
            "  3%|▎         | 1/30 [00:00<00:03,  7.63it/s]"
          ]
        },
        {
          "output_type": "stream",
          "name": "stdout",
          "text": [
            "Epoch 1/30 - Loss: 2.301 - Acc: 0.101\n",
            "              Val_loss: 2.303 - Val_acc: 0.090\n"
          ]
        },
        {
          "output_type": "stream",
          "name": "stderr",
          "text": [
            " 40%|████      | 12/30 [00:01<00:02,  7.92it/s]"
          ]
        },
        {
          "output_type": "stream",
          "name": "stdout",
          "text": [
            "Epoch 11/30 - Loss: 2.281 - Acc: 0.128\n",
            "              Val_loss: 2.301 - Val_acc: 0.135\n"
          ]
        },
        {
          "output_type": "stream",
          "name": "stderr",
          "text": [
            " 73%|███████▎  | 22/30 [00:02<00:00,  8.18it/s]"
          ]
        },
        {
          "output_type": "stream",
          "name": "stdout",
          "text": [
            "Epoch 21/30 - Loss: 2.280 - Acc: 0.128\n",
            "              Val_loss: 2.304 - Val_acc: 0.135\n"
          ]
        },
        {
          "output_type": "stream",
          "name": "stderr",
          "text": [
            "                                               "
          ]
        },
        {
          "output_type": "stream",
          "name": "stdout",
          "text": [
            "func:'train'  took: 3.7226 sec\n"
          ]
        },
        {
          "output_type": "stream",
          "name": "stderr",
          "text": [
            "\r"
          ]
        }
      ]
    },
    {
      "cell_type": "code",
      "source": [
        "\n",
        "losses = dictionary['losses']\n",
        "accuracies = dictionary['accuracies']\n",
        "accuracies = np.asarray(accuracies)\n",
        "losses = np.asarray(losses)\n",
        "plt.figure()\n",
        "plt.plot(np.arange(len(losses)),losses,label='Training loss')\n",
        "plt.plot(np.arange(len(accuracies)),accuracies,label='Training Accuracy')\n",
        "plt.xlabel('Epochs')\n",
        "plt.ylabel('Loss')\n",
        "plt.legend()\n",
        "\n",
        "val_losses = dictionary['val_losses']\n",
        "val_accuracies = dictionary['val_accuracies']\n",
        "val_accuracies = np.asarray(val_accuracies)\n",
        "val_losses = np.asarray(val_losses)\n",
        "plt.figure()\n",
        "plt.plot(np.arange(len(val_losses)),val_losses,label='Validation loss')\n",
        "plt.plot(np.arange(len(val_accuracies)),val_accuracies,label='Validation Accuracy')\n",
        "plt.xlabel('Epochs')\n",
        "plt.ylabel('Loss')\n",
        "plt.legend()    \n"
      ],
      "metadata": {
        "id": "wfLuSMtbpaDm",
        "colab": {
          "base_uri": "https://localhost:8080/",
          "height": 898
        },
        "outputId": "4ed91c7d-5b76-4c58-d11b-4b170f44ed3e"
      },
      "execution_count": 146,
      "outputs": [
        {
          "output_type": "execute_result",
          "data": {
            "text/plain": [
              "<matplotlib.legend.Legend at 0x7f716c277d00>"
            ]
          },
          "metadata": {},
          "execution_count": 146
        },
        {
          "output_type": "display_data",
          "data": {
            "text/plain": [
              "<Figure size 640x480 with 1 Axes>"
            ],
            "image/png": "[encoded data removed]"
          },
          "metadata": {}
        },
        {
          "output_type": "display_data",
          "data": {
            "text/plain": [
              "<Figure size 640x480 with 1 Axes>"
            ],
            "image/png": "[encoded data removed]"
          },
          "metadata": {}
        }
      ]
    },
    {
      "cell_type": "code",
      "source": [
        "#feed forward into the model with the test data from MNIST and compare the results to the true y values\n",
        "output = model.forward(torch.tensor(normalized_test_set_x, dtype = torch.float32))\n",
        "sum = 0\n",
        "for i in range(len(output)):\n",
        "  if (test_set_y[i] == torch.argmax(output[i])):\n",
        "    sum += 1\n",
        "print(sum/len(output))"
      ],
      "metadata": {
        "colab": {
          "base_uri": "https://localhost:8080/"
        },
        "id": "TDLOLqrNqIkp",
        "outputId": "b575c829-8754-42f2-da8a-3b03312ae305"
      },
      "execution_count": 147,
      "outputs": [
        {
          "output_type": "stream",
          "name": "stdout",
          "text": [
            "0.1034\n"
          ]
        }
      ]
    },
    {
      "cell_type": "code",
      "source": [],
      "metadata": {
        "id": "5cXdCYZvu7qV"
      },
      "execution_count": 147,
      "outputs": []
    },
    {
      "cell_type": "markdown",
      "source": [
        "### (D)"
      ],
      "metadata": {
        "id": "6kx7WIC64M3C"
      }
    },
    {
      "cell_type": "code",
      "source": [
        "class ConvMLP2(nn.Module):\n",
        "    def __init__(self):\n",
        "        super(ConvMLP2, self).__init__()\n",
        "        self.conv = nn.ModuleList([nn.Conv2d(3, 16, kernel_size=3, stride=1, padding=1),\n",
        "                                  nn.Conv2d(16, 16, kernel_size=3, stride=1, padding=1)])\n",
        "        self.pool = nn.MaxPool2d(kernel_size=2, stride=2)\n",
        "        self.fc = nn.ModuleList([nn.Linear(16 * 8 * 8, 128), nn.Linear(128, 10)])\n",
        "        self.activation = nn.ReLU()\n",
        "\n",
        "    def forward(self, x):\n",
        "        x = self.pool(self.activation(self.conv[0](x)))\n",
        "        x = self.pool(self.activation(self.conv[1](x)))\n",
        "        x = nn.Flatten()(x)\n",
        "        x = self.activation(self.fc[0](x))\n",
        "        x = self.activation(self.fc[1](x))\n",
        "        return x"
      ],
      "metadata": {
        "id": "AXunDjdQyn9l"
      },
      "execution_count": 148,
      "outputs": []
    },
    {
      "cell_type": "code",
      "source": [
        "model = ConvMLP2()\n",
        "summary(model, (3, 32, 32))"
      ],
      "metadata": {
        "colab": {
          "base_uri": "https://localhost:8080/"
        },
        "id": "ZKsZsd4f7Uct",
        "outputId": "59a309be-4e5e-4b04-8e62-83ebce8d7d74"
      },
      "execution_count": 149,
      "outputs": [
        {
          "output_type": "stream",
          "name": "stdout",
          "text": [
            "----------------------------------------------------------------\n",
            "        Layer (type)               Output Shape         Param #\n",
            "================================================================\n",
            "            Conv2d-1           [-1, 16, 32, 32]             448\n",
            "              ReLU-2           [-1, 16, 32, 32]               0\n",
            "         MaxPool2d-3           [-1, 16, 16, 16]               0\n",
            "            Conv2d-4           [-1, 16, 16, 16]           2,320\n",
            "              ReLU-5           [-1, 16, 16, 16]               0\n",
            "         MaxPool2d-6             [-1, 16, 8, 8]               0\n",
            "            Linear-7                  [-1, 128]         131,200\n",
            "              ReLU-8                  [-1, 128]               0\n",
            "            Linear-9                   [-1, 10]           1,290\n",
            "             ReLU-10                   [-1, 10]               0\n",
            "================================================================\n",
            "Total params: 135,258\n",
            "Trainable params: 135,258\n",
            "Non-trainable params: 0\n",
            "----------------------------------------------------------------\n",
            "Input size (MB): 0.01\n",
            "Forward/backward pass size (MB): 0.35\n",
            "Params size (MB): 0.52\n",
            "Estimated Total Size (MB): 0.88\n",
            "----------------------------------------------------------------\n"
          ]
        }
      ]
    },
    {
      "cell_type": "code",
      "source": [
        "def Kfold_validation_2(n, inputs, outputs):\n",
        "\n",
        "    total_num=len(inputs)\n",
        "    kf=KFold(n_splits=n,shuffle=True)\n",
        "\n",
        "\n",
        "    \n",
        "    for train_selector,test_selector in kf.split(range(total_num)):\n",
        "        ### Decide training examples and testing examples for this fold ###\n",
        "        train_Xs= inputs[train_selector]\n",
        "        test_Xs=  inputs[test_selector]\n",
        "        train_ys= outputs[train_selector]\n",
        "        test_ys= outputs[test_selector]\n",
        "\n",
        "        model = ConvMLP2()\n",
        "        t = Trainer(model, optimizer_type='adam', learning_rate=1e-3, epoch=30, batch_size=128, input_transform=lambda x: x,)\n",
        "        train_in,val_in,train_real,val_real=train_test_split(train_Xs,train_ys, train_size = 0.666)\n",
        "        \n",
        "        dictionary = t.train(train_in, train_real, val_in, val_real,early_stop=False,l2=False,silent=False)\n",
        "\n",
        "    return dictionary, model"
      ],
      "metadata": {
        "id": "vyvwB1-17Z3Y"
      },
      "execution_count": 150,
      "outputs": []
    },
    {
      "cell_type": "code",
      "source": [
        "dictionary, model = Kfold_validation_2(3, normalized_train_set_x[0:1000], train_set_y[0:1000])\n"
      ],
      "metadata": {
        "colab": {
          "base_uri": "https://localhost:8080/"
        },
        "id": "nt-e4pa9HN6u",
        "outputId": "8dd7f68e-fada-4b56-d1fa-e7ccdb7fc5b8"
      },
      "execution_count": 151,
      "outputs": [
        {
          "output_type": "stream",
          "name": "stderr",
          "text": [
            "\r  0%|          | 0/30 [00:00<?, ?it/s]<ipython-input-141-5a654197e45b>:125: UserWarning: To copy construct from a tensor, it is recommended to use sourceTensor.clone().detach() or sourceTensor.clone().detach().requires_grad_(True), rather than torch.tensor(sourceTensor).\n",
            "  inputs = torch.tensor(inputs, dtype=torch.float32)\n",
            "<ipython-input-141-5a654197e45b>:126: UserWarning: To copy construct from a tensor, it is recommended to use sourceTensor.clone().detach() or sourceTensor.clone().detach().requires_grad_(True), rather than torch.tensor(sourceTensor).\n",
            "  outputs = torch.tensor(outputs, dtype=torch.long)\n",
            "  3%|▎         | 1/30 [00:00<00:08,  3.36it/s]"
          ]
        },
        {
          "output_type": "stream",
          "name": "stdout",
          "text": [
            "Epoch 1/30 - Loss: 2.301 - Acc: 0.120\n",
            "              Val_loss: 2.300 - Val_acc: 0.130\n"
          ]
        },
        {
          "output_type": "stream",
          "name": "stderr",
          "text": [
            " 37%|███▋      | 11/30 [00:02<00:04,  4.58it/s]"
          ]
        },
        {
          "output_type": "stream",
          "name": "stdout",
          "text": [
            "Epoch 11/30 - Loss: 2.300 - Acc: 0.120\n",
            "              Val_loss: 2.301 - Val_acc: 0.112\n"
          ]
        },
        {
          "output_type": "stream",
          "name": "stderr",
          "text": [
            " 70%|███████   | 21/30 [00:05<00:02,  3.24it/s]"
          ]
        },
        {
          "output_type": "stream",
          "name": "stdout",
          "text": [
            "Epoch 21/30 - Loss: 2.300 - Acc: 0.120\n",
            "              Val_loss: 2.301 - Val_acc: 0.112\n"
          ]
        },
        {
          "output_type": "stream",
          "name": "stderr",
          "text": []
        },
        {
          "output_type": "stream",
          "name": "stdout",
          "text": [
            "func:'train'  took: 7.7381 sec\n"
          ]
        },
        {
          "output_type": "stream",
          "name": "stderr",
          "text": [
            "  3%|▎         | 1/30 [00:00<00:06,  4.73it/s]"
          ]
        },
        {
          "output_type": "stream",
          "name": "stdout",
          "text": [
            "Epoch 1/30 - Loss: 2.298 - Acc: 0.126\n",
            "              Val_loss: 2.301 - Val_acc: 0.099\n"
          ]
        },
        {
          "output_type": "stream",
          "name": "stderr",
          "text": [
            " 37%|███▋      | 11/30 [00:02<00:04,  4.64it/s]"
          ]
        },
        {
          "output_type": "stream",
          "name": "stdout",
          "text": [
            "Epoch 11/30 - Loss: 2.271 - Acc: 0.144\n",
            "              Val_loss: 2.306 - Val_acc: 0.126\n"
          ]
        },
        {
          "output_type": "stream",
          "name": "stderr",
          "text": [
            " 70%|███████   | 21/30 [00:04<00:01,  4.64it/s]"
          ]
        },
        {
          "output_type": "stream",
          "name": "stdout",
          "text": [
            "Epoch 21/30 - Loss: 2.253 - Acc: 0.144\n",
            "              Val_loss: 2.300 - Val_acc: 0.126\n"
          ]
        },
        {
          "output_type": "stream",
          "name": "stderr",
          "text": []
        },
        {
          "output_type": "stream",
          "name": "stdout",
          "text": [
            "func:'train'  took: 6.4801 sec\n"
          ]
        },
        {
          "output_type": "stream",
          "name": "stderr",
          "text": [
            "  3%|▎         | 1/30 [00:00<00:06,  4.75it/s]"
          ]
        },
        {
          "output_type": "stream",
          "name": "stdout",
          "text": [
            "Epoch 1/30 - Loss: 2.301 - Acc: 0.119\n",
            "              Val_loss: 2.304 - Val_acc: 0.090\n"
          ]
        },
        {
          "output_type": "stream",
          "name": "stderr",
          "text": [
            " 37%|███▋      | 11/30 [00:02<00:04,  3.83it/s]"
          ]
        },
        {
          "output_type": "stream",
          "name": "stdout",
          "text": [
            "Epoch 11/30 - Loss: 2.281 - Acc: 0.131\n",
            "              Val_loss: 2.308 - Val_acc: 0.117\n"
          ]
        },
        {
          "output_type": "stream",
          "name": "stderr",
          "text": [
            " 70%|███████   | 21/30 [00:05<00:02,  3.87it/s]"
          ]
        },
        {
          "output_type": "stream",
          "name": "stdout",
          "text": [
            "Epoch 21/30 - Loss: 2.255 - Acc: 0.133\n",
            "              Val_loss: 2.304 - Val_acc: 0.117\n"
          ]
        },
        {
          "output_type": "stream",
          "name": "stderr",
          "text": [
            "                                               "
          ]
        },
        {
          "output_type": "stream",
          "name": "stdout",
          "text": [
            "func:'train'  took: 7.4687 sec\n"
          ]
        },
        {
          "output_type": "stream",
          "name": "stderr",
          "text": [
            "\r"
          ]
        }
      ]
    },
    {
      "cell_type": "code",
      "source": [
        "\n",
        "losses = dictionary['losses']\n",
        "accuracies = dictionary['accuracies']\n",
        "accuracies = np.asarray(accuracies)\n",
        "losses = np.asarray(losses)\n",
        "plt.figure()\n",
        "plt.plot(np.arange(len(losses)),losses,label='Training loss')\n",
        "plt.plot(np.arange(len(accuracies)),accuracies,label='Training Accuracy')\n",
        "plt.xlabel('Epochs')\n",
        "plt.ylabel('Loss')\n",
        "plt.legend()\n",
        "\n",
        "val_losses = dictionary['val_losses']\n",
        "val_accuracies = dictionary['val_accuracies']\n",
        "val_accuracies = np.asarray(val_accuracies)\n",
        "val_losses = np.asarray(val_losses)\n",
        "plt.figure()\n",
        "plt.plot(np.arange(len(val_losses)),val_losses,label='Validation loss')\n",
        "plt.plot(np.arange(len(val_accuracies)),val_accuracies,label='Validation Accuracy')\n",
        "plt.xlabel('Epochs')\n",
        "plt.ylabel('Loss')\n",
        "plt.legend()"
      ],
      "metadata": {
        "colab": {
          "base_uri": "https://localhost:8080/",
          "height": 898
        },
        "id": "iamnZL9zHSbE",
        "outputId": "ac4575d8-20f3-4869-fa9e-c9718cdd3f5a"
      },
      "execution_count": 152,
      "outputs": [
        {
          "output_type": "execute_result",
          "data": {
            "text/plain": [
              "<matplotlib.legend.Legend at 0x7f7199390d60>"
            ]
          },
          "metadata": {},
          "execution_count": 152
        },
        {
          "output_type": "display_data",
          "data": {
            "text/plain": [
              "<Figure size 640x480 with 1 Axes>"
            ],
            "image/png": "[encoded data removed]"
          },
          "metadata": {}
        },
        {
          "output_type": "display_data",
          "data": {
            "text/plain": [
              "<Figure size 640x480 with 1 Axes>"
            ],
            "image/png": "[encoded data removed]"
          },
          "metadata": {}
        }
      ]
    },
    {
      "cell_type": "code",
      "source": [],
      "metadata": {
        "id": "Exenf68DH-FC"
      },
      "execution_count": 152,
      "outputs": []
    }
  ]
}