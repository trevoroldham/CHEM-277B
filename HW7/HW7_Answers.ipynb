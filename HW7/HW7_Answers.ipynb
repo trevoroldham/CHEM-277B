{
  "nbformat": 4,
  "nbformat_minor": 0,
  "metadata": {
    "colab": {
      "provenance": []
    },
    "kernelspec": {
      "name": "python3",
      "display_name": "Python 3"
    },
    "language_info": {
      "name": "python"
    }
  },
  "cells": [
    {
      "cell_type": "markdown",
      "source": [
        "# CHEM277B Homework 7\n",
        "### Trevor Oldham\n",
        "\n",
        "#Problem 1\n",
        "### (A)\n",
        "\n",
        "Read the data from the mnist.pkl file and normalize the training set data."
      ],
      "metadata": {
        "id": "I8hiDBcIxU46"
      }
    },
    {
      "cell_type": "code",
      "source": [
        "import pandas as pd\n",
        "import numpy as np\n",
        "\n",
        "training_set, validation_set = pd.read_pickle('mnist.pkl')\n",
        "\n",
        "#examine the shape of the training set\n",
        "print(len(training_set[0]))\n",
        "print(len(training_set[0][0]))\n",
        "print(len(validation_set[0]))\n",
        "\n",
        "#normalized the training data and reshape to shape (ndata, nfeatures)\n",
        "normalized_train_set = tuple([z / 255 for z in training_set])\n",
        "normalized_train_set_x = np.array(normalized_train_set[0])\n",
        "normalized_train_set_x = normalized_train_set_x.reshape(60000, 1024)\n",
        "print(normalized_train_set_x.shape)\n",
        "\n",
        "train_set_y = np.array(training_set[1])\n",
        "#print(normalized_train_set_y.shape)\n",
        "\n",
        "#normalized the test data and reshape to shape (ndata, nfeatures)\n",
        "normalized_test_set = tuple([z / 255 for z in validation_set])\n",
        "normalized_test_set_x = np.array(normalized_test_set[0])\n",
        "normalized_test_set_x = normalized_test_set_x.reshape(10000, 1024)\n",
        "print(normalized_test_set_x.shape)\n",
        "\n",
        "test_set_y = np.array(validation_set[1])"
      ],
      "metadata": {
        "colab": {
          "base_uri": "https://localhost:8080/"
        },
        "id": "DnoiuoKoxd8Y",
        "outputId": "9a954a28-46f5-4e7d-a0e5-aa7826baa45b"
      },
      "execution_count": 19,
      "outputs": [
        {
          "output_type": "stream",
          "name": "stdout",
          "text": [
            "60000\n",
            "32\n",
            "10000\n",
            "(60000, 1024)\n",
            "(10000, 1024)\n"
          ]
        }
      ]
    },
    {
      "cell_type": "markdown",
      "source": [
        "### (B), (C)\n",
        "\n",
        "(B) Split the training set data into 3 folds with 1/3 used for validation and 2/3 used for training.\n",
        "\n",
        "(C) Do a 3-fold validation of the data with a learning rate of 2e-3, 50 epochs, batch size 128, and plot the loss and accuracy as a function of the epoch number."
      ],
      "metadata": {
        "id": "LeZKsgVa2xfS"
      }
    },
    {
      "cell_type": "code",
      "source": [
        "from torch import nn\n",
        "import torch\n",
        "\n",
        "class MLP(nn.Module):\n",
        "    def __init__(self):\n",
        "        super(MLP, self).__init__()\n",
        "        self.layers = nn.Sequential(\n",
        "            nn.Linear(1024, 3),\n",
        "            nn.Sigmoid(),\n",
        "            nn.Linear(3, 10),\n",
        "            nn.Sigmoid()\n",
        "        )\n",
        "        \n",
        "    def forward(self, x):\n",
        "        return self.layers(x)"
      ],
      "metadata": {
        "id": "3EC3LB_022hD"
      },
      "execution_count": 20,
      "outputs": []
    },
    {
      "cell_type": "code",
      "source": [
        "from functools import wraps\n",
        "from time import time\n",
        "\n",
        "def timing(f):\n",
        "    @wraps(f)\n",
        "    def wrap(*args, **kw):\n",
        "        ts = time()\n",
        "        result = f(*args, **kw)\n",
        "        te = time()\n",
        "        print('func:%r  took: %2.4f sec' % (f.__name__,  te-ts))\n",
        "        return result\n",
        "    return wrap"
      ],
      "metadata": {
        "id": "2dDKq2N23WSU"
      },
      "execution_count": 21,
      "outputs": []
    },
    {
      "cell_type": "code",
      "source": [
        "from torch.optim import SGD, Adam\n",
        "import torch.nn.functional as F\n",
        "import random\n",
        "from tqdm import tqdm\n",
        "import math\n",
        "from sklearn.model_selection import train_test_split, KFold\n",
        "\n",
        "def create_chunks(complete_list, chunk_size=None, num_chunks=None):\n",
        "    '''\n",
        "    Cut a list into multiple chunks, each having chunk_size (the last chunk might be less than chunk_size) or having a total of num_chunk chunks\n",
        "    '''\n",
        "    chunks = []\n",
        "    if num_chunks is None:\n",
        "        num_chunks = math.ceil(len(complete_list) / chunk_size)\n",
        "    elif chunk_size is None:\n",
        "        chunk_size = math.ceil(len(complete_list) / num_chunks)\n",
        "    for i in range(num_chunks):\n",
        "        chunks.append(complete_list[i * chunk_size: (i + 1) * chunk_size])\n",
        "    return chunks\n",
        "\n",
        "class Trainer():\n",
        "    def __init__(self, model, optimizer_type, learning_rate, epoch, batch_size, input_transform=lambda x: x,):\n",
        "        \"\"\" The class for training the model\n",
        "        model: nn.Module\n",
        "            A pytorch model\n",
        "        optimizer_type: 'adam' or 'sgd'\n",
        "        learning_rate: float\n",
        "        epoch: int\n",
        "        batch_size: int\n",
        "        input_transform: func\n",
        "            transforming input. Can do reshape here\n",
        "        \"\"\"\n",
        "        self.model = model\n",
        "        if optimizer_type == \"sgd\":\n",
        "            self.optimizer = SGD(model.parameters(), learning_rate,momentum=0.9)\n",
        "        elif optimizer_type == \"adam\":\n",
        "            self.optimizer = torch.optim.Adam(model.parameters(), lr=learning_rate)\n",
        "            \n",
        "        self.epoch = epoch\n",
        "        self.batch_size = batch_size\n",
        "        self.input_transform = input_transform\n",
        "        self.learning_rate = learning_rate\n",
        "\n",
        "\n",
        "    @timing\n",
        "    def train(self, inputs, outputs, val_inputs, val_outputs,early_stop=False,l2=False,silent=False):\n",
        "        \"\"\" train self.model with specified arguments\n",
        "        inputs: np.array, The shape of input_transform(input) should be (ndata,nfeatures)\n",
        "        outputs: np.array shape (ndata,)\n",
        "        val_nputs: np.array, The shape of input_transform(val_input) should be (ndata,nfeatures)\n",
        "        val_outputs: np.array shape (ndata,)\n",
        "        early_stop: bool\n",
        "        l2: bool\n",
        "        silent: bool. Controls whether or not to print the train and val error during training\n",
        "        \n",
        "        @return\n",
        "        a dictionary of arrays with train and val losses and accuracies\n",
        "        \"\"\"\n",
        "        ### convert data to tensor of correct shape and type here ###\n",
        "        inputs = torch.tensor(inputs, dtype=torch.float32)\n",
        "        outputs = torch.tensor(outputs, dtype=torch.long)\n",
        "        val_inputs = torch.tensor(val_inputs, dtype=torch.float32)\n",
        "        val_outputs = torch.tensor(val_outputs, dtype=torch.long)\n",
        "        \n",
        "        losses = []\n",
        "        accuracies = []\n",
        "        val_losses = []\n",
        "        val_accuracies = []\n",
        "        weights = self.model.state_dict()\n",
        "        lowest_val_loss = np.inf\n",
        "        \n",
        "        for n_epoch in tqdm(range(self.epoch), leave=False):\n",
        "            self.model.train()\n",
        "            batch_indices = list(range(inputs.shape[0]))\n",
        "            random.shuffle(batch_indices)\n",
        "            batch_indices = create_chunks(batch_indices, chunk_size=self.batch_size)\n",
        "            epoch_loss = 0\n",
        "            epoch_acc = 0\n",
        "            for batch in batch_indices:\n",
        "                batch_importance = len(batch) / len(outputs)\n",
        "                batch_input = inputs[batch]\n",
        "                batch_output = outputs[batch]\n",
        "                ### make prediction and compute loss with loss function of your choice on this batch ###\n",
        "                batch_predictions = self.model.forward(batch_input)\n",
        "                loss_func = nn.CrossEntropyLoss()\n",
        "                loss = loss_func(batch_predictions, batch_output)\n",
        "                if l2:\n",
        "                    ### Compute the loss with L2 regularization ###\n",
        "                    self.optimizer = torch.optim.Adam(model.parameters(), lr = self.learning_rate, weight_decay = 1e-5)\n",
        "                    loss = loss_func(batch_predictions, batch_output)\n",
        "                self.optimizer.zero_grad()\n",
        "                loss.backward()\n",
        "                self.optimizer.step()\n",
        "                ### Compute epoch_loss and epoch_acc\n",
        "            epoch_loss, epoch_acc = self.evaluate(inputs, outputs)  \n",
        "            val_loss, val_acc = self.evaluate(val_inputs, val_outputs, print_acc=False)\n",
        "            if n_epoch % 10 ==0 and not silent: \n",
        "                print(\"Epoch %d/%d - Loss: %.3f - Acc: %.3f\" % (n_epoch + 1, self.epoch, epoch_loss, epoch_acc))\n",
        "                print(\"              Val_loss: %.3f - Val_acc: %.3f\" % (val_loss, val_acc))\n",
        "            losses.append(epoch_loss.detach().numpy())\n",
        "            accuracies.append(epoch_acc)\n",
        "            val_losses.append(val_loss.detach().numpy())\n",
        "            val_accuracies.append(val_acc)\n",
        "            if early_stop:\n",
        "                if val_loss < lowest_val_loss:\n",
        "                    lowest_val_loss = val_loss\n",
        "                    weights = self.model.state_dict()\n",
        "\n",
        "        if early_stop:\n",
        "            self.model.load_state_dict(weights)    \n",
        "\n",
        "        return {\"losses\": losses, \"accuracies\": accuracies, \"val_losses\": val_losses, \"val_accuracies\": val_accuracies}\n",
        "        \n",
        "    def evaluate(self, inputs, outputs, print_acc=False):\n",
        "        \"\"\" evaluate model on provided input and output\n",
        "        inputs: np.array, The shape of input_transform(input) should be (ndata,nfeatures)\n",
        "        outputs: np.array shape (ndata,)\n",
        "        print_acc: bool\n",
        "        \n",
        "        @return\n",
        "        losses: float\n",
        "        acc: float\n",
        "        \"\"\"\n",
        "\n",
        "        inputs = torch.tensor(inputs, dtype=torch.float32)\n",
        "        outputs = torch.tensor(outputs, dtype=torch.long)\n",
        "\n",
        "        loss_func = nn.CrossEntropyLoss()\n",
        "        \n",
        "        pred = self.model.forward(inputs)\n",
        "\n",
        "        losses = loss_func(pred, outputs)\n",
        "        #print(\"pred = \", pred)\n",
        "        #print(\"truth = \" ,outputs)\n",
        "        \n",
        "        sum = 0\n",
        "        for i in range(len(outputs)):\n",
        "          if outputs[i] == torch.argmax(pred[i]):\n",
        "            sum += 1\n",
        "        acc = sum / len(outputs)\n",
        "        if print_acc:\n",
        "            print(\"Accuracy: %.3f\" % acc)\n",
        "        return losses, acc"
      ],
      "metadata": {
        "id": "77ACJ-Gf3tKN"
      },
      "execution_count": 86,
      "outputs": []
    },
    {
      "cell_type": "code",
      "source": [
        "import matplotlib.pyplot as plt\n",
        "def Kfold_validation(n, inputs, outputs):\n",
        "\n",
        "    total_num=len(inputs)\n",
        "    kf=KFold(n_splits=n,shuffle=True)\n",
        "\n",
        "\n",
        "    \n",
        "    for train_selector,test_selector in kf.split(range(total_num)):\n",
        "        ### Decide training examples and testing examples for this fold ###\n",
        "        train_Xs= inputs[train_selector]\n",
        "        test_Xs=  inputs[test_selector]\n",
        "        train_ys= outputs[train_selector]\n",
        "        test_ys= outputs[test_selector]\n",
        "\n",
        "        model = MLP()\n",
        "        t = Trainer(model, optimizer_type='adam', learning_rate=2e-3, epoch=50, batch_size=128, input_transform=lambda x: x,)\n",
        "        train_in,val_in,train_real,val_real=train_test_split(train_Xs,train_ys, train_size = 0.666)\n",
        "        \n",
        "        dictionary = t.train(train_in, train_real, val_in, val_real,early_stop=False,l2=False,silent=False)\n",
        "\n",
        "    return dictionary"
      ],
      "metadata": {
        "id": "AXohOcaF30CH"
      },
      "execution_count": 87,
      "outputs": []
    },
    {
      "cell_type": "code",
      "source": [
        "dictionary = Kfold_validation(3, normalized_train_set_x, train_set_y)"
      ],
      "metadata": {
        "colab": {
          "base_uri": "https://localhost:8080/"
        },
        "id": "hL0nwg38BJ72",
        "outputId": "3696d760-259f-453b-a84e-e420bdd886f0"
      },
      "execution_count": 88,
      "outputs": [
        {
          "output_type": "stream",
          "name": "stderr",
          "text": [
            "\r  0%|          | 0/50 [00:00<?, ?it/s]<ipython-input-86-5a654197e45b>:125: UserWarning: To copy construct from a tensor, it is recommended to use sourceTensor.clone().detach() or sourceTensor.clone().detach().requires_grad_(True), rather than torch.tensor(sourceTensor).\n",
            "  inputs = torch.tensor(inputs, dtype=torch.float32)\n",
            "<ipython-input-86-5a654197e45b>:126: UserWarning: To copy construct from a tensor, it is recommended to use sourceTensor.clone().detach() or sourceTensor.clone().detach().requires_grad_(True), rather than torch.tensor(sourceTensor).\n",
            "  outputs = torch.tensor(outputs, dtype=torch.long)\n",
            "  2%|▏         | 1/50 [00:01<00:59,  1.22s/it]"
          ]
        },
        {
          "output_type": "stream",
          "name": "stdout",
          "text": [
            "Epoch 1/50 - Loss: 2.180 - Acc: 0.347\n",
            "              Val_loss: 2.181 - Val_acc: 0.342\n"
          ]
        },
        {
          "output_type": "stream",
          "name": "stderr",
          "text": [
            " 22%|██▏       | 11/50 [00:12<00:39,  1.01s/it]"
          ]
        },
        {
          "output_type": "stream",
          "name": "stdout",
          "text": [
            "Epoch 11/50 - Loss: 1.821 - Acc: 0.616\n",
            "              Val_loss: 1.825 - Val_acc: 0.599\n"
          ]
        },
        {
          "output_type": "stream",
          "name": "stderr",
          "text": [
            " 42%|████▏     | 21/50 [00:22<00:29,  1.03s/it]"
          ]
        },
        {
          "output_type": "stream",
          "name": "stdout",
          "text": [
            "Epoch 21/50 - Loss: 1.741 - Acc: 0.638\n",
            "              Val_loss: 1.749 - Val_acc: 0.629\n"
          ]
        },
        {
          "output_type": "stream",
          "name": "stderr",
          "text": [
            " 62%|██████▏   | 31/50 [00:33<00:19,  1.04s/it]"
          ]
        },
        {
          "output_type": "stream",
          "name": "stdout",
          "text": [
            "Epoch 31/50 - Loss: 1.706 - Acc: 0.630\n",
            "              Val_loss: 1.716 - Val_acc: 0.621\n"
          ]
        },
        {
          "output_type": "stream",
          "name": "stderr",
          "text": [
            " 82%|████████▏ | 41/50 [00:44<00:10,  1.13s/it]"
          ]
        },
        {
          "output_type": "stream",
          "name": "stdout",
          "text": [
            "Epoch 41/50 - Loss: 1.689 - Acc: 0.630\n",
            "              Val_loss: 1.702 - Val_acc: 0.617\n"
          ]
        },
        {
          "output_type": "stream",
          "name": "stderr",
          "text": []
        },
        {
          "output_type": "stream",
          "name": "stdout",
          "text": [
            "func:'train'  took: 54.0464 sec\n"
          ]
        },
        {
          "output_type": "stream",
          "name": "stderr",
          "text": [
            "  2%|▏         | 1/50 [00:01<01:04,  1.32s/it]"
          ]
        },
        {
          "output_type": "stream",
          "name": "stdout",
          "text": [
            "Epoch 1/50 - Loss: 2.175 - Acc: 0.318\n",
            "              Val_loss: 2.175 - Val_acc: 0.315\n"
          ]
        },
        {
          "output_type": "stream",
          "name": "stderr",
          "text": [
            " 22%|██▏       | 11/50 [00:11<00:39,  1.02s/it]"
          ]
        },
        {
          "output_type": "stream",
          "name": "stdout",
          "text": [
            "Epoch 11/50 - Loss: 1.833 - Acc: 0.549\n",
            "              Val_loss: 1.837 - Val_acc: 0.539\n"
          ]
        },
        {
          "output_type": "stream",
          "name": "stderr",
          "text": [
            " 42%|████▏     | 21/50 [00:21<00:28,  1.00it/s]"
          ]
        },
        {
          "output_type": "stream",
          "name": "stdout",
          "text": [
            "Epoch 21/50 - Loss: 1.752 - Acc: 0.580\n",
            "              Val_loss: 1.761 - Val_acc: 0.563\n"
          ]
        },
        {
          "output_type": "stream",
          "name": "stderr",
          "text": [
            " 62%|██████▏   | 31/50 [00:32<00:19,  1.00s/it]"
          ]
        },
        {
          "output_type": "stream",
          "name": "stdout",
          "text": [
            "Epoch 31/50 - Loss: 1.717 - Acc: 0.601\n",
            "              Val_loss: 1.730 - Val_acc: 0.579\n"
          ]
        },
        {
          "output_type": "stream",
          "name": "stderr",
          "text": [
            " 82%|████████▏ | 41/50 [00:43<00:09,  1.04s/it]"
          ]
        },
        {
          "output_type": "stream",
          "name": "stdout",
          "text": [
            "Epoch 41/50 - Loss: 1.697 - Acc: 0.610\n",
            "              Val_loss: 1.714 - Val_acc: 0.587\n"
          ]
        },
        {
          "output_type": "stream",
          "name": "stderr",
          "text": []
        },
        {
          "output_type": "stream",
          "name": "stdout",
          "text": [
            "func:'train'  took: 53.5946 sec\n"
          ]
        },
        {
          "output_type": "stream",
          "name": "stderr",
          "text": [
            "  2%|▏         | 1/50 [00:01<00:49,  1.02s/it]"
          ]
        },
        {
          "output_type": "stream",
          "name": "stdout",
          "text": [
            "Epoch 1/50 - Loss: 2.182 - Acc: 0.449\n",
            "              Val_loss: 2.181 - Val_acc: 0.453\n"
          ]
        },
        {
          "output_type": "stream",
          "name": "stderr",
          "text": [
            " 22%|██▏       | 11/50 [00:11<00:44,  1.13s/it]"
          ]
        },
        {
          "output_type": "stream",
          "name": "stdout",
          "text": [
            "Epoch 11/50 - Loss: 1.848 - Acc: 0.626\n",
            "              Val_loss: 1.849 - Val_acc: 0.625\n"
          ]
        },
        {
          "output_type": "stream",
          "name": "stderr",
          "text": [
            " 42%|████▏     | 21/50 [00:22<00:35,  1.24s/it]"
          ]
        },
        {
          "output_type": "stream",
          "name": "stdout",
          "text": [
            "Epoch 21/50 - Loss: 1.770 - Acc: 0.644\n",
            "              Val_loss: 1.773 - Val_acc: 0.636\n"
          ]
        },
        {
          "output_type": "stream",
          "name": "stderr",
          "text": [
            " 62%|██████▏   | 31/50 [00:32<00:18,  1.00it/s]"
          ]
        },
        {
          "output_type": "stream",
          "name": "stdout",
          "text": [
            "Epoch 31/50 - Loss: 1.735 - Acc: 0.613\n",
            "              Val_loss: 1.741 - Val_acc: 0.608\n"
          ]
        },
        {
          "output_type": "stream",
          "name": "stderr",
          "text": [
            " 82%|████████▏ | 41/50 [00:43<00:08,  1.01it/s]"
          ]
        },
        {
          "output_type": "stream",
          "name": "stdout",
          "text": [
            "Epoch 41/50 - Loss: 1.714 - Acc: 0.608\n",
            "              Val_loss: 1.722 - Val_acc: 0.601\n"
          ]
        },
        {
          "output_type": "stream",
          "name": "stderr",
          "text": [
            "                                               "
          ]
        },
        {
          "output_type": "stream",
          "name": "stdout",
          "text": [
            "func:'train'  took: 53.5131 sec\n"
          ]
        },
        {
          "output_type": "stream",
          "name": "stderr",
          "text": [
            "\r"
          ]
        }
      ]
    },
    {
      "cell_type": "markdown",
      "source": [
        "After running the model on three folds I saved the most recent data from the third fold and plot the validation accuracy and the validation loss on the chart below. It looks like the validation loss is approaching a horizontal asymptote but the accuracy seems to be increasing as the epochs progress. It does not seem like there is a trade off to consider when the number of epochs is 50 or lower, because it looks like the accuracy is still increasing, but since the validation loss is leveling out it may be unnecessary to train for more than 50 epochs. Also, this is only the third fold, so the most effective model that was generated could have not been saved. The model has some accuracy which is better than guessing, but it is still wrong in many cases."
      ],
      "metadata": {
        "id": "hTNiKgqInALL"
      }
    },
    {
      "cell_type": "code",
      "source": [
        "losses = dictionary['losses']\n",
        "accuracies = dictionary['accuracies']\n",
        "accuracies = np.asarray(accuracies)\n",
        "losses = np.asarray(losses)\n",
        "plt.figure()\n",
        "plt.plot(np.arange(len(losses)),losses,label='Training loss')\n",
        "plt.plot(np.arange(len(accuracies)),accuracies,label='Training Accuracy')\n",
        "plt.xlabel('Epochs')\n",
        "plt.ylabel('Loss')\n",
        "plt.legend()\n",
        "\n",
        "val_losses = dictionary['val_losses']\n",
        "val_accuracies = dictionary['val_accuracies']\n",
        "val_accuracies = np.asarray(val_accuracies)\n",
        "val_losses = np.asarray(val_losses)\n",
        "plt.figure()\n",
        "plt.plot(np.arange(len(val_losses)),val_losses,label='Validation loss')\n",
        "plt.plot(np.arange(len(val_accuracies)),val_accuracies,label='Validation Accuracy')\n",
        "plt.xlabel('Epochs')\n",
        "plt.ylabel('Loss')\n",
        "plt.legend()"
      ],
      "metadata": {
        "colab": {
          "base_uri": "https://localhost:8080/",
          "height": 562
        },
        "id": "FMgPtfeHKZ3p",
        "outputId": "7da5887b-1db5-492d-997d-ee6bf478eea4"
      },
      "execution_count": 89,
      "outputs": [
        {
          "output_type": "execute_result",
          "data": {
            "text/plain": [
              "<matplotlib.legend.Legend at 0x7fd343da5fa0>"
            ]
          },
          "metadata": {},
          "execution_count": 89
        },
        {
          "output_type": "display_data",
          "data": {
            "text/plain": [
              "<Figure size 432x288 with 1 Axes>"
            ],
            "image/png": "[encoded data removed]"
          },
          "metadata": {
            "needs_background": "light"
          }
        },
        {
          "output_type": "display_data",
          "data": {
            "text/plain": [
              "<Figure size 432x288 with 1 Axes>"
            ],
            "image/png": "[encoded data removed]"
          },
          "metadata": {
            "needs_background": "light"
          }
        }
      ]
    },
    {
      "cell_type": "markdown",
      "source": [
        "### (D)\n",
        "\n",
        "Run the k-fold validation on a model that uses a hidden layer of 50 nodes."
      ],
      "metadata": {
        "id": "5WAgRlsYwi2w"
      }
    },
    {
      "cell_type": "code",
      "source": [
        "class MLP_50(nn.Module):\n",
        "    def __init__(self):\n",
        "        super(MLP_50, self).__init__()\n",
        "        self.layers = nn.Sequential(\n",
        "            nn.Linear(1024, 50),\n",
        "            nn.Sigmoid(),\n",
        "            nn.Linear(50, 10),\n",
        "            nn.Sigmoid()\n",
        "        )\n",
        "        \n",
        "    def forward(self, x):\n",
        "        return self.layers(x)"
      ],
      "metadata": {
        "id": "5lIU7TtKc2qI"
      },
      "execution_count": 90,
      "outputs": []
    },
    {
      "cell_type": "code",
      "source": [
        "def Kfold_validation_2(n, inputs, outputs):\n",
        "\n",
        "    total_num=len(inputs)\n",
        "    kf=KFold(n_splits=n,shuffle=True)\n",
        "\n",
        "\n",
        "    \n",
        "    for train_selector,test_selector in kf.split(range(total_num)):\n",
        "        ### Decide training examples and testing examples for this fold ###\n",
        "        train_Xs= inputs[train_selector]\n",
        "        test_Xs=  inputs[test_selector]\n",
        "        train_ys= outputs[train_selector]\n",
        "        test_ys= outputs[test_selector]\n",
        "\n",
        "        model = MLP_50()\n",
        "        t = Trainer(model, optimizer_type='adam', learning_rate=2e-3, epoch=50, batch_size=128, input_transform=lambda x: x,)\n",
        "        train_in,val_in,train_real,val_real=train_test_split(train_Xs,train_ys, train_size = 0.666)\n",
        "        \n",
        "        dictionary = t.train(train_in, train_real, val_in, val_real,early_stop=False,l2=False,silent=False)\n",
        "\n",
        "    return dictionary"
      ],
      "metadata": {
        "id": "7Ft6FwvXxEtk"
      },
      "execution_count": 91,
      "outputs": []
    },
    {
      "cell_type": "code",
      "source": [
        "dictionary = Kfold_validation_2(3, normalized_train_set_x, train_set_y)"
      ],
      "metadata": {
        "colab": {
          "base_uri": "https://localhost:8080/"
        },
        "id": "wpcqn6t2xVaK",
        "outputId": "caebe5ca-075c-429f-92cd-aa5cb0478790"
      },
      "execution_count": 92,
      "outputs": [
        {
          "output_type": "stream",
          "name": "stderr",
          "text": [
            "\r  0%|          | 0/50 [00:00<?, ?it/s]<ipython-input-86-5a654197e45b>:125: UserWarning: To copy construct from a tensor, it is recommended to use sourceTensor.clone().detach() or sourceTensor.clone().detach().requires_grad_(True), rather than torch.tensor(sourceTensor).\n",
            "  inputs = torch.tensor(inputs, dtype=torch.float32)\n",
            "<ipython-input-86-5a654197e45b>:126: UserWarning: To copy construct from a tensor, it is recommended to use sourceTensor.clone().detach() or sourceTensor.clone().detach().requires_grad_(True), rather than torch.tensor(sourceTensor).\n",
            "  outputs = torch.tensor(outputs, dtype=torch.long)\n",
            "  2%|▏         | 1/50 [00:01<01:02,  1.27s/it]"
          ]
        },
        {
          "output_type": "stream",
          "name": "stdout",
          "text": [
            "Epoch 1/50 - Loss: 1.698 - Acc: 0.864\n",
            "              Val_loss: 1.701 - Val_acc: 0.856\n"
          ]
        },
        {
          "output_type": "stream",
          "name": "stderr",
          "text": [
            " 22%|██▏       | 11/50 [00:14<00:50,  1.29s/it]"
          ]
        },
        {
          "output_type": "stream",
          "name": "stdout",
          "text": [
            "Epoch 11/50 - Loss: 1.515 - Acc: 0.951\n",
            "              Val_loss: 1.530 - Val_acc: 0.935\n"
          ]
        },
        {
          "output_type": "stream",
          "name": "stderr",
          "text": [
            " 42%|████▏     | 21/50 [00:28<00:37,  1.29s/it]"
          ]
        },
        {
          "output_type": "stream",
          "name": "stdout",
          "text": [
            "Epoch 21/50 - Loss: 1.496 - Acc: 0.968\n",
            "              Val_loss: 1.517 - Val_acc: 0.945\n"
          ]
        },
        {
          "output_type": "stream",
          "name": "stderr",
          "text": [
            " 62%|██████▏   | 31/50 [00:41<00:24,  1.28s/it]"
          ]
        },
        {
          "output_type": "stream",
          "name": "stdout",
          "text": [
            "Epoch 31/50 - Loss: 1.486 - Acc: 0.975\n",
            "              Val_loss: 1.513 - Val_acc: 0.949\n"
          ]
        },
        {
          "output_type": "stream",
          "name": "stderr",
          "text": [
            " 82%|████████▏ | 41/50 [00:54<00:11,  1.27s/it]"
          ]
        },
        {
          "output_type": "stream",
          "name": "stdout",
          "text": [
            "Epoch 41/50 - Loss: 1.480 - Acc: 0.980\n",
            "              Val_loss: 1.512 - Val_acc: 0.951\n"
          ]
        },
        {
          "output_type": "stream",
          "name": "stderr",
          "text": []
        },
        {
          "output_type": "stream",
          "name": "stdout",
          "text": [
            "func:'train'  took: 67.2057 sec\n"
          ]
        },
        {
          "output_type": "stream",
          "name": "stderr",
          "text": [
            "  2%|▏         | 1/50 [00:01<01:00,  1.23s/it]"
          ]
        },
        {
          "output_type": "stream",
          "name": "stdout",
          "text": [
            "Epoch 1/50 - Loss: 1.708 - Acc: 0.872\n",
            "              Val_loss: 1.710 - Val_acc: 0.872\n"
          ]
        },
        {
          "output_type": "stream",
          "name": "stderr",
          "text": [
            " 22%|██▏       | 11/50 [00:14<00:48,  1.26s/it]"
          ]
        },
        {
          "output_type": "stream",
          "name": "stdout",
          "text": [
            "Epoch 11/50 - Loss: 1.516 - Acc: 0.950\n",
            "              Val_loss: 1.530 - Val_acc: 0.936\n"
          ]
        },
        {
          "output_type": "stream",
          "name": "stderr",
          "text": [
            " 42%|████▏     | 21/50 [00:28<00:37,  1.28s/it]"
          ]
        },
        {
          "output_type": "stream",
          "name": "stdout",
          "text": [
            "Epoch 21/50 - Loss: 1.497 - Acc: 0.966\n",
            "              Val_loss: 1.519 - Val_acc: 0.943\n"
          ]
        },
        {
          "output_type": "stream",
          "name": "stderr",
          "text": [
            " 62%|██████▏   | 31/50 [00:41<00:26,  1.41s/it]"
          ]
        },
        {
          "output_type": "stream",
          "name": "stdout",
          "text": [
            "Epoch 31/50 - Loss: 1.487 - Acc: 0.974\n",
            "              Val_loss: 1.515 - Val_acc: 0.947\n"
          ]
        },
        {
          "output_type": "stream",
          "name": "stderr",
          "text": [
            " 82%|████████▏ | 41/50 [00:55<00:13,  1.46s/it]"
          ]
        },
        {
          "output_type": "stream",
          "name": "stdout",
          "text": [
            "Epoch 41/50 - Loss: 1.482 - Acc: 0.978\n",
            "              Val_loss: 1.514 - Val_acc: 0.948\n"
          ]
        },
        {
          "output_type": "stream",
          "name": "stderr",
          "text": []
        },
        {
          "output_type": "stream",
          "name": "stdout",
          "text": [
            "func:'train'  took: 67.3112 sec\n"
          ]
        },
        {
          "output_type": "stream",
          "name": "stderr",
          "text": [
            "  2%|▏         | 1/50 [00:01<01:13,  1.51s/it]"
          ]
        },
        {
          "output_type": "stream",
          "name": "stdout",
          "text": [
            "Epoch 1/50 - Loss: 1.706 - Acc: 0.874\n",
            "              Val_loss: 1.706 - Val_acc: 0.878\n"
          ]
        },
        {
          "output_type": "stream",
          "name": "stderr",
          "text": [
            " 22%|██▏       | 11/50 [00:14<00:55,  1.42s/it]"
          ]
        },
        {
          "output_type": "stream",
          "name": "stdout",
          "text": [
            "Epoch 11/50 - Loss: 1.517 - Acc: 0.950\n",
            "              Val_loss: 1.529 - Val_acc: 0.936\n"
          ]
        },
        {
          "output_type": "stream",
          "name": "stderr",
          "text": [
            " 42%|████▏     | 21/50 [00:28<00:39,  1.38s/it]"
          ]
        },
        {
          "output_type": "stream",
          "name": "stdout",
          "text": [
            "Epoch 21/50 - Loss: 1.497 - Acc: 0.965\n",
            "              Val_loss: 1.517 - Val_acc: 0.946\n"
          ]
        },
        {
          "output_type": "stream",
          "name": "stderr",
          "text": [
            " 62%|██████▏   | 31/50 [00:41<00:26,  1.40s/it]"
          ]
        },
        {
          "output_type": "stream",
          "name": "stdout",
          "text": [
            "Epoch 31/50 - Loss: 1.488 - Acc: 0.973\n",
            "              Val_loss: 1.512 - Val_acc: 0.950\n"
          ]
        },
        {
          "output_type": "stream",
          "name": "stderr",
          "text": [
            " 82%|████████▏ | 41/50 [00:55<00:13,  1.49s/it]"
          ]
        },
        {
          "output_type": "stream",
          "name": "stdout",
          "text": [
            "Epoch 41/50 - Loss: 1.482 - Acc: 0.978\n",
            "              Val_loss: 1.511 - Val_acc: 0.951\n"
          ]
        },
        {
          "output_type": "stream",
          "name": "stderr",
          "text": [
            "                                               "
          ]
        },
        {
          "output_type": "stream",
          "name": "stdout",
          "text": [
            "func:'train'  took: 67.9454 sec\n"
          ]
        },
        {
          "output_type": "stream",
          "name": "stderr",
          "text": [
            "\r"
          ]
        }
      ]
    },
    {
      "cell_type": "code",
      "source": [
        "losses = dictionary['losses']\n",
        "accuracies = dictionary['accuracies']\n",
        "accuracies = np.asarray(accuracies)\n",
        "losses = np.asarray(losses)\n",
        "plt.figure()\n",
        "plt.plot(np.arange(len(losses)),losses,label='Training loss')\n",
        "plt.plot(np.arange(len(accuracies)),accuracies,label='Training Accuracy')\n",
        "plt.xlabel('Epochs')\n",
        "plt.ylabel('Loss')\n",
        "plt.ylim(0, 2)\n",
        "plt.legend()\n",
        "\n",
        "val_losses = dictionary['val_losses']\n",
        "val_accuracies = dictionary['val_accuracies']\n",
        "val_accuracies = np.asarray(val_accuracies)\n",
        "val_losses = np.asarray(val_losses)\n",
        "plt.figure()\n",
        "plt.plot(np.arange(len(val_losses)),val_losses,label='Validation loss')\n",
        "plt.plot(np.arange(len(val_accuracies)),val_accuracies,label='Validation Accuracy')\n",
        "plt.xlabel('Epochs')\n",
        "plt.ylim(0, 2)\n",
        "plt.ylabel('Loss')\n",
        "plt.legend()"
      ],
      "metadata": {
        "colab": {
          "base_uri": "https://localhost:8080/",
          "height": 566
        },
        "id": "qdIR8cuKxfpe",
        "outputId": "71273395-81a4-452f-c5ad-5ef3b2d8790f"
      },
      "execution_count": 93,
      "outputs": [
        {
          "output_type": "execute_result",
          "data": {
            "text/plain": [
              "<matplotlib.legend.Legend at 0x7fd3456d5100>"
            ]
          },
          "metadata": {},
          "execution_count": 93
        },
        {
          "output_type": "display_data",
          "data": {
            "text/plain": [
              "<Figure size 432x288 with 1 Axes>"
            ],
            "image/png": "[encoded data removed]"
          },
          "metadata": {
            "needs_background": "light"
          }
        },
        {
          "output_type": "display_data",
          "data": {
            "text/plain": [
              "<Figure size 432x288 with 1 Axes>"
            ],
            "image/png": "[encoded data removed]"
          },
          "metadata": {
            "needs_background": "light"
          }
        }
      ]
    },
    {
      "cell_type": "markdown",
      "source": [
        "The model which implements a hidden layer of 50 nodes turns out to predict the output with high accuracy after just one epoch of training. This one step iterates through the batches and results in a trained model which is close to perfect classification of the validation data. Here the bias-variance tradeoff is to train the model a minimum amount of times because the training occurs fast. And as we add more epochs to the validation, model seems to perform close to perfect yet will not reach 100%."
      ],
      "metadata": {
        "id": "O5nS-So71nTe"
      }
    },
    {
      "cell_type": "markdown",
      "source": [
        "# Problem 2\n",
        "### (A)\n",
        "\n",
        "Use a dropout of 15% with the ANN from 1D and compare the training and test accuracy against the previous outputs.\n",
        "\n"
      ],
      "metadata": {
        "id": "PfgVAMYqp7y4"
      }
    },
    {
      "cell_type": "code",
      "source": [
        "\n",
        "class MLP_50B(nn.Module):\n",
        "    def __init__(self):\n",
        "        super(MLP_50B, self).__init__()\n",
        "        self.layers = nn.Sequential(\n",
        "            nn.Linear(1024, 50),\n",
        "            nn.Dropout(0.15),\n",
        "            nn.Sigmoid(),\n",
        "            nn.Linear(50, 10),\n",
        "            nn.Sigmoid()\n",
        "        )\n",
        "        \n",
        "    def forward(self, x):\n",
        "        return self.layers(x)\n",
        "\n",
        "\n",
        "model = MLP_50B()\n",
        "t = Trainer(model, optimizer_type='adam', learning_rate=2e-3, epoch=50, batch_size=128, input_transform=lambda x: x,)\n",
        "train_in,val_in,train_real,val_real=train_test_split(normalized_train_set_x,train_set_y, train_size = 0.666)\n",
        "        \n",
        "dictionary = t.train(train_in, train_real, val_in, val_real,early_stop=False,l2=False,silent=False)\n"
      ],
      "metadata": {
        "colab": {
          "base_uri": "https://localhost:8080/"
        },
        "id": "IfKHmPExqPlK",
        "outputId": "6fa33dec-49ab-4574-fa32-dce82d0c276e"
      },
      "execution_count": 94,
      "outputs": [
        {
          "output_type": "stream",
          "name": "stderr",
          "text": [
            "\r  0%|          | 0/50 [00:00<?, ?it/s]<ipython-input-86-5a654197e45b>:125: UserWarning: To copy construct from a tensor, it is recommended to use sourceTensor.clone().detach() or sourceTensor.clone().detach().requires_grad_(True), rather than torch.tensor(sourceTensor).\n",
            "  inputs = torch.tensor(inputs, dtype=torch.float32)\n",
            "<ipython-input-86-5a654197e45b>:126: UserWarning: To copy construct from a tensor, it is recommended to use sourceTensor.clone().detach() or sourceTensor.clone().detach().requires_grad_(True), rather than torch.tensor(sourceTensor).\n",
            "  outputs = torch.tensor(outputs, dtype=torch.long)\n",
            "  2%|▏         | 1/50 [00:02<01:38,  2.02s/it]"
          ]
        },
        {
          "output_type": "stream",
          "name": "stdout",
          "text": [
            "Epoch 1/50 - Loss: 1.672 - Acc: 0.885\n",
            "              Val_loss: 1.675 - Val_acc: 0.880\n"
          ]
        },
        {
          "output_type": "stream",
          "name": "stderr",
          "text": [
            " 22%|██▏       | 11/50 [00:23<01:23,  2.14s/it]"
          ]
        },
        {
          "output_type": "stream",
          "name": "stdout",
          "text": [
            "Epoch 11/50 - Loss: 1.519 - Acc: 0.947\n",
            "              Val_loss: 1.533 - Val_acc: 0.932\n"
          ]
        },
        {
          "output_type": "stream",
          "name": "stderr",
          "text": [
            " 42%|████▏     | 21/50 [00:43<00:56,  1.96s/it]"
          ]
        },
        {
          "output_type": "stream",
          "name": "stdout",
          "text": [
            "Epoch 21/50 - Loss: 1.504 - Acc: 0.959\n",
            "              Val_loss: 1.523 - Val_acc: 0.939\n"
          ]
        },
        {
          "output_type": "stream",
          "name": "stderr",
          "text": [
            " 62%|██████▏   | 31/50 [01:04<00:38,  2.02s/it]"
          ]
        },
        {
          "output_type": "stream",
          "name": "stdout",
          "text": [
            "Epoch 31/50 - Loss: 1.497 - Acc: 0.965\n",
            "              Val_loss: 1.519 - Val_acc: 0.941\n"
          ]
        },
        {
          "output_type": "stream",
          "name": "stderr",
          "text": [
            " 82%|████████▏ | 41/50 [01:25<00:19,  2.19s/it]"
          ]
        },
        {
          "output_type": "stream",
          "name": "stdout",
          "text": [
            "Epoch 41/50 - Loss: 1.494 - Acc: 0.968\n",
            "              Val_loss: 1.517 - Val_acc: 0.942\n"
          ]
        },
        {
          "output_type": "stream",
          "name": "stderr",
          "text": [
            "                                               "
          ]
        },
        {
          "output_type": "stream",
          "name": "stdout",
          "text": [
            "func:'train'  took: 104.3052 sec\n"
          ]
        },
        {
          "output_type": "stream",
          "name": "stderr",
          "text": [
            "\r"
          ]
        }
      ]
    },
    {
      "cell_type": "code",
      "source": [
        "losses = dictionary['losses']\n",
        "accuracies = dictionary['accuracies']\n",
        "accuracies = np.asarray(accuracies)\n",
        "losses = np.asarray(losses)\n",
        "plt.figure()\n",
        "plt.plot(np.arange(len(losses)),losses,label='Training loss')\n",
        "plt.plot(np.arange(len(accuracies)),accuracies,label='Training Accuracy')\n",
        "plt.xlabel('Epochs')\n",
        "plt.ylabel('Loss')\n",
        "plt.ylim(0, 2)\n",
        "plt.legend()\n",
        "\n",
        "val_losses = dictionary['val_losses']\n",
        "val_accuracies = dictionary['val_accuracies']\n",
        "val_accuracies = np.asarray(val_accuracies)\n",
        "val_losses = np.asarray(val_losses)\n",
        "plt.figure()\n",
        "plt.plot(np.arange(len(val_losses)),val_losses,label='Validation loss')\n",
        "plt.plot(np.arange(len(val_accuracies)),val_accuracies,label='Validation Accuracy')\n",
        "plt.xlabel('Epochs')\n",
        "plt.ylim(0, 2)\n",
        "plt.ylabel('Loss')\n",
        "plt.legend()"
      ],
      "metadata": {
        "colab": {
          "base_uri": "https://localhost:8080/",
          "height": 566
        },
        "id": "hbuWh5SWuAhy",
        "outputId": "6120abe0-8df6-4dda-926b-f077bd67b1b2"
      },
      "execution_count": 95,
      "outputs": [
        {
          "output_type": "execute_result",
          "data": {
            "text/plain": [
              "<matplotlib.legend.Legend at 0x7fd34542c550>"
            ]
          },
          "metadata": {},
          "execution_count": 95
        },
        {
          "output_type": "display_data",
          "data": {
            "text/plain": [
              "<Figure size 432x288 with 1 Axes>"
            ],
            "image/png": "[encoded data removed]"
          },
          "metadata": {
            "needs_background": "light"
          }
        },
        {
          "output_type": "display_data",
          "data": {
            "text/plain": [
              "<Figure size 432x288 with 1 Axes>"
            ],
            "image/png": "[encoded data removed]"
          },
          "metadata": {
            "needs_background": "light"
          }
        }
      ]
    },
    {
      "cell_type": "code",
      "source": [
        "#feed forward into the model with the test data from MNIST and compare the results to the true y values\n",
        "output = model.forward(torch.tensor(normalized_test_set_x, dtype = torch.float32))\n",
        "sum = 0\n",
        "for i in range(len(output)):\n",
        "  if (test_set_y[i] == torch.argmax(output[i])):\n",
        "    sum += 1\n",
        "print(sum/len(output))"
      ],
      "metadata": {
        "colab": {
          "base_uri": "https://localhost:8080/"
        },
        "id": "PJ1lGAk373h7",
        "outputId": "e9ffad16-3447-4d42-da08-528f038bc423"
      },
      "execution_count": 96,
      "outputs": [
        {
          "output_type": "stream",
          "name": "stdout",
          "text": [
            "0.9509\n"
          ]
        }
      ]
    },
    {
      "cell_type": "markdown",
      "source": [
        "Using a dropout before the first hidden layer has not made any significant changes in the chart other than the fact that it takes longer. I trained the model over 50 epochs just using one fold. The model predicts 93-95 percent of the classifications correctly after training over one fold of the training data."
      ],
      "metadata": {
        "id": "b7OgcRzHt5iv"
      }
    },
    {
      "cell_type": "markdown",
      "source": [
        "### (B)\n",
        "\n",
        "Use L2 Regularization on the ANN from 1D and compare the results."
      ],
      "metadata": {
        "id": "ka5z0hJivXLr"
      }
    },
    {
      "cell_type": "code",
      "source": [
        "\n",
        "model = MLP_50B()\n",
        "t = Trainer(model, optimizer_type='adam', learning_rate=2e-3, epoch=50, batch_size=128, input_transform=lambda x: x,)\n",
        "train_in,val_in,train_real,val_real=train_test_split(normalized_train_set_x,train_set_y, train_size = 0.666)\n",
        "        \n",
        "dictionary = t.train(train_in, train_real, val_in, val_real,early_stop=False,l2=True,silent=False)"
      ],
      "metadata": {
        "colab": {
          "base_uri": "https://localhost:8080/"
        },
        "id": "_LHEruYPvc7X",
        "outputId": "7cb8c056-8b4c-4e33-8e99-70942acd7eee"
      },
      "execution_count": 97,
      "outputs": [
        {
          "output_type": "stream",
          "name": "stderr",
          "text": [
            "\r  0%|          | 0/50 [00:00<?, ?it/s]<ipython-input-86-5a654197e45b>:125: UserWarning: To copy construct from a tensor, it is recommended to use sourceTensor.clone().detach() or sourceTensor.clone().detach().requires_grad_(True), rather than torch.tensor(sourceTensor).\n",
            "  inputs = torch.tensor(inputs, dtype=torch.float32)\n",
            "<ipython-input-86-5a654197e45b>:126: UserWarning: To copy construct from a tensor, it is recommended to use sourceTensor.clone().detach() or sourceTensor.clone().detach().requires_grad_(True), rather than torch.tensor(sourceTensor).\n",
            "  outputs = torch.tensor(outputs, dtype=torch.long)\n",
            "  2%|▏         | 1/50 [00:02<01:39,  2.03s/it]"
          ]
        },
        {
          "output_type": "stream",
          "name": "stdout",
          "text": [
            "Epoch 1/50 - Loss: 1.653 - Acc: 0.875\n",
            "              Val_loss: 1.654 - Val_acc: 0.874\n"
          ]
        },
        {
          "output_type": "stream",
          "name": "stderr",
          "text": [
            " 22%|██▏       | 11/50 [00:24<01:27,  2.24s/it]"
          ]
        },
        {
          "output_type": "stream",
          "name": "stdout",
          "text": [
            "Epoch 11/50 - Loss: 1.536 - Acc: 0.930\n",
            "              Val_loss: 1.544 - Val_acc: 0.922\n"
          ]
        },
        {
          "output_type": "stream",
          "name": "stderr",
          "text": [
            " 42%|████▏     | 21/50 [00:44<00:58,  2.03s/it]"
          ]
        },
        {
          "output_type": "stream",
          "name": "stdout",
          "text": [
            "Epoch 21/50 - Loss: 1.530 - Acc: 0.936\n",
            "              Val_loss: 1.539 - Val_acc: 0.925\n"
          ]
        },
        {
          "output_type": "stream",
          "name": "stderr",
          "text": [
            " 62%|██████▏   | 31/50 [01:06<00:39,  2.09s/it]"
          ]
        },
        {
          "output_type": "stream",
          "name": "stdout",
          "text": [
            "Epoch 31/50 - Loss: 1.526 - Acc: 0.939\n",
            "              Val_loss: 1.536 - Val_acc: 0.927\n"
          ]
        },
        {
          "output_type": "stream",
          "name": "stderr",
          "text": [
            " 82%|████████▏ | 41/50 [01:28<00:19,  2.19s/it]"
          ]
        },
        {
          "output_type": "stream",
          "name": "stdout",
          "text": [
            "Epoch 41/50 - Loss: 1.528 - Acc: 0.939\n",
            "              Val_loss: 1.538 - Val_acc: 0.929\n"
          ]
        },
        {
          "output_type": "stream",
          "name": "stderr",
          "text": [
            "                                               "
          ]
        },
        {
          "output_type": "stream",
          "name": "stdout",
          "text": [
            "func:'train'  took: 107.3078 sec\n"
          ]
        },
        {
          "output_type": "stream",
          "name": "stderr",
          "text": [
            "\r"
          ]
        }
      ]
    },
    {
      "cell_type": "markdown",
      "source": [
        "Using the L2 regularization option and dropout before the first hidden layer increases the amount of time it takes to train the model on one single training and validation fold from the original normalized data, and it performs well on the training data and validation data with very high accuracy around 93 percent."
      ],
      "metadata": {
        "id": "FDDENNtc3i_N"
      }
    },
    {
      "cell_type": "code",
      "source": [
        "losses = dictionary['losses']\n",
        "accuracies = dictionary['accuracies']\n",
        "accuracies = np.asarray(accuracies)\n",
        "losses = np.asarray(losses)\n",
        "plt.figure()\n",
        "plt.plot(np.arange(len(losses)),losses,label='Training loss')\n",
        "plt.plot(np.arange(len(accuracies)),accuracies,label='Training Accuracy')\n",
        "plt.xlabel('Epochs')\n",
        "plt.ylabel('Loss')\n",
        "plt.ylim(0, 2)\n",
        "plt.legend()\n",
        "\n",
        "val_losses = dictionary['val_losses']\n",
        "val_accuracies = dictionary['val_accuracies']\n",
        "val_accuracies = np.asarray(val_accuracies)\n",
        "val_losses = np.asarray(val_losses)\n",
        "plt.figure()\n",
        "plt.plot(np.arange(len(val_losses)),val_losses,label='Validation loss')\n",
        "plt.plot(np.arange(len(val_accuracies)),val_accuracies,label='Validation Accuracy')\n",
        "plt.xlabel('Epochs')\n",
        "plt.ylim(0, 2)\n",
        "plt.ylabel('Loss')\n",
        "plt.legend()"
      ],
      "metadata": {
        "colab": {
          "base_uri": "https://localhost:8080/",
          "height": 566
        },
        "id": "Kw2wbmmz31Pd",
        "outputId": "45c74637-a00c-4b7d-d644-2a4e555829ff"
      },
      "execution_count": 98,
      "outputs": [
        {
          "output_type": "execute_result",
          "data": {
            "text/plain": [
              "<matplotlib.legend.Legend at 0x7fd3452a9c70>"
            ]
          },
          "metadata": {},
          "execution_count": 98
        },
        {
          "output_type": "display_data",
          "data": {
            "text/plain": [
              "<Figure size 432x288 with 1 Axes>"
            ],
            "image/png": "[encoded data removed]"
          },
          "metadata": {
            "needs_background": "light"
          }
        },
        {
          "output_type": "display_data",
          "data": {
            "text/plain": [
              "<Figure size 432x288 with 1 Axes>"
            ],
            "image/png": "[encoded data removed]"
          },
          "metadata": {
            "needs_background": "light"
          }
        }
      ]
    },
    {
      "cell_type": "code",
      "source": [
        "#feed forward into the model with the test data from MNIST and compare the results to the true y values\n",
        "output = model.forward(torch.tensor(normalized_test_set_x, dtype = torch.float32))\n",
        "sum = 0\n",
        "for i in range(len(output)):\n",
        "  if (test_set_y[i] == torch.argmax(output[i])):\n",
        "    sum += 1\n",
        "print(sum/len(output))"
      ],
      "metadata": {
        "colab": {
          "base_uri": "https://localhost:8080/"
        },
        "id": "Cpc_2wML4DmL",
        "outputId": "15d527db-e25e-4aac-9172-1cd89b2df96b"
      },
      "execution_count": 99,
      "outputs": [
        {
          "output_type": "stream",
          "name": "stdout",
          "text": [
            "0.9353\n"
          ]
        }
      ]
    },
    {
      "cell_type": "markdown",
      "source": [
        "After training the model on the normalized test data and comparing it to the true y values it shows that it has achieved around 93 percent accuracy, which is less than what the training model suggests as it performs near perfectly on the validation data during the train/test split."
      ],
      "metadata": {
        "id": "14AYez9-69be"
      }
    },
    {
      "cell_type": "markdown",
      "source": [
        "### (C)\n",
        "\n",
        "Use PCA to simplify the input features."
      ],
      "metadata": {
        "id": "LviAeJhX-aXy"
      }
    },
    {
      "cell_type": "code",
      "source": [
        "from sklearn.decomposition import PCA\n",
        "pca = PCA(n_components=0.99)\n",
        "stacked_data = np.vstack((normalized_train_set_x, normalized_test_set_x))\n",
        "train_and_test_pca = pca.fit_transform(stacked_data)\n",
        "train_and_test_pca.shape\n"
      ],
      "metadata": {
        "id": "DW9AnyGQ-cJi"
      },
      "execution_count": 72,
      "outputs": []
    },
    {
      "cell_type": "code",
      "source": [
        "reduced_train_set = train_and_test_pca[0:60000]\n",
        "reduced_test_set = train_and_test_pca[60000:70000]\n",
        "print(reduced_train_set.shape)\n",
        "print(reduced_test_set.shape)"
      ],
      "metadata": {
        "colab": {
          "base_uri": "https://localhost:8080/"
        },
        "id": "9rNylfzzLgjY",
        "outputId": "3229e9e8-c055-488b-a0c8-7cdf51a6b3aa"
      },
      "execution_count": 100,
      "outputs": [
        {
          "output_type": "stream",
          "name": "stdout",
          "text": [
            "(60000, 331)\n",
            "(10000, 331)\n"
          ]
        }
      ]
    },
    {
      "cell_type": "markdown",
      "source": [
        "The transformed input has only 331 features instead of 1024, which makes me assume that it would be faster to run but we would need to edit the model to accept inputs of size 331. If 99% of the variance is preserved in the transformation then the model should perform just as good, and even a little bit faster. Next we run the model with the reduced input features and compare against the previous ANN."
      ],
      "metadata": {
        "id": "o561vK43_b22"
      }
    },
    {
      "cell_type": "markdown",
      "source": [
        "### (D)\n",
        "\n",
        "Using the model MLP_50C with 15 percent dropout and L2 regularization disabled I train the model on the reduced set of input features and compare the accuracy on the test data to the previous ANNs."
      ],
      "metadata": {
        "id": "JXFQTy6SEg34"
      }
    },
    {
      "cell_type": "code",
      "source": [
        "\n",
        "class MLP_50C(nn.Module):\n",
        "    def __init__(self):\n",
        "        super(MLP_50C, self).__init__()\n",
        "        self.layers = nn.Sequential(\n",
        "            nn.Linear(331, 50),\n",
        "            nn.Dropout(0.15),\n",
        "            nn.Sigmoid(),\n",
        "            nn.Linear(50, 10),\n",
        "            nn.Sigmoid()\n",
        "        )\n",
        "        \n",
        "    def forward(self, x):\n",
        "        return self.layers(x)\n",
        "\n",
        "model = MLP_50C()\n",
        "t = Trainer(model, optimizer_type='adam', learning_rate=2e-3, epoch=50, batch_size=128, input_transform=lambda x: x,)\n",
        "train_in,val_in,train_real,val_real=train_test_split(reduced_train_set,train_set_y, train_size = 0.666)\n",
        "        \n",
        "dictionary = t.train(train_in, train_real, val_in, val_real,early_stop=False,l2=False,silent=False)"
      ],
      "metadata": {
        "colab": {
          "base_uri": "https://localhost:8080/"
        },
        "id": "E2CX87fVEzPS",
        "outputId": "d49dae29-a928-43b6-b453-f451a9329f5a"
      },
      "execution_count": 101,
      "outputs": [
        {
          "output_type": "stream",
          "name": "stderr",
          "text": [
            "\r  0%|          | 0/50 [00:00<?, ?it/s]<ipython-input-86-5a654197e45b>:125: UserWarning: To copy construct from a tensor, it is recommended to use sourceTensor.clone().detach() or sourceTensor.clone().detach().requires_grad_(True), rather than torch.tensor(sourceTensor).\n",
            "  inputs = torch.tensor(inputs, dtype=torch.float32)\n",
            "<ipython-input-86-5a654197e45b>:126: UserWarning: To copy construct from a tensor, it is recommended to use sourceTensor.clone().detach() or sourceTensor.clone().detach().requires_grad_(True), rather than torch.tensor(sourceTensor).\n",
            "  outputs = torch.tensor(outputs, dtype=torch.long)\n",
            "  2%|▏         | 1/50 [00:01<01:14,  1.52s/it]"
          ]
        },
        {
          "output_type": "stream",
          "name": "stdout",
          "text": [
            "Epoch 1/50 - Loss: 1.708 - Acc: 0.887\n",
            "              Val_loss: 1.710 - Val_acc: 0.882\n"
          ]
        },
        {
          "output_type": "stream",
          "name": "stderr",
          "text": [
            " 22%|██▏       | 11/50 [00:17<01:01,  1.57s/it]"
          ]
        },
        {
          "output_type": "stream",
          "name": "stdout",
          "text": [
            "Epoch 11/50 - Loss: 1.525 - Acc: 0.941\n",
            "              Val_loss: 1.538 - Val_acc: 0.927\n"
          ]
        },
        {
          "output_type": "stream",
          "name": "stderr",
          "text": [
            " 42%|████▏     | 21/50 [00:32<00:42,  1.46s/it]"
          ]
        },
        {
          "output_type": "stream",
          "name": "stdout",
          "text": [
            "Epoch 21/50 - Loss: 1.509 - Acc: 0.955\n",
            "              Val_loss: 1.528 - Val_acc: 0.933\n"
          ]
        },
        {
          "output_type": "stream",
          "name": "stderr",
          "text": [
            " 62%|██████▏   | 31/50 [00:48<00:32,  1.69s/it]"
          ]
        },
        {
          "output_type": "stream",
          "name": "stdout",
          "text": [
            "Epoch 31/50 - Loss: 1.501 - Acc: 0.961\n",
            "              Val_loss: 1.524 - Val_acc: 0.938\n"
          ]
        },
        {
          "output_type": "stream",
          "name": "stderr",
          "text": [
            " 82%|████████▏ | 41/50 [01:03<00:14,  1.56s/it]"
          ]
        },
        {
          "output_type": "stream",
          "name": "stdout",
          "text": [
            "Epoch 41/50 - Loss: 1.498 - Acc: 0.965\n",
            "              Val_loss: 1.523 - Val_acc: 0.937\n"
          ]
        },
        {
          "output_type": "stream",
          "name": "stderr",
          "text": [
            "                                               "
          ]
        },
        {
          "output_type": "stream",
          "name": "stdout",
          "text": [
            "func:'train'  took: 77.8303 sec\n"
          ]
        },
        {
          "output_type": "stream",
          "name": "stderr",
          "text": [
            "\r"
          ]
        }
      ]
    },
    {
      "cell_type": "code",
      "source": [
        "losses = dictionary['losses']\n",
        "accuracies = dictionary['accuracies']\n",
        "accuracies = np.asarray(accuracies)\n",
        "losses = np.asarray(losses)\n",
        "plt.figure()\n",
        "plt.plot(np.arange(len(losses)),losses,label='Training loss')\n",
        "plt.plot(np.arange(len(accuracies)),accuracies,label='Training Accuracy')\n",
        "plt.xlabel('Epochs')\n",
        "plt.ylabel('Loss')\n",
        "plt.ylim(0, 2)\n",
        "plt.legend()\n",
        "\n",
        "val_losses = dictionary['val_losses']\n",
        "val_accuracies = dictionary['val_accuracies']\n",
        "val_accuracies = np.asarray(val_accuracies)\n",
        "val_losses = np.asarray(val_losses)\n",
        "plt.figure()\n",
        "plt.plot(np.arange(len(val_losses)),val_losses,label='Validation loss')\n",
        "plt.plot(np.arange(len(val_accuracies)),val_accuracies,label='Validation Accuracy')\n",
        "plt.xlabel('Epochs')\n",
        "plt.ylim(0, 2)\n",
        "plt.ylabel('Loss')\n",
        "plt.legend()"
      ],
      "metadata": {
        "colab": {
          "base_uri": "https://localhost:8080/",
          "height": 566
        },
        "id": "RBBYRBYyFAT1",
        "outputId": "1d117c77-a78f-4d63-a879-cb30e70e8bbe"
      },
      "execution_count": 102,
      "outputs": [
        {
          "output_type": "execute_result",
          "data": {
            "text/plain": [
              "<matplotlib.legend.Legend at 0x7fd345202b80>"
            ]
          },
          "metadata": {},
          "execution_count": 102
        },
        {
          "output_type": "display_data",
          "data": {
            "text/plain": [
              "<Figure size 432x288 with 1 Axes>"
            ],
            "image/png": "[encoded data removed]"
          },
          "metadata": {
            "needs_background": "light"
          }
        },
        {
          "output_type": "display_data",
          "data": {
            "text/plain": [
              "<Figure size 432x288 with 1 Axes>"
            ],
            "image/png": "[encoded data removed]"
          },
          "metadata": {
            "needs_background": "light"
          }
        }
      ]
    },
    {
      "cell_type": "code",
      "source": [
        "#feed forward into the model with the test data from MNIST and compare the results to the true y values\n",
        "output = model.forward(torch.tensor(reduced_test_set, dtype = torch.float32))\n",
        "sum = 0\n",
        "for i in range(len(output)):\n",
        "  if (test_set_y[i] == torch.argmax(output[i])):\n",
        "    sum += 1\n",
        "print(sum/len(output))"
      ],
      "metadata": {
        "colab": {
          "base_uri": "https://localhost:8080/"
        },
        "id": "OYqkaVUPGVAB",
        "outputId": "c7ba38b1-d131-49b8-f6cb-e71289713f5c"
      },
      "execution_count": 103,
      "outputs": [
        {
          "output_type": "stream",
          "name": "stdout",
          "text": [
            "0.9433\n"
          ]
        }
      ]
    },
    {
      "cell_type": "markdown",
      "source": [
        "After running the training function with the new model it seems that the accuracy has not improved on the validation set. The training may be slightly slower judging by the curve of Validation Loss in the above charts. When I use the model to predict based on the given test data I get around 94% which is just as good as the previous ANN architecture. Using PCA in this case likely reduces the amount of memory needed but has not really improved in accuracy over the model with 1024 inputs."
      ],
      "metadata": {
        "id": "K6F_ol3WIJnq"
      }
    },
    {
      "cell_type": "code",
      "source": [],
      "metadata": {
        "id": "-zwFi4P8IdQf"
      },
      "execution_count": null,
      "outputs": []
    }
  ]
}