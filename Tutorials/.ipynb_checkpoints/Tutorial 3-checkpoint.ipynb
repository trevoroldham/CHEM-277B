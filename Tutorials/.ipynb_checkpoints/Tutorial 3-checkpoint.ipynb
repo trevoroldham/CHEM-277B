{
 "cells": [
  {
   "cell_type": "markdown",
   "metadata": {},
   "source": [
    "# Tutorial 3\n",
    "## Outline\n",
    "* Numba\n",
    "* Neural network in matrix notation\n",
    "* Back propagation\n",
    "* Activation functions\n",
    "* Q&A on HW#2\n"
   ]
  },
  {
   "cell_type": "markdown",
   "metadata": {},
   "source": [
    "## Numba and Code Acceleration"
   ]
  },
  {
   "cell_type": "markdown",
   "metadata": {},
   "source": [
    "Numba will pre-compile code so that it can be executed more efficiently.<br>\n",
    "[Numba documentation](http://numba.pydata.org/numba-doc/latest/user/index.html)"
   ]
  },
  {
   "cell_type": "code",
   "execution_count": 3,
   "metadata": {},
   "outputs": [],
   "source": [
    "import numba\n",
    "import numpy as np\n"
   ]
  },
  {
   "cell_type": "code",
   "execution_count": 4,
   "metadata": {
    "jupyter": {
     "outputs_hidden": false
    }
   },
   "outputs": [
    {
     "name": "stdout",
     "output_type": "stream",
     "text": [
      "7.57 ms ± 565 µs per loop (mean ± std. dev. of 7 runs, 100 loops each)\n"
     ]
    }
   ],
   "source": [
    "# @numba.jit(nopython=True)\n",
    "def test():\n",
    "    i=0\n",
    "    for a in range(100000):\n",
    "        i+=a\n",
    "    return i\n",
    "\n",
    "%timeit test()"
   ]
  },
  {
   "cell_type": "code",
   "execution_count": 7,
   "metadata": {},
   "outputs": [
    {
     "name": "stdout",
     "output_type": "stream",
     "text": [
      "96.7 ns ± 4.35 ns per loop (mean ± std. dev. of 7 runs, 10,000,000 loops each)\n"
     ]
    }
   ],
   "source": [
    "@numba.jit(nopython=True)\n",
    "def test():\n",
    "    i=0\n",
    "    for a in range(100000):\n",
    "        i+=a\n",
    "    return i\n",
    "\n",
    "%timeit test()"
   ]
  },
  {
   "cell_type": "code",
   "execution_count": 8,
   "metadata": {},
   "outputs": [
    {
     "name": "stdout",
     "output_type": "stream",
     "text": [
      "49.4 µs ± 2.96 µs per loop (mean ± std. dev. of 7 runs, 10,000 loops each)\n"
     ]
    }
   ],
   "source": [
    "@numba.jit(nopython=True)\n",
    "def test():\n",
    "    return np.sum(np.arange(1,100000))\n",
    "\n",
    "%timeit test()"
   ]
  },
  {
   "cell_type": "markdown",
   "metadata": {},
   "source": [
    "## Neural network in matrix notation\n",
    "![Neural network](http://colah.github.io/posts/2014-03-NN-Manifolds-Topology/img/example_network.svg) <br>\n",
    "\n"
   ]
  },
  {
   "cell_type": "markdown",
   "metadata": {},
   "source": [
    "\n",
    "### Back propagation formula\n",
    "The four equations for doing back propagation:\n",
    "$$\\begin{eqnarray}\\delta^L&=&\\nabla_aC\\odot\\sigma'(z^L) \\\\\n",
    "\\delta^l&=&((w^{l+1})^T\\delta^{l+1})\\odot\\sigma'(z^l) \\\\ \\frac{\\partial C}{\\partial b_j^l}&=&\\delta_j^l \\\\\n",
    "\\frac{\\partial C}{\\partial w_{jk}^l}&=&a_k^{l-1}\\delta_j^l\n",
    "\\end{eqnarray}$$\n",
    "\n",
    "Credit: [Neural Networks and Deep Learning, Ch. 2](http://neuralnetworksanddeeplearning.com/chap2.html)"
   ]
  },
  {
   "cell_type": "markdown",
   "metadata": {},
   "source": [
    "$$h_j^l = \\sum_{i=0}^{n^{l-1}} w_{ij}^{l-1} h_i^{l-1}$$\n",
    "$$h^l = w^{l - 1} h ^{l - 1} + b$$"
   ]
  },
  {
   "cell_type": "code",
   "execution_count": null,
   "metadata": {},
   "outputs": [],
   "source": [
    "import numpy as np\n",
    "\n",
    "#as the diagram above architecture\n",
    "#[3, 4, 2]\n",
    "\n",
    "class NN():\n",
    "    def __init__(self, architecture, learning_rate, activation_function):\n",
    "        #initialize the model\n",
    "        self.arch = architecture\n",
    "        self.activation = activation_function\n",
    "        self.learning_rate = learning_rate\n",
    "        self.depth = len(self.arch)\n",
    "    \n",
    "    def init_weight(self):\n",
    "        self.weights = []\n",
    "        self.biases = []\n",
    "        for l in range(self.depth - 1):\n",
    "            prev_layer_number = self.arch[l]\n",
    "            current_layer_number = self.arch[l + 1]\n",
    "            #tip: generate random matrix for weights rather than zeros for homework\n",
    "            self.weights.append(np.zeros(current_layer_number, prev_layer_number))\n",
    "            self.biases.append(np.zeros(current_layer_number))\n",
    "    \n",
    "    def feed_forward(self, x):\n",
    "        self.z_s = []\n",
    "        self.a_s = [x]\n",
    "        for l in range(self.depth - 1):\n",
    "            z_l = self.weights[l].dot(self.a_s[-1]) + self.biases[l]\n",
    "            a_l = self.activation(z_l)\n",
    "            self.z_s.append(z_l)\n",
    "            self.a_s.append(a_l)\n",
    "            \n",
    "        return self.a_s[-1]\n",
    "    \n",
    "    def calc_error(self, y, activation_grad):\n",
    "        #todo\n",
    "        self.errors = []\n",
    "    \n",
    "    def calc_grad(self):\n",
    "        #todo\n",
    "        \n",
    "    def back_prop(self):\n",
    "        for l in range(self.depth - 1):\n",
    "            self.weights[l] = self.weights[l] - self.learning_rate * self.weights_grad[l]\n",
    "            self.biases[l] = self.biases[l] - self.learning_rate * self.biases_grad[l]\n",
    "    \n",
    "    def fit(self, x, y, activation_grad):\n",
    "        self.feed_forward(x)\n",
    "        self.calc_error(y, activation_grad)\n",
    "        self.calc_grad()\n",
    "        self.back_prop()\n",
    "    \n",
    "    def predict(self, x):\n",
    "        return self.feed_forward(x)\n",
    "    \n",
    "        "
   ]
  },
  {
   "cell_type": "code",
   "execution_count": null,
   "metadata": {},
   "outputs": [],
   "source": [
    "np.random.seed(0)\n",
    "nn = NN([6, 2, 2], activation_function = tanh)\n",
    "nn.init_weights()\n",
    "print(\"Initialized prediction:\", nn.predict([]))\n",
    "nn.fit(x, y, tanh_grad)\n",
    "print(\"Error in nodes\", nn.errors)\n",
    "print(\"Prediction after fitting once:\", nn.predict([]))"
   ]
  },
  {
   "cell_type": "markdown",
   "metadata": {},
   "source": [
    "## Activation functions\n",
    "### Linear\n",
    "$y=x$\n",
    "<br>$y'=1$ <br>"
   ]
  },
  {
   "cell_type": "code",
   "execution_count": null,
   "metadata": {
    "jupyter": {
     "outputs_hidden": false
    }
   },
   "outputs": [],
   "source": [
    "import matplotlib.pyplot as plt\n",
    "%matplotlib inline\n",
    "x=np.linspace(-5,5,2000)\n",
    "y=x\n",
    "plt.plot(x,y)\n",
    "plt.title(\"Linear activation\");"
   ]
  },
  {
   "cell_type": "markdown",
   "metadata": {},
   "source": [
    "### tanh\n",
    "$y=\\tanh(x)$\n",
    "<br>$y\\in(-1,1)$\n",
    "<br>$y'=1-y^2$\n",
    "\n"
   ]
  },
  {
   "cell_type": "code",
   "execution_count": null,
   "metadata": {
    "jupyter": {
     "outputs_hidden": false
    }
   },
   "outputs": [],
   "source": [
    "x=np.linspace(-5,5,2000)\n",
    "y=np.tanh(x)\n",
    "plt.plot(x,y)\n",
    "plt.title(\"tanh\");"
   ]
  },
  {
   "cell_type": "markdown",
   "metadata": {},
   "source": [
    "### sigmoid\n",
    "$y={\\displaystyle \\frac{1}{1+e^{-x}} }$\n",
    "<br><br>$y\\in(0,1)$\n",
    "<br>$y'=y(1-y)$<br>"
   ]
  },
  {
   "cell_type": "code",
   "execution_count": null,
   "metadata": {
    "jupyter": {
     "outputs_hidden": false
    }
   },
   "outputs": [],
   "source": [
    "x=np.linspace(-5,5,2000)\n",
    "y=1/(1+np.exp(-x))\n",
    "plt.plot(x,y)\n",
    "plt.title(\"sigmoid\");"
   ]
  },
  {
   "cell_type": "markdown",
   "metadata": {},
   "source": [
    "### ReLU\n",
    "$y={\\displaystyle \\begin{equation}\n",
    "\\begin{cases} &x \\:\\:\\: x\\geqslant0 \\\\\n",
    "& 0 \\:\\:\\: x<0\n",
    "\\end{cases}\n",
    "\\end{equation}}$\n",
    "<br><br>$y\\in[0,\\infty)$\n",
    "<br><br>$y'=\\begin{equation}\n",
    "\\begin{cases}\n",
    "& 1\\:\\:\\: x\\geqslant0 \\\\\n",
    "& 0\\:\\:\\: x<0\n",
    "\\end{cases}\n",
    "\\end{equation}$\n"
   ]
  },
  {
   "cell_type": "code",
   "execution_count": null,
   "metadata": {
    "jupyter": {
     "outputs_hidden": false
    }
   },
   "outputs": [],
   "source": [
    "x=np.linspace(-5,5,2000)\n",
    "y=x*(x>=0)\n",
    "plt.plot(x,y)\n",
    "plt.title(\"ReLU (Rectified Linear Unit)\");"
   ]
  },
  {
   "cell_type": "markdown",
   "metadata": {},
   "source": [
    "### softmax\n",
    "$y_i=f_i(\\vec{x})={\\displaystyle \\frac{e^{x_i}}{\\sum_{j=1}^J e^{x_j}}}$\n",
    "<br>$y_i\\in[0,1]$\n",
    "<br><br>${\\displaystyle \\frac{\\partial y_i}{\\partial x_j}=y_i(\\delta_{ij}-y_j)}$\n",
    "\n",
    "\n",
    "### Many more activation functions\n",
    "[Check here](https://en.wikipedia.org/wiki/Activation_function)"
   ]
  },
  {
   "cell_type": "markdown",
   "metadata": {},
   "source": [
    "## Some useful materials for better understanding NN\n",
    "[Neural Networks, Manifolds, and Topology - Colah's blog](http://colah.github.io/posts/2014-03-NN-Manifolds-Topology/)<br>\n",
    "[How the backpropagation algorithm works - Neural Networks and Deep Learning](http://neuralnetworksanddeeplearning.com/chap2.html\n",
    ")"
   ]
  }
 ],
 "metadata": {
  "anaconda-cloud": {},
  "kernelspec": {
   "display_name": "Python 3",
   "language": "python",
   "name": "python3"
  },
  "language_info": {
   "codemirror_mode": {
    "name": "ipython",
    "version": 3
   },
   "file_extension": ".py",
   "mimetype": "text/x-python",
   "name": "python",
   "nbconvert_exporter": "python",
   "pygments_lexer": "ipython3",
   "version": "3.9.12"
  }
 },
 "nbformat": 4,
 "nbformat_minor": 4
}
