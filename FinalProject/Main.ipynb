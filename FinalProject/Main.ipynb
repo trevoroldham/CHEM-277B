{
  "cells": [
    {
      "cell_type": "markdown",
      "source": [
        "### Importing ANI Tools and Viewing Data"
      ],
      "metadata": {
        "id": "dfjPzdgl1WA3"
      },
      "id": "dfjPzdgl1WA3"
    },
    {
      "cell_type": "code",
      "execution_count": 1,
      "id": "bb6f6a4e",
      "metadata": {
        "id": "bb6f6a4e"
      },
      "outputs": [],
      "source": [
        "import pyanitools as pya\n",
        "import pandas as pd\n",
        "import numpy as np\n",
        "import torch\n",
        "from sys import exit\n",
        "\n",
        "# Set the HDF5 file containing the data\n",
        "hdf5file = 'ani_gdb_s01.h5'\n",
        "\n",
        "# Construct the data loader class\n",
        "adl = pya.anidataloader(hdf5file)\n",
        "\n",
        "p = []\n",
        "x = []\n",
        "e = []\n",
        "s = []\n",
        "sm = []\n",
        "i = 0\n",
        "\n",
        "for data in adl:\n",
        "    if (i >= 10):\n",
        "        break\n",
        "    # Extract the data\n",
        "    p.append(data['path'])\n",
        "    x.append(data['coordinates'])\n",
        "    e.append(data['energies'])\n",
        "    s.append(data['species'])\n",
        "    sm.append(data['smiles'])\n",
        "    i+=1\n",
        "    \n",
        "\n",
        "\n",
        "\n",
        "# Closes the H5 data file\n",
        "adl.cleanup()\n"
      ]
    },
    {
      "cell_type": "code",
      "execution_count": 26,
      "id": "1fc76e4a",
      "metadata": {
        "id": "1fc76e4a"
      },
      "outputs": [],
      "source": [
        "from pyanitools import anidataloader\n",
        "# data = anidataloader(\"../../ANI1_dataset/ANI-1_release/ani_gdb_s07.h5\")\n",
        "data = anidataloader(\"ani_gdb_s01.h5\")\n",
        "data_iter = data.__iter__()"
      ]
    },
    {
      "cell_type": "code",
      "execution_count": 6,
      "id": "afbfde5e",
      "metadata": {
        "colab": {
          "base_uri": "https://localhost:8080/"
        },
        "id": "afbfde5e",
        "outputId": "f3fecb3b-136c-486e-e974-fbd64ab4fde6"
      },
      "outputs": [
        {
          "output_type": "stream",
          "name": "stdout",
          "text": [
            "Path:    /gdb11_s01/gdb11_s01-0\n",
            "  Smiles:       [H]C([H])([H])[H]\n",
            "  Symbols:      ['C', 'H', 'H', 'H', 'H']\n",
            "  Coordinates:  (5400, 5, 3)\n",
            "  Energies:     (5400,) \n",
            "\n",
            "  Energies:  [-40.48058817 -40.48311923 -40.48473545 ... -40.4961279  -40.45599721\n",
            " -40.46479283]\n",
            "(5400,)\n"
          ]
        }
      ],
      "source": [
        "mols = next(data_iter)\n",
        "# Extract the data\n",
        "P = mols['path']\n",
        "X = mols['coordinates']\n",
        "E = mols['energies']\n",
        "S = mols['species']\n",
        "sm = mols['smiles']\n",
        "\n",
        "# Print the data\n",
        "print(\"Path:   \", P)\n",
        "print(\"  Smiles:      \",\"\".join(sm))\n",
        "print(\"  Symbols:     \", S)\n",
        "print(\"  Coordinates: \", X.shape)\n",
        "print(\"  Energies:    \", E.shape, \"\\n\")\n",
        "print(\"  Energies: \", E)\n",
        "print(E.shape)"
      ]
    },
    {
      "cell_type": "code",
      "execution_count": null,
      "id": "ab1f6421",
      "metadata": {
        "colab": {
          "base_uri": "https://localhost:8080/"
        },
        "id": "ab1f6421",
        "outputId": "cb8db212-6597-4602-ca2d-e976b1a17511"
      },
      "outputs": [
        {
          "output_type": "stream",
          "name": "stdout",
          "text": [
            "3\n",
            "10800\n"
          ]
        }
      ],
      "source": [
        "data_iter = data.__iter__()\n",
        "count = 0\n",
        "count_conf = 0\n",
        "for mol in data_iter:\n",
        "    count += 1\n",
        "    count_conf += len(mol['energies'])\n",
        "print(count)\n",
        "print(count_conf)"
      ]
    },
    {
      "cell_type": "markdown",
      "source": [
        "### Installing Torchani and AEVComputer"
      ],
      "metadata": {
        "id": "dWYKTgrU1ioT"
      },
      "id": "dWYKTgrU1ioT"
    },
    {
      "cell_type": "code",
      "source": [
        "!pip install torchani"
      ],
      "metadata": {
        "colab": {
          "base_uri": "https://localhost:8080/"
        },
        "id": "0sTXGj3DzxxD",
        "outputId": "5dda105f-0ab2-49ba-e26f-65bc7d98481e"
      },
      "id": "0sTXGj3DzxxD",
      "execution_count": 3,
      "outputs": [
        {
          "output_type": "stream",
          "name": "stdout",
          "text": [
            "Looking in indexes: https://pypi.org/simple, https://us-python.pkg.dev/colab-wheels/public/simple/\n",
            "Collecting torchani\n",
            "  Downloading torchani-2.2.3-py3-none-any.whl (10.9 MB)\n",
            "\u001b[2K     \u001b[90m━━━━━━━━━━━━━━━━━━━━━━━━━━━━━━━━━━━━━━━━\u001b[0m \u001b[32m10.9/10.9 MB\u001b[0m \u001b[31m39.3 MB/s\u001b[0m eta \u001b[36m0:00:00\u001b[0m\n",
            "\u001b[?25hRequirement already satisfied: torch in /usr/local/lib/python3.9/dist-packages (from torchani) (2.0.0+cu118)\n",
            "Requirement already satisfied: requests in /usr/local/lib/python3.9/dist-packages (from torchani) (2.27.1)\n",
            "Collecting lark-parser\n",
            "  Downloading lark_parser-0.12.0-py2.py3-none-any.whl (103 kB)\n",
            "\u001b[2K     \u001b[90m━━━━━━━━━━━━━━━━━━━━━━━━━━━━━━━━━━━━━━━\u001b[0m \u001b[32m103.5/103.5 kB\u001b[0m \u001b[31m8.4 MB/s\u001b[0m eta \u001b[36m0:00:00\u001b[0m\n",
            "\u001b[?25hRequirement already satisfied: importlib-metadata in /usr/local/lib/python3.9/dist-packages (from torchani) (6.4.1)\n",
            "Requirement already satisfied: zipp>=0.5 in /usr/local/lib/python3.9/dist-packages (from importlib-metadata->torchani) (3.15.0)\n",
            "Requirement already satisfied: idna<4,>=2.5 in /usr/local/lib/python3.9/dist-packages (from requests->torchani) (3.4)\n",
            "Requirement already satisfied: urllib3<1.27,>=1.21.1 in /usr/local/lib/python3.9/dist-packages (from requests->torchani) (1.26.15)\n",
            "Requirement already satisfied: charset-normalizer~=2.0.0 in /usr/local/lib/python3.9/dist-packages (from requests->torchani) (2.0.12)\n",
            "Requirement already satisfied: certifi>=2017.4.17 in /usr/local/lib/python3.9/dist-packages (from requests->torchani) (2022.12.7)\n",
            "Requirement already satisfied: triton==2.0.0 in /usr/local/lib/python3.9/dist-packages (from torch->torchani) (2.0.0)\n",
            "Requirement already satisfied: filelock in /usr/local/lib/python3.9/dist-packages (from torch->torchani) (3.11.0)\n",
            "Requirement already satisfied: sympy in /usr/local/lib/python3.9/dist-packages (from torch->torchani) (1.11.1)\n",
            "Requirement already satisfied: jinja2 in /usr/local/lib/python3.9/dist-packages (from torch->torchani) (3.1.2)\n",
            "Requirement already satisfied: networkx in /usr/local/lib/python3.9/dist-packages (from torch->torchani) (3.1)\n",
            "Requirement already satisfied: typing-extensions in /usr/local/lib/python3.9/dist-packages (from torch->torchani) (4.5.0)\n",
            "Requirement already satisfied: lit in /usr/local/lib/python3.9/dist-packages (from triton==2.0.0->torch->torchani) (16.0.1)\n",
            "Requirement already satisfied: cmake in /usr/local/lib/python3.9/dist-packages (from triton==2.0.0->torch->torchani) (3.25.2)\n",
            "Requirement already satisfied: MarkupSafe>=2.0 in /usr/local/lib/python3.9/dist-packages (from jinja2->torch->torchani) (2.1.2)\n",
            "Requirement already satisfied: mpmath>=0.19 in /usr/local/lib/python3.9/dist-packages (from sympy->torch->torchani) (1.3.0)\n",
            "Installing collected packages: lark-parser, torchani\n",
            "Successfully installed lark-parser-0.12.0 torchani-2.2.3\n"
          ]
        }
      ]
    },
    {
      "cell_type": "code",
      "execution_count": 4,
      "id": "7c4a7005",
      "metadata": {
        "id": "7c4a7005",
        "colab": {
          "base_uri": "https://localhost:8080/"
        },
        "outputId": "df19745a-a25a-4faf-d556-6a455470e82f"
      },
      "outputs": [
        {
          "output_type": "stream",
          "name": "stderr",
          "text": [
            "/usr/local/lib/python3.9/dist-packages/torchani/aev.py:16: UserWarning: cuaev not installed\n",
            "  warnings.warn(\"cuaev not installed\")\n",
            "/usr/local/lib/python3.9/dist-packages/torchani/__init__.py:55: UserWarning: Dependency not satisfied, torchani.ase will not be available\n",
            "  warnings.warn(\"Dependency not satisfied, torchani.ase will not be available\")\n"
          ]
        }
      ],
      "source": [
        "import torchani\n",
        "from torchani import AEVComputer\n",
        "Rcr = 5.2\n",
        "EtaR = torch.tensor([16], dtype=torch.float)\n",
        "ShfR = torch.tensor([0.900000,1.168750,1.437500,1.706250,1.975000,2.243750,2.51250,2.781250,3.050000,3.318750,3.587500,3.856250,4.125000,4.39375,4.662500,4.931250])\n",
        "Rca = 3.5\n",
        "EtaA = torch.tensor([8], dtype=torch.float)\n",
        "ShfA = torch.tensor([0.900000,1.550000,2.200000,2.850000], dtype=torch.float)\n",
        "ShfZ = torch.tensor([0.19634954,0.58904862,0.9817477,1.3744468,1.7671459,2.1598449,2.552544,2.945243]) \n",
        "Zeta = torch.tensor([32], dtype=torch.float)\n",
        "species_order = ['H', 'C', 'N', 'O']\n",
        "num_species = len(species_order)\n",
        "\n",
        "aev_computer = torchani.AEVComputer(Rcr, Rca, EtaR, ShfR, EtaA, ShfA, ShfZ, Zeta, num_species)\n"
      ]
    },
    {
      "cell_type": "code",
      "execution_count": 7,
      "id": "93bdffd6",
      "metadata": {
        "id": "93bdffd6"
      },
      "outputs": [],
      "source": [
        "import numpy as np\n",
        "aev_converter = torchani.AEVComputer(Rcr, Rca, EtaR, ShfR, EtaA, Zeta, ShfA, ShfZ, num_species)\n",
        "mapping = {\"H\": 0, \"C\" : 1, \"N\": 2, \"O\": 3}\n",
        "species = np.array([mapping[atom] for atom in S])\n",
        "species = np.tile(species, (X.shape[0], 1))\n",
        "species = torch.tensor(species)\n",
        "X = torch.tensor(X)"
      ]
    },
    {
      "cell_type": "markdown",
      "source": [
        "### Running the AEV Computer on first Molecule in All Configurations"
      ],
      "metadata": {
        "id": "vri6GJK5NN28"
      },
      "id": "vri6GJK5NN28"
    },
    {
      "cell_type": "code",
      "source": [
        "aev_output = aev_computer((species, X)) #SPecies: (Number, Atoms) A in [0, 1, 2, 3] Coords: (N, A, 3) Output : (N, A, 384)\n",
        "aev_output[1].shape"
      ],
      "metadata": {
        "colab": {
          "base_uri": "https://localhost:8080/"
        },
        "id": "19NdXE4zz-Af",
        "outputId": "c9e0dd2c-8218-4344-b722-a4626c2fe8f3"
      },
      "id": "19NdXE4zz-Af",
      "execution_count": 8,
      "outputs": [
        {
          "output_type": "execute_result",
          "data": {
            "text/plain": [
              "torch.Size([5400, 5, 384])"
            ]
          },
          "metadata": {},
          "execution_count": 8
        }
      ]
    },
    {
      "cell_type": "code",
      "execution_count": 9,
      "id": "a349c73a",
      "metadata": {
        "id": "a349c73a"
      },
      "outputs": [],
      "source": [
        "device = torch.device('cuda' if torch.cuda.is_available() else 'cpu')\n"
      ]
    },
    {
      "cell_type": "markdown",
      "source": [
        "### Defining MLP Model with Torch"
      ],
      "metadata": {
        "id": "cx-V-jD11qFu"
      },
      "id": "cx-V-jD11qFu"
    },
    {
      "cell_type": "code",
      "execution_count": 12,
      "id": "4538b3ea",
      "metadata": {
        "id": "4538b3ea"
      },
      "outputs": [],
      "source": [
        "import torch\n",
        "from torch import nn\n",
        "\n",
        "class ANI(nn.Module):\n",
        "    def __init__(self):\n",
        "        super().__init__()\n",
        "        self.sub_nets = nn.ModuleDict({\n",
        "            \"C\" : ANI_sub(),\n",
        "            \"H\" : ANI_sub(),\n",
        "            \"N\" : ANI_sub(),\n",
        "            \"O\" : ANI_sub()})\n",
        "        #print(self.sub_nets)\n",
        "\n",
        "    def forward(self, aevs, atom_types):\n",
        "        #atomic_energies = [self.sub_nets[atom_types[i]](aevs[i]) for i in range(aevs.shape[1])]\n",
        "        atomic_energies = [self.sub_nets[atom_types[i]](aevs[:, i, :]) for i in range(aevs.shape[1])]\n",
        "        \n",
        "        atomic_energies = torch.cat(atomic_energies, dim=1)\n",
        "        total_energies = torch.sum(atomic_energies, dim=1)\n",
        "        \n",
        "\n",
        "        return total_energies\n",
        "\n",
        "class ANI_sub(nn.Module):\n",
        "    def __init__(self):\n",
        "        super().__init__()\n",
        "        self.layers = nn.Sequential(\n",
        "            nn.Linear(384, 128),\n",
        "            nn.GELU(),\n",
        "            nn.Linear(128, 128),\n",
        "            nn.GELU(),\n",
        "            nn.Linear(128, 64),\n",
        "            nn.GELU(),\n",
        "            nn.Linear(64, 1)\n",
        "        )\n",
        "\n",
        "    def forward(self, aev):\n",
        "        atomic_energy = self.layers(aev)\n",
        "        return atomic_energy\n"
      ]
    },
    {
      "cell_type": "code",
      "execution_count": 13,
      "id": "ea76fa86",
      "metadata": {
        "id": "ea76fa86",
        "outputId": "34a2856f-e7b8-4377-8334-b1b49bd9f80a",
        "colab": {
          "base_uri": "https://localhost:8080/"
        }
      },
      "outputs": [
        {
          "output_type": "stream",
          "name": "stdout",
          "text": [
            "['C', 'H', 'H', 'H', 'H']\n",
            "torch.Size([5400])\n",
            "tensor([-0.0490, -0.0489, -0.0483,  ..., -0.0485, -0.0497, -0.0484],\n",
            "       grad_fn=<SumBackward1>)\n"
          ]
        }
      ],
      "source": [
        "from torchsummary import summary\n",
        "model = ANI()\n",
        "species = S\n",
        "print(species)\n",
        "\n",
        "out_tensor = model(aev_output[1], S)\n",
        "print(out_tensor.size())\n",
        "print(out_tensor)"
      ]
    },
    {
      "cell_type": "markdown",
      "source": [
        "### Defining Torch Trainer Class"
      ],
      "metadata": {
        "id": "hyahp7X81vU_"
      },
      "id": "hyahp7X81vU_"
    },
    {
      "cell_type": "code",
      "execution_count": 15,
      "id": "f8fcbb17",
      "metadata": {
        "id": "f8fcbb17"
      },
      "outputs": [],
      "source": [
        "from functools import wraps\n",
        "from time import time\n",
        "\n",
        "def timing(f):\n",
        "    @wraps(f)\n",
        "    def wrap(*args, **kw):\n",
        "        ts = time()\n",
        "        result = f(*args, **kw)\n",
        "        te = time()\n",
        "        print('func:%r  took: %2.4f sec' % (f.__name__,  te-ts))\n",
        "        return result\n",
        "    return wrap"
      ]
    },
    {
      "cell_type": "code",
      "execution_count": 68,
      "id": "aa5a2a7f",
      "metadata": {
        "id": "aa5a2a7f"
      },
      "outputs": [],
      "source": [
        "@timing      \n",
        "def train(model, inputs, species, outputs, epochs, learning_rate):    \n",
        "    ### convert data to tensor of correct shape and type here ###\n",
        "    inputs = torch.tensor(inputs, dtype=torch.float32)\n",
        "    outputs = torch.tensor(outputs, dtype=torch.float32)\n",
        "    \n",
        "    \n",
        "    model = model\n",
        "    \n",
        "    \n",
        "    optimizer = torch.optim.Adam(model.parameters(), lr=learning_rate)\n",
        "    \n",
        "    losses = []\n",
        "    weights = model.state_dict()\n",
        "\n",
        "    for epoch in range(epochs):\n",
        "      model.train()\n",
        "      epoch_loss = 0\n",
        "\n",
        "      batch_predictions = model.forward(inputs, species)\n",
        "      loss_func = nn.MSELoss()\n",
        "      loss = loss_func(batch_predictions, outputs)\n",
        "\n",
        "      optimizer.zero_grad()\n",
        "      loss.backward()\n",
        "      optimizer.step()\n",
        "      ### Compute epoch_loss\n",
        "      epoch_loss = evaluate(model, inputs, species, outputs)  \n",
        "      losses.append(epoch_loss)\n",
        "    return {\"losses\": losses}\n",
        "\n",
        "def evaluate(model, inputs, species, outputs):\n",
        "        \"\"\" evaluate model on provided input and output\n",
        "        inputs: np.array, The shape of input_transform(input) should be (ndata,nfeatures)\n",
        "        outputs: np.array shape (ndata,)\n",
        "        print_acc: bool\n",
        "        \n",
        "        @return\n",
        "        losses: float\n",
        "        acc: float\n",
        "        \"\"\"\n",
        "        inputs = torch.tensor(inputs, dtype=torch.float32)\n",
        "        outputs = torch.tensor(outputs, dtype=torch.float32)\n",
        "\n",
        "        loss_func = nn.MSELoss()\n",
        "        pred = model.forward(inputs, species)\n",
        "        losses = loss_func(pred, outputs)\n",
        "        return losses\n"
      ]
    },
    {
      "cell_type": "markdown",
      "source": [
        "### Testing train() function on First Molecule in All Configurations"
      ],
      "metadata": {
        "id": "wMBNR_L0Ngj2"
      },
      "id": "wMBNR_L0Ngj2"
    },
    {
      "cell_type": "code",
      "execution_count": 18,
      "id": "6e11aea6",
      "metadata": {
        "id": "6e11aea6",
        "colab": {
          "base_uri": "https://localhost:8080/"
        },
        "outputId": "f715ebaf-9207-4d8a-a854-4106307e8ea3"
      },
      "outputs": [
        {
          "output_type": "stream",
          "name": "stderr",
          "text": [
            "<ipython-input-16-6dfaa19614dc>:4: UserWarning: To copy construct from a tensor, it is recommended to use sourceTensor.clone().detach() or sourceTensor.clone().detach().requires_grad_(True), rather than torch.tensor(sourceTensor).\n",
            "  inputs = torch.tensor(inputs, dtype=torch.float32)\n"
          ]
        },
        {
          "output_type": "stream",
          "name": "stdout",
          "text": [
            "func:'train'  took: 8.3858 sec\n"
          ]
        }
      ],
      "source": [
        "model = ANI()\n",
        "out_dict = train(model, aev_output[1], S, E, epochs = 10, learning_rate = 0.01)"
      ]
    },
    {
      "cell_type": "code",
      "source": [
        "print(out_dict)\n",
        "model.forward(aev_output[1], S)\n"
      ],
      "metadata": {
        "colab": {
          "base_uri": "https://localhost:8080/"
        },
        "id": "y0-RAmo7LSzy",
        "outputId": "ac29a51f-c88f-4dc1-e447-af5dd8e06b46"
      },
      "id": "y0-RAmo7LSzy",
      "execution_count": 19,
      "outputs": [
        {
          "output_type": "stream",
          "name": "stdout",
          "text": [
            "{'losses': [tensor(1579.9133, grad_fn=<MseLossBackward0>), tensor(1310.0375, grad_fn=<MseLossBackward0>), tensor(757.7924, grad_fn=<MseLossBackward0>), tensor(70.8014, grad_fn=<MseLossBackward0>), tensor(939.4914, grad_fn=<MseLossBackward0>), tensor(159.8139, grad_fn=<MseLossBackward0>), tensor(34.1986, grad_fn=<MseLossBackward0>), tensor(237.3652, grad_fn=<MseLossBackward0>), tensor(351.6028, grad_fn=<MseLossBackward0>), tensor(336.2389, grad_fn=<MseLossBackward0>)]}\n"
          ]
        },
        {
          "output_type": "execute_result",
          "data": {
            "text/plain": [
              "tensor([-21.6880, -21.5015, -22.8991,  ..., -21.9989, -21.4074, -22.2985],\n",
              "       grad_fn=<SumBackward1>)"
            ]
          },
          "metadata": {},
          "execution_count": 19
        }
      ]
    },
    {
      "cell_type": "markdown",
      "source": [
        "### Iterating over all Molecules in Input Set"
      ],
      "metadata": {
        "id": "zeFmwRg1Noju"
      },
      "id": "zeFmwRg1Noju"
    },
    {
      "cell_type": "code",
      "source": [
        "# from torch.utils.data import DataLoader, TensorDataset\n",
        "\n",
        "# model = ANI()\n",
        "# data_iter = data.__iter__()\n",
        "# out = []\n",
        "\n",
        "# for i in range(count):\n",
        "#   mols = next(data_iter)\n",
        "#   #  Extract the data\n",
        "#   P = mols['path']\n",
        "#   X = mols['coordinates']\n",
        "#   E = mols['energies']\n",
        "#   S = mols['species']\n",
        "#   sm = mols['smiles']\n",
        "\n",
        "#   print(f\"Training ANI Model on Molecule {i}\")\n",
        "#   print(P)\n",
        "#   print(S)\n",
        "#   species = np.array([mapping[atom] for atom in S])\n",
        "#   species = np.tile(species, (X.shape[0], 1))\n",
        "#   species = torch.tensor(species)\n",
        "#   X = torch.tensor(X)\n",
        "\n",
        "#   aev_output = aev_computer((species, X)) #SPecies: (Number, Atoms) A in [0, 1, 2, 3] Coords: (N, A, 3) Output : (N, A, 384)\n",
        "\n",
        "\n",
        "#   out.append(train(model, aev_output[1], S, E, epochs=10, learning_rate=1e-3))\n"
      ],
      "metadata": {
        "id": "xUGDolmoNune"
      },
      "id": "xUGDolmoNune",
      "execution_count": 129,
      "outputs": []
    },
    {
      "cell_type": "code",
      "source": [
        "from sklearn.model_selection import train_test_split"
      ],
      "metadata": {
        "id": "uiZwuYc_94IH"
      },
      "id": "uiZwuYc_94IH",
      "execution_count": 21,
      "outputs": []
    },
    {
      "cell_type": "markdown",
      "source": [
        "### Final Training and Testing Loop"
      ],
      "metadata": {
        "id": "aHfHHzfI9JUL"
      },
      "id": "aHfHHzfI9JUL"
    },
    {
      "cell_type": "code",
      "source": [
        "def data_gen(X, y, S):\n",
        "  species = np.array([mapping[atom] for atom in S])\n",
        "  species = np.tile(species, (X.shape[0], 1))\n",
        "  species = torch.tensor(species)\n",
        "  X = torch.tensor(X)\n",
        "  aev_output = aev_computer((species, X)) #SPecies: (Number, Atoms) A in [0, 1, 2, 3] Coords: (N, A, 3) Output : (N, A, 384)\n",
        "  return aev_output[1], y\n",
        "\n",
        "def evaluate(model, inputs, species, outputs):\n",
        " \n",
        "        inputs = torch.tensor(inputs, dtype=torch.float32)\n",
        "        outputs = torch.tensor(outputs, dtype=torch.float32)\n",
        "\n",
        "        loss_func = nn.MSELoss()\n",
        "        pred = model.forward(inputs, species)\n",
        "        losses = loss_func(pred, outputs)\n",
        "        return losses\n",
        "\n",
        "def train_and_test(data, model, epochs, learning_rate):\n",
        "\n",
        "  val_losses = []\n",
        "\n",
        "  for i in range(epochs):\n",
        "    print(\"Epoch: \", i)\n",
        "    for mol in data:\n",
        "          #for mol in d:\n",
        "          species = mol['species']\n",
        "          #coords = np.array(mol['coordinates'])\n",
        "          #energies = np.array(mol['energies'])\n",
        "          # Do train test split here on coords\n",
        "          X_train, X_test, y_train, y_test = train_test_split(mol['coordinates'], mol['energies'], test_size = 0.75)\n",
        "          train_gen = data_gen(X_train, y_train, species) #compute AEVs\n",
        "          test_gen = data_gen(X_test, y_test, species)\n",
        "          #for train_X, train_y in train_gen:\n",
        "              # train on one batch\n",
        "          train_X = train_gen[0]\n",
        "          train_y = train_gen[1]\n",
        "          inputs = torch.tensor(train_X, dtype=torch.float32)\n",
        "          outputs = torch.tensor(train_y, dtype=torch.float32)\n",
        "          model = model\n",
        "          optimizer = torch.optim.Adam(model.parameters(), lr=learning_rate)\n",
        "\n",
        "          \n",
        "          weights = model.state_dict()\n",
        "          model.train()\n",
        "\n",
        "          batch_predictions = model.forward(inputs, species)\n",
        "          loss_func = nn.MSELoss()\n",
        "          loss = loss_func(batch_predictions, outputs)\n",
        "\n",
        "          optimizer.zero_grad()\n",
        "          loss.backward()\n",
        "          optimizer.step()\n",
        "\n",
        "              \n",
        "          #validation here\n",
        "          test_X = test_gen[0]\n",
        "          test_y = test_gen[1]\n",
        "          val_loss = evaluate(model, test_X, species, test_y)\n",
        "          #val_loss = 0\n",
        "          val_losses.append(val_loss.detach().numpy())\n",
        "  #test here after training finished\n",
        "  return val_losses          \n"
      ],
      "metadata": {
        "id": "9MnY6ZihPPTY"
      },
      "id": "9MnY6ZihPPTY",
      "execution_count": 104,
      "outputs": []
    },
    {
      "cell_type": "code",
      "source": [
        "model = ANI()\n",
        "# Set the HDF5 file containing the data\n",
        "hdf5file = 'ani_gdb_s01.h5'\n",
        "\n",
        "# Construct the data loader class\n",
        "adl = pya.anidataloader(hdf5file)\n",
        "\n",
        "losses_vector = train_and_test(adl, model, 30, 0.0075)"
      ],
      "metadata": {
        "colab": {
          "base_uri": "https://localhost:8080/"
        },
        "id": "iYvFG4AqAhGY",
        "outputId": "fcfc7fb0-4766-4982-ae35-3af4952af330"
      },
      "id": "iYvFG4AqAhGY",
      "execution_count": 127,
      "outputs": [
        {
          "output_type": "stream",
          "name": "stdout",
          "text": [
            "Epoch:  0\n"
          ]
        },
        {
          "output_type": "stream",
          "name": "stderr",
          "text": [
            "<ipython-input-104-1f2ee82d4a9a>:38: UserWarning: To copy construct from a tensor, it is recommended to use sourceTensor.clone().detach() or sourceTensor.clone().detach().requires_grad_(True), rather than torch.tensor(sourceTensor).\n",
            "  inputs = torch.tensor(train_X, dtype=torch.float32)\n",
            "<ipython-input-104-1f2ee82d4a9a>:11: UserWarning: To copy construct from a tensor, it is recommended to use sourceTensor.clone().detach() or sourceTensor.clone().detach().requires_grad_(True), rather than torch.tensor(sourceTensor).\n",
            "  inputs = torch.tensor(inputs, dtype=torch.float32)\n"
          ]
        },
        {
          "output_type": "stream",
          "name": "stdout",
          "text": [
            "Epoch:  1\n",
            "Epoch:  2\n",
            "Epoch:  3\n",
            "Epoch:  4\n",
            "Epoch:  5\n",
            "Epoch:  6\n",
            "Epoch:  7\n",
            "Epoch:  8\n",
            "Epoch:  9\n",
            "Epoch:  10\n",
            "Epoch:  11\n",
            "Epoch:  12\n",
            "Epoch:  13\n",
            "Epoch:  14\n",
            "Epoch:  15\n",
            "Epoch:  16\n",
            "Epoch:  17\n",
            "Epoch:  18\n",
            "Epoch:  19\n",
            "Epoch:  20\n",
            "Epoch:  21\n",
            "Epoch:  22\n",
            "Epoch:  23\n",
            "Epoch:  24\n",
            "Epoch:  25\n",
            "Epoch:  26\n",
            "Epoch:  27\n",
            "Epoch:  28\n",
            "Epoch:  29\n"
          ]
        }
      ]
    },
    {
      "cell_type": "code",
      "source": [
        "import matplotlib.pyplot as plt\n",
        "print(len(losses_vector))\n",
        "\n",
        "plt.plot(np.linspace(0, 30, 90), losses_vector)\n",
        "plt.title(\"Validation Loss Over Epochs\")\n",
        "plt.xlabel(\"Epoch\")\n",
        "plt.ylabel(\"MSE Loss\")"
      ],
      "metadata": {
        "colab": {
          "base_uri": "https://localhost:8080/",
          "height": 506
        },
        "id": "Mk4EiEfUJyOI",
        "outputId": "4fd1ea67-9982-4a1a-8155-72aff0361f0e"
      },
      "id": "Mk4EiEfUJyOI",
      "execution_count": 128,
      "outputs": [
        {
          "output_type": "stream",
          "name": "stdout",
          "text": [
            "90\n"
          ]
        },
        {
          "output_type": "execute_result",
          "data": {
            "text/plain": [
              "Text(0, 0.5, 'MSE Loss')"
            ]
          },
          "metadata": {},
          "execution_count": 128
        },
        {
          "output_type": "display_data",
          "data": {
            "text/plain": [
              "<Figure size 640x480 with 1 Axes>"
            ],
            "image/png": "[encoded data removed]"
          },
          "metadata": {}
        }
      ]
    },
    {
      "cell_type": "code",
      "source": [],
      "metadata": {
        "id": "Qoq9P5ziMe7U"
      },
      "id": "Qoq9P5ziMe7U",
      "execution_count": null,
      "outputs": []
    }
  ],
  "metadata": {
    "kernelspec": {
      "display_name": "Python 3",
      "language": "python",
      "name": "python3"
    },
    "language_info": {
      "codemirror_mode": {
        "name": "ipython",
        "version": 3
      },
      "file_extension": ".py",
      "mimetype": "text/x-python",
      "name": "python",
      "nbconvert_exporter": "python",
      "pygments_lexer": "ipython3",
      "version": "3.9.12"
    },
    "colab": {
      "provenance": []
    }
  },
  "nbformat": 4,
  "nbformat_minor": 5
}