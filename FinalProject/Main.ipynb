{
  "nbformat": 4,
  "nbformat_minor": 0,
  "metadata": {
    "colab": {
      "provenance": []
    },
    "kernelspec": {
      "name": "python3",
      "display_name": "Python 3"
    },
    "language_info": {
      "name": "python"
    }
  },
  "cells": [
    {
      "cell_type": "markdown",
      "source": [
        "### PyTorch Implementation of Multilayer Perceptron for Calculating Molecular Energies"
      ],
      "metadata": {
        "id": "Q2rdwz4DX0Jw"
      }
    },
    {
      "cell_type": "markdown",
      "source": [
        "### Importing packages and helper functions"
      ],
      "metadata": {
        "id": "QgRN0w3KX_DM"
      }
    },
    {
      "cell_type": "code",
      "execution_count": 2,
      "metadata": {
        "id": "Fhek9cHdRJt5"
      },
      "outputs": [],
      "source": [
        "import pyanitools as pya\n",
        "import pandas as pd\n",
        "import numpy as np\n",
        "import torch\n",
        "from sys import exit\n",
        "from pyanitools import anidataloader"
      ]
    },
    {
      "cell_type": "markdown",
      "source": [
        "### Install Torchani"
      ],
      "metadata": {
        "id": "R417HZxfYEpl"
      }
    },
    {
      "cell_type": "code",
      "source": [
        "!pip install torchani"
      ],
      "metadata": {
        "colab": {
          "base_uri": "https://localhost:8080/"
        },
        "id": "F-yk0Wk1RZke",
        "outputId": "802d90ca-84e0-4532-c177-dd8472a29408"
      },
      "execution_count": 3,
      "outputs": [
        {
          "output_type": "stream",
          "name": "stdout",
          "text": [
            "Looking in indexes: https://pypi.org/simple, https://us-python.pkg.dev/colab-wheels/public/simple/\n",
            "Collecting torchani\n",
            "  Downloading torchani-2.2.3-py3-none-any.whl (10.9 MB)\n",
            "\u001b[2K     \u001b[90m━━━━━━━━━━━━━━━━━━━━━━━━━━━━━━━━━━━━━━━━\u001b[0m \u001b[32m10.9/10.9 MB\u001b[0m \u001b[31m72.3 MB/s\u001b[0m eta \u001b[36m0:00:00\u001b[0m\n",
            "\u001b[?25hRequirement already satisfied: torch in /usr/local/lib/python3.10/dist-packages (from torchani) (2.0.0+cu118)\n",
            "Collecting lark-parser (from torchani)\n",
            "  Downloading lark_parser-0.12.0-py2.py3-none-any.whl (103 kB)\n",
            "\u001b[2K     \u001b[90m━━━━━━━━━━━━━━━━━━━━━━━━━━━━━━━━━━━━━━\u001b[0m \u001b[32m103.5/103.5 kB\u001b[0m \u001b[31m12.2 MB/s\u001b[0m eta \u001b[36m0:00:00\u001b[0m\n",
            "\u001b[?25hRequirement already satisfied: requests in /usr/local/lib/python3.10/dist-packages (from torchani) (2.27.1)\n",
            "Requirement already satisfied: importlib-metadata in /usr/local/lib/python3.10/dist-packages (from torchani) (6.6.0)\n",
            "Requirement already satisfied: zipp>=0.5 in /usr/local/lib/python3.10/dist-packages (from importlib-metadata->torchani) (3.15.0)\n",
            "Requirement already satisfied: urllib3<1.27,>=1.21.1 in /usr/local/lib/python3.10/dist-packages (from requests->torchani) (1.26.15)\n",
            "Requirement already satisfied: certifi>=2017.4.17 in /usr/local/lib/python3.10/dist-packages (from requests->torchani) (2022.12.7)\n",
            "Requirement already satisfied: charset-normalizer~=2.0.0 in /usr/local/lib/python3.10/dist-packages (from requests->torchani) (2.0.12)\n",
            "Requirement already satisfied: idna<4,>=2.5 in /usr/local/lib/python3.10/dist-packages (from requests->torchani) (3.4)\n",
            "Requirement already satisfied: filelock in /usr/local/lib/python3.10/dist-packages (from torch->torchani) (3.12.0)\n",
            "Requirement already satisfied: typing-extensions in /usr/local/lib/python3.10/dist-packages (from torch->torchani) (4.5.0)\n",
            "Requirement already satisfied: sympy in /usr/local/lib/python3.10/dist-packages (from torch->torchani) (1.11.1)\n",
            "Requirement already satisfied: networkx in /usr/local/lib/python3.10/dist-packages (from torch->torchani) (3.1)\n",
            "Requirement already satisfied: jinja2 in /usr/local/lib/python3.10/dist-packages (from torch->torchani) (3.1.2)\n",
            "Requirement already satisfied: triton==2.0.0 in /usr/local/lib/python3.10/dist-packages (from torch->torchani) (2.0.0)\n",
            "Requirement already satisfied: cmake in /usr/local/lib/python3.10/dist-packages (from triton==2.0.0->torch->torchani) (3.25.2)\n",
            "Requirement already satisfied: lit in /usr/local/lib/python3.10/dist-packages (from triton==2.0.0->torch->torchani) (16.0.2)\n",
            "Requirement already satisfied: MarkupSafe>=2.0 in /usr/local/lib/python3.10/dist-packages (from jinja2->torch->torchani) (2.1.2)\n",
            "Requirement already satisfied: mpmath>=0.19 in /usr/local/lib/python3.10/dist-packages (from sympy->torch->torchani) (1.3.0)\n",
            "Installing collected packages: lark-parser, torchani\n",
            "Successfully installed lark-parser-0.12.0 torchani-2.2.3\n"
          ]
        }
      ]
    },
    {
      "cell_type": "markdown",
      "source": [
        "### Import Torchani AEVComputer for Data Processing"
      ],
      "metadata": {
        "id": "WZDUSoMUYHim"
      }
    },
    {
      "cell_type": "code",
      "source": [
        "import torchani\n",
        "from torchani import AEVComputer\n",
        "Rcr = 5.2\n",
        "EtaR = torch.tensor([16], dtype=torch.float)\n",
        "ShfR = torch.tensor([0.900000,1.168750,1.437500,1.706250,1.975000,2.243750,2.51250,2.781250,3.050000,3.318750,3.587500,3.856250,4.125000,4.39375,4.662500,4.931250])\n",
        "Rca = 3.5\n",
        "EtaA = torch.tensor([8], dtype=torch.float)\n",
        "ShfA = torch.tensor([0.900000,1.550000,2.200000,2.850000], dtype=torch.float)\n",
        "ShfZ = torch.tensor([0.19634954,0.58904862,0.9817477,1.3744468,1.7671459,2.1598449,2.552544,2.945243]) \n",
        "Zeta = torch.tensor([32], dtype=torch.float)\n",
        "species_order = ['H', 'C', 'N', 'O']\n",
        "num_species = len(species_order)\n",
        "\n",
        "aev_computer = torchani.AEVComputer(Rcr, Rca, EtaR, ShfR, EtaA, ShfA, ShfZ, Zeta, num_species)"
      ],
      "metadata": {
        "colab": {
          "base_uri": "https://localhost:8080/"
        },
        "id": "h8yHhpOWRiNH",
        "outputId": "d4ebe25f-008a-44f1-ca05-ad49a9a331f2"
      },
      "execution_count": 4,
      "outputs": [
        {
          "output_type": "stream",
          "name": "stderr",
          "text": [
            "/usr/local/lib/python3.10/dist-packages/torchani/aev.py:16: UserWarning: cuaev not installed\n",
            "  warnings.warn(\"cuaev not installed\")\n",
            "/usr/local/lib/python3.10/dist-packages/torchani/__init__.py:55: UserWarning: Dependency not satisfied, torchani.ase will not be available\n",
            "  warnings.warn(\"Dependency not satisfied, torchani.ase will not be available\")\n"
          ]
        }
      ]
    },
    {
      "cell_type": "markdown",
      "source": [
        "### Set device to GPU for accelerated vector operations and training"
      ],
      "metadata": {
        "id": "pGqcoiMAYOua"
      }
    },
    {
      "cell_type": "code",
      "source": [
        "device = torch.device('cuda' if torch.cuda.is_available() else 'cpu')"
      ],
      "metadata": {
        "id": "cjrXHS_XRmp1"
      },
      "execution_count": 5,
      "outputs": []
    },
    {
      "cell_type": "markdown",
      "source": [
        "### Define Torch Model for Multilayer Perceptron"
      ],
      "metadata": {
        "id": "TwMnFoSjYVuk"
      }
    },
    {
      "cell_type": "code",
      "source": [
        "import torch\n",
        "from torch import nn\n",
        "\n",
        "class ANI(nn.Module):\n",
        "    def __init__(self):\n",
        "        super().__init__()\n",
        "        self.sub_nets = nn.ModuleDict({\n",
        "            \"C\" : ANI_sub(),\n",
        "            \"H\" : ANI_sub(),\n",
        "            \"N\" : ANI_sub(),\n",
        "            \"O\" : ANI_sub()})\n",
        "        #print(self.sub_nets)\n",
        "\n",
        "    def forward(self, aevs, atom_types):\n",
        "        #atomic_energies = [self.sub_nets[atom_types[i]](aevs[i]) for i in range(aevs.shape[1])]\n",
        "        atomic_energies = [self.sub_nets[atom_types[i]](aevs[:, i, :]) for i in range(aevs.shape[1])]\n",
        "        \n",
        "        atomic_energies = torch.cat(atomic_energies, dim=1)\n",
        "        total_energies = torch.sum(atomic_energies, dim=1)\n",
        "        \n",
        "\n",
        "        return total_energies\n",
        "\n",
        "class ANI_sub(nn.Module):\n",
        "    def __init__(self):\n",
        "        super().__init__()\n",
        "        self.layers = nn.Sequential(\n",
        "            nn.Linear(384, 128),\n",
        "            nn.GELU(),\n",
        "            nn.Linear(128, 128),\n",
        "            nn.GELU(),\n",
        "            nn.Linear(128, 64),\n",
        "            nn.GELU(),\n",
        "            nn.Linear(64, 1)\n",
        "        )\n",
        "\n",
        "    def forward(self, aev):\n",
        "        atomic_energy = self.layers(aev)\n",
        "        return atomic_energy\n"
      ],
      "metadata": {
        "id": "ywlYblfGRsAt"
      },
      "execution_count": 6,
      "outputs": []
    },
    {
      "cell_type": "markdown",
      "source": [
        "### Define Function for Training and Validation"
      ],
      "metadata": {
        "id": "aLFJZXMFYuYa"
      }
    },
    {
      "cell_type": "code",
      "source": [
        "from sklearn.model_selection import train_test_split\n",
        "def data_gen(X, y, S):\n",
        "  mapping = {\"H\": 0, \"C\" : 1, \"N\": 2, \"O\": 3}\n",
        "  species = np.array([mapping[atom] for atom in S])\n",
        "  species = np.tile(species, (X.shape[0], 1))\n",
        "  species = torch.tensor(species)\n",
        "  X = torch.tensor(X)\n",
        "  aev_output = aev_computer((species, X)) #SPecies: (Number, Atoms) A in [0, 1, 2, 3] Coords: (N, A, 3) Output : (N, A, 384)\n",
        "  return aev_output[1], y\n",
        "\n",
        "def evaluate(model, inputs, species, outputs):\n",
        " \n",
        "        inputs = torch.tensor(inputs, dtype=torch.float32)\n",
        "        outputs = torch.tensor(outputs, dtype=torch.float32)\n",
        "\n",
        "        loss_func = nn.MSELoss()\n",
        "        pred = model.forward(inputs, species)\n",
        "        losses = loss_func(pred, outputs)\n",
        "        return losses\n",
        "\n",
        "def train_and_test(data, model, epochs, learning_rate):\n",
        "\n",
        "  val_losses = []\n",
        "\n",
        "  for i in range(epochs):\n",
        "    print(\"Epoch: \", i)\n",
        "    for mol in data:\n",
        "          #for mol in d:\n",
        "          species = mol['species']\n",
        "          #coords = np.array(mol['coordinates'])\n",
        "          #energies = np.array(mol['energies'])\n",
        "          # Do train test split here on coords\n",
        "          X_train, X_test, y_train, y_test = train_test_split(mol['coordinates'], mol['energies'], test_size = 0.75)\n",
        "          train_gen = data_gen(X_train, y_train, species) #compute AEVs\n",
        "          test_gen = data_gen(X_test, y_test, species)\n",
        "          #for train_X, train_y in train_gen:\n",
        "              # train on one batch\n",
        "          train_X = train_gen[0]\n",
        "          train_y = train_gen[1]\n",
        "          inputs = torch.tensor(train_X, dtype=torch.float32)\n",
        "          outputs = torch.tensor(train_y, dtype=torch.float32)\n",
        "          model = model\n",
        "          optimizer = torch.optim.Adam(model.parameters(), lr=learning_rate)\n",
        "\n",
        "          \n",
        "          weights = model.state_dict()\n",
        "          model.train()\n",
        "\n",
        "          batch_predictions = model.forward(inputs, species)\n",
        "          loss_func = nn.MSELoss()\n",
        "          loss = loss_func(batch_predictions, outputs)\n",
        "\n",
        "          optimizer.zero_grad()\n",
        "          loss.backward()\n",
        "          optimizer.step()\n",
        "\n",
        "              \n",
        "          #validation here\n",
        "          test_X = test_gen[0]\n",
        "          test_y = test_gen[1]\n",
        "          val_loss = evaluate(model, test_X, species, test_y)\n",
        "          #val_loss = 0\n",
        "          val_losses.append(val_loss.detach().numpy())\n",
        "  #test here after training finished\n",
        "  return val_losses          \n"
      ],
      "metadata": {
        "id": "_xaK_g58RzRL"
      },
      "execution_count": 22,
      "outputs": []
    },
    {
      "cell_type": "markdown",
      "source": [
        "### Create the ANI Model, Load ANI Data, and Train the Model"
      ],
      "metadata": {
        "id": "UqQmxkUaY2R9"
      }
    },
    {
      "cell_type": "code",
      "source": [
        "model = ANI()\n",
        "# Set the HDF5 file containing the data\n",
        "hdf5file = 'ani_gdb_s01.h5'\n",
        "\n",
        "# Construct the data loader class\n",
        "adl = pya.anidataloader(hdf5file)\n",
        "\n",
        "losses_vector = train_and_test(adl, model, 30, 0.005)"
      ],
      "metadata": {
        "colab": {
          "base_uri": "https://localhost:8080/"
        },
        "id": "caGvSIZaR5ld",
        "outputId": "6fde907f-60ef-48c6-fb00-ca8c0568cf94"
      },
      "execution_count": 20,
      "outputs": [
        {
          "output_type": "stream",
          "name": "stdout",
          "text": [
            "Epoch:  0\n"
          ]
        },
        {
          "output_type": "stream",
          "name": "stderr",
          "text": [
            "<ipython-input-11-6091bcc15606>:40: UserWarning: To copy construct from a tensor, it is recommended to use sourceTensor.clone().detach() or sourceTensor.clone().detach().requires_grad_(True), rather than torch.tensor(sourceTensor).\n",
            "  inputs = torch.tensor(train_X, dtype=torch.float32)\n",
            "<ipython-input-11-6091bcc15606>:13: UserWarning: To copy construct from a tensor, it is recommended to use sourceTensor.clone().detach() or sourceTensor.clone().detach().requires_grad_(True), rather than torch.tensor(sourceTensor).\n",
            "  inputs = torch.tensor(inputs, dtype=torch.float32)\n"
          ]
        },
        {
          "output_type": "stream",
          "name": "stdout",
          "text": [
            "Epoch:  1\n",
            "Epoch:  2\n",
            "Epoch:  3\n",
            "Epoch:  4\n",
            "Epoch:  5\n",
            "Epoch:  6\n",
            "Epoch:  7\n",
            "Epoch:  8\n",
            "Epoch:  9\n",
            "Epoch:  10\n",
            "Epoch:  11\n",
            "Epoch:  12\n",
            "Epoch:  13\n",
            "Epoch:  14\n",
            "Epoch:  15\n",
            "Epoch:  16\n",
            "Epoch:  17\n",
            "Epoch:  18\n",
            "Epoch:  19\n",
            "Epoch:  20\n",
            "Epoch:  21\n",
            "Epoch:  22\n",
            "Epoch:  23\n",
            "Epoch:  24\n",
            "Epoch:  25\n",
            "Epoch:  26\n",
            "Epoch:  27\n",
            "Epoch:  28\n",
            "Epoch:  29\n"
          ]
        }
      ]
    },
    {
      "cell_type": "markdown",
      "source": [
        "### Plot Validation Loss over the Training Epochs"
      ],
      "metadata": {
        "id": "VYflo3G0ZEbG"
      }
    },
    {
      "cell_type": "code",
      "source": [
        "import matplotlib.pyplot as plt\n",
        "print(len(losses_vector))\n",
        "\n",
        "plt.plot(np.linspace(0, 30, 90), losses_vector)\n",
        "plt.title(\"Validation Loss Over Epochs\")\n",
        "plt.xlabel(\"Epoch\")\n",
        "plt.ylabel(\"MSE Loss\")"
      ],
      "metadata": {
        "colab": {
          "base_uri": "https://localhost:8080/",
          "height": 509
        },
        "id": "qSxdIW38R-GL",
        "outputId": "0141283b-afa3-4475-b804-854c67f0ff5f"
      },
      "execution_count": 21,
      "outputs": [
        {
          "output_type": "stream",
          "name": "stdout",
          "text": [
            "90\n"
          ]
        },
        {
          "output_type": "execute_result",
          "data": {
            "text/plain": [
              "Text(0, 0.5, 'MSE Loss')"
            ]
          },
          "metadata": {},
          "execution_count": 21
        },
        {
          "output_type": "display_data",
          "data": {
            "text/plain": [
              "<Figure size 640x480 with 1 Axes>"
            ],
            "image/png": "[encoded data removed]"
          },
          "metadata": {}
        }
      ]
    },
    {
      "cell_type": "code",
      "source": [
        "data = anidataloader(\"ani_gdb_s01.h5\")\n",
        "data_iter = data.__iter__()\n",
        "mols = next(data_iter)\n",
        "# Extract the data\n",
        "S = ''\n",
        "sm = mols['smiles']\n",
        "S = S.join(sm)\n",
        "test_gen = data_gen(mols['coordinates'], mols['energies'], mols['species'])\n",
        "X = test_gen[0]\n",
        "y = test_gen[1]\n",
        "\n",
        "mol_1_test_loss = evaluate(model, X, mols['species'], y)\n",
        "print(f'MSE Loss on {S} data: {mol_1_test_loss}')\n",
        "\n",
        "mols = next(data_iter)\n",
        "# Extract the data'\n",
        "S = ''\n",
        "sm = mols['smiles']\n",
        "S = S.join(sm)\n",
        "test_gen = data_gen(mols['coordinates'], mols['energies'], mols['species'])\n",
        "X = test_gen[0]\n",
        "y = test_gen[1]\n",
        "\n",
        "mol_2_test_loss = evaluate(model, X, mols['species'], y)\n",
        "print(f'MSE Loss on {S} data: {mol_2_test_loss}')\n",
        "\n",
        "mols = next(data_iter)\n",
        "# Extract the data\n",
        "S = ''\n",
        "sm = mols['smiles']\n",
        "S = S.join(sm)\n",
        "test_gen = data_gen(mols['coordinates'], mols['energies'], mols['species'])\n",
        "X = test_gen[0]\n",
        "y = test_gen[1]\n",
        "\n",
        "mol_3_test_loss = evaluate(model, X, mols['species'], y)\n",
        "print(f'MSE Loss on {S} data: {mol_3_test_loss}')"
      ],
      "metadata": {
        "colab": {
          "base_uri": "https://localhost:8080/"
        },
        "id": "soPfac2PSUg3",
        "outputId": "4309dfb9-e428-47e9-b2df-43669e5e195e"
      },
      "execution_count": 34,
      "outputs": [
        {
          "output_type": "stream",
          "name": "stderr",
          "text": [
            "<ipython-input-22-6091bcc15606>:13: UserWarning: To copy construct from a tensor, it is recommended to use sourceTensor.clone().detach() or sourceTensor.clone().detach().requires_grad_(True), rather than torch.tensor(sourceTensor).\n",
            "  inputs = torch.tensor(inputs, dtype=torch.float32)\n"
          ]
        },
        {
          "output_type": "stream",
          "name": "stdout",
          "text": [
            "MSE Loss on [H]C([H])([H])[H] data: 264.22198486328125\n",
            "MSE Loss on [H]N([H])[H] data: 10.494019508361816\n",
            "MSE Loss on [H]O[H] data: 19.128007888793945\n"
          ]
        }
      ]
    },
    {
      "cell_type": "code",
      "source": [],
      "metadata": {
        "id": "Tuua-xWnc0pz"
      },
      "execution_count": null,
      "outputs": []
    }
  ]
}